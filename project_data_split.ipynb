{
 "cells": [
  {
   "cell_type": "code",
   "execution_count": 2,
   "id": "c08b35e6-01fd-4272-907b-f242f68e7380",
   "metadata": {},
   "outputs": [],
   "source": [
    "import pandas as pd\n",
    "import numpy as np\n",
    "import gc\n",
    "import sys\n",
    "import os\n",
    "import torch\n",
    "from tqdm import tqdm"
   ]
  },
  {
   "cell_type": "code",
   "execution_count": 4,
   "id": "a6d94192-b512-47d0-8174-7da0a6f67fff",
   "metadata": {},
   "outputs": [],
   "source": [
    "if False:\n",
    "    !kaggle datasets download -d robikscube/ubiquant-parquet -p /home/ubuntu/data/ubiquant\n",
    "    !unzip -q /home/ubuntu/data/ubiquant/ubiquant-parquet.zip -d /home/ubuntu/data/ubiquant\n",
    "dir_train = '/home/ubuntu/data/ubiquant'"
   ]
  },
  {
   "cell_type": "markdown",
   "id": "1f8e50af-cf03-4587-937e-a481f95cd94d",
   "metadata": {},
   "source": [
    "# How the Split is done"
   ]
  },
  {
   "cell_type": "code",
   "execution_count": null,
   "id": "e9c9b530-3a39-4bb7-bdd4-d710a0b07277",
   "metadata": {},
   "outputs": [],
   "source": [
    "if False:\n",
    "    # First download the parquet version of the data from kaggle\n",
    "    !kaggle datasets download -d robikscube/ubiquant-parquet -p /home/ubuntu/data/ubiquant\n",
    "    !unzip -q /home/ubuntu/data/ubiquant/ubiquant-parquet.zip -d /home/ubuntu/data/ubiquant\n",
    "\n",
    "    # This is how the original Data was split\n",
    "    complete_data = pd.read_parquet(os.path.join(dir_train, 'train_low_mem.parquet'))\n",
    "    train = complete_data[complete_data['time_id'] <= 847]\n",
    "    val = complete_data[(complete_data['time_id'] > 847) & (complete_data['time_id'] <= 1089)]\n",
    "    test = complete_data[complete_data['time_id'] > 1089]\n",
    "\n",
    "    train.to_parquet('/home/ubuntu/data/ubiquant/split/train_839_low_mem.parquet.gzip',compression='gzip')\n",
    "    val.to_parquet('/home/ubuntu/data/ubiquant/split/val_848to1089_low_mem.parquet.gzip',compression='gzip')\n",
    "    test.to_parquet('/home/ubuntu/data/ubiquant/split/test_1090to1219_low_mem.parquet.gzip',compression='gzip')\n",
    "    \n",
    "    # Split version of the data has been uploaded to Kaggle"
   ]
  },
  {
   "cell_type": "markdown",
   "id": "4ef1bdeb-6968-4726-8433-c54bb1911397",
   "metadata": {},
   "source": [
    "# Download and Load in"
   ]
  },
  {
   "cell_type": "code",
   "execution_count": 23,
   "id": "1797ec75-c22d-495e-b77b-736c653a593e",
   "metadata": {},
   "outputs": [
    {
     "name": "stdout",
     "output_type": "stream",
     "text": [
      "Downloading ubiquant-split.zip to /home/ubuntu/data/try\n",
      "100%|█████████████████████████████████████▉| 3.38G/3.39G [00:56<00:00, 71.6MB/s]\n",
      "100%|██████████████████████████████████████| 3.39G/3.39G [00:56<00:00, 64.6MB/s]\n"
     ]
    }
   ],
   "source": [
    "!kaggle datasets download -d yoffoy/ubiquant-split -p /home/ubuntu/data\n",
    "!unzip -q /home/ubuntu/data/ubiquant-split.zip -d /home/ubuntu/data"
   ]
  },
  {
   "cell_type": "code",
   "execution_count": 25,
   "id": "7691bdcc-5f92-430e-a0b9-3d30bba75d7a",
   "metadata": {},
   "outputs": [],
   "source": [
    "train = pd.read_parquet(os.path.join(dir_train, 'split/test_1090to1219_low_mem.parquet.gzip'))\n",
    "train.reset_index(drop=True, inplace=True) # Reset index if needed, the split data kept the index from the complete dataset"
   ]
  },
  {
   "cell_type": "code",
   "execution_count": null,
   "id": "c2152f43-439e-4718-9d3f-e4d6b1cd6c58",
   "metadata": {},
   "outputs": [],
   "source": [
    "val = pd.read_parquet(os.path.join(dir_train, 'split/val_848to1089_low_mem.parquet.gzip'))\n",
    "val.reset_index(drop=True, inplace=True) # Reset index if needed, the split data kept the index from the complete dataset"
   ]
  },
  {
   "cell_type": "code",
   "execution_count": null,
   "id": "7ef1dc2a-ed94-4807-9b73-b41257e4706f",
   "metadata": {},
   "outputs": [],
   "source": [
    "val = pd.read_parquet(os.path.join(dir_train, 'split/val_848to1089_low_mem.parquet.gzip'))\n",
    "val.reset_index(drop=True, inplace=True) # Reset index if needed, the split data kept the index from the complete dataset"
   ]
  }
 ],
 "metadata": {
  "kernelspec": {
   "display_name": "Python 3 (ipykernel)",
   "language": "python",
   "name": "python3"
  },
  "language_info": {
   "codemirror_mode": {
    "name": "ipython",
    "version": 3
   },
   "file_extension": ".py",
   "mimetype": "text/x-python",
   "name": "python",
   "nbconvert_exporter": "python",
   "pygments_lexer": "ipython3",
   "version": "3.9.7"
  }
 },
 "nbformat": 4,
 "nbformat_minor": 5
}
