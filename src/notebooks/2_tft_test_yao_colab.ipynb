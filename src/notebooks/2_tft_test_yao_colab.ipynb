{
  "cells": [
    {
      "cell_type": "code",
      "source": [
        "# install some packages\n",
        "\n",
        "# for easy downloading from google drive\n",
        "!pip install gdown \n",
        "\n",
        "# for loading parquet\n",
        "!pip install pyarrow\n",
        "!pip install fastparquet\n",
        "\n",
        "# for models\n",
        "!pip install pytorch_lightning\n",
        "!pip install pytorch-forecasting"
      ],
      "metadata": {
        "id": "Rf4EqRIxzKxA"
      },
      "execution_count": null,
      "outputs": []
    },
    {
      "cell_type": "code",
      "source": [
        "# setup Kaggle\n",
        "!pip install --upgrade --force-reinstall --no-deps kaggle\n",
        "!mkdir /root/.kaggle\n",
        "import json\n",
        "token = {\"username\":\"yoffoy\",\"key\":\"????\"}\n",
        "!pwd\n",
        "with open('/root/.kaggle/kaggle.json', 'w') as file:\n",
        "    json.dump(token, file)\n",
        "for i in range(2):\n",
        "    !chmod 600 /root/.kaggle/kaggle.json\n",
        "    !cp /root/.kaggle/kaggle.json ~/.kaggle/\n",
        "    !kaggle config set -n path -v /root\n",
        "    !cat /root/.kaggle/kaggle.json"
      ],
      "metadata": {
        "id": "olDfUjMy8EG-",
        "colab": {
          "base_uri": "https://localhost:8080/"
        },
        "outputId": "b6c6d546-bdfe-4ad7-dcf9-6f0b93616c10"
      },
      "execution_count": null,
      "outputs": [
        {
          "output_type": "stream",
          "name": "stdout",
          "text": [
            "Collecting kaggle\n",
            "  Downloading kaggle-1.5.12.tar.gz (58 kB)\n",
            "\u001b[?25l\r\u001b[K     |█████▋                          | 10 kB 14.1 MB/s eta 0:00:01\r\u001b[K     |███████████▏                    | 20 kB 20.4 MB/s eta 0:00:01\r\u001b[K     |████████████████▊               | 30 kB 25.3 MB/s eta 0:00:01\r\u001b[K     |██████████████████████▎         | 40 kB 23.5 MB/s eta 0:00:01\r\u001b[K     |███████████████████████████▉    | 51 kB 26.1 MB/s eta 0:00:01\r\u001b[K     |████████████████████████████████| 58 kB 5.6 MB/s \n",
            "\u001b[?25hBuilding wheels for collected packages: kaggle\n",
            "  Building wheel for kaggle (setup.py) ... \u001b[?25l\u001b[?25hdone\n",
            "  Created wheel for kaggle: filename=kaggle-1.5.12-py3-none-any.whl size=73051 sha256=4dd5ae390e2d210c199fd8efd927933ecb2a6aa5ffe626e69420614f6831d787\n",
            "  Stored in directory: /root/.cache/pip/wheels/62/d6/58/5853130f941e75b2177d281eb7e44b4a98ed46dd155f556dc5\n",
            "Successfully built kaggle\n",
            "Installing collected packages: kaggle\n",
            "  Attempting uninstall: kaggle\n",
            "    Found existing installation: kaggle 1.5.12\n",
            "    Uninstalling kaggle-1.5.12:\n",
            "      Successfully uninstalled kaggle-1.5.12\n",
            "Successfully installed kaggle-1.5.12\n",
            "/content\n",
            "cp: '/root/.kaggle/kaggle.json' and '/root/.kaggle/kaggle.json' are the same file\n",
            "- path is now set to: /root\n",
            "{\n",
            "  \"username\": \"yoffoy\",\n",
            "  \"key\": \"28775e476cb4bc85480d4b20b6bb47a4\",\n",
            "  \"path\": \"/root\"\n",
            "}cp: '/root/.kaggle/kaggle.json' and '/root/.kaggle/kaggle.json' are the same file\n",
            "- path is now set to: /root\n",
            "{\n",
            "  \"username\": \"yoffoy\",\n",
            "  \"key\": \"28775e476cb4bc85480d4b20b6bb47a4\",\n",
            "  \"path\": \"/root\"\n",
            "}"
          ]
        }
      ]
    },
    {
      "cell_type": "code",
      "execution_count": null,
      "metadata": {
        "id": "poKYjLNFy6_M"
      },
      "outputs": [],
      "source": [
        "import os\n",
        "import sys\n",
        "import pickle\n",
        "\n",
        "\n",
        "import pandas as pd\n",
        "import numpy as np\n",
        "import math\n",
        "import matplotlib.pyplot as plt\n",
        "import seaborn as sns\n",
        "import gc\n",
        "\n",
        "import torch\n",
        "import torch.nn as nn\n",
        "import torch.nn.functional as F\n",
        "import torch.optim as optim\n",
        "from torch.utils.data import Dataset, DataLoader\n",
        "\n",
        "import torchvision\n",
        "import torchvision.transforms as ttf\n",
        "\n",
        "import os\n",
        "import os.path as osp\n",
        "\n",
        "from tqdm import tqdm\n",
        "from sklearn.metrics import roc_auc_score\n"
      ]
    },
    {
      "cell_type": "markdown",
      "source": [
        "# Download Data & Create Test DataFrame"
      ],
      "metadata": {
        "id": "oQqb3QDtBMNO"
      }
    },
    {
      "cell_type": "code",
      "execution_count": null,
      "metadata": {
        "id": "_PUhKvK7y6_N",
        "colab": {
          "base_uri": "https://localhost:8080/"
        },
        "outputId": "a6160ed7-c69a-4b88-cf14-dbfddf488a77"
      },
      "outputs": [
        {
          "output_type": "stream",
          "name": "stdout",
          "text": [
            "Downloading ubiquant-parquet.zip to /content/ubiquant\n",
            "100% 12.5G/12.5G [02:03<00:00, 130MB/s]\n",
            "100% 12.5G/12.5G [02:03<00:00, 109MB/s]\n"
          ]
        }
      ],
      "source": [
        "if True: # download unprocessed data in parquet form\n",
        "    !kaggle datasets download -d robikscube/ubiquant-parquet -p /content/ubiquant\n",
        "    !unzip -q /content/ubiquant/ubiquant-parquet.zip -d /content/ubiquant"
      ]
    },
    {
      "cell_type": "code",
      "source": [
        "df = pd.read_parquet('/content/ubiquant/train_low_mem.parquet')\n"
      ],
      "metadata": {
        "id": "86FXACpfJBKZ"
      },
      "execution_count": null,
      "outputs": []
    },
    {
      "cell_type": "code",
      "source": [
        "!gdown 1QBvxnH4Jb_wZ5lMf1ATSssEwo3UTQmQn -O /content/ubiquant/test_500_ids.pkl\n",
        "\n",
        "with open('/content/ubiquant/test_500_ids.pkl', 'rb') as f:\n",
        "    test_500_ids = pickle.load(f)"
      ],
      "metadata": {
        "id": "DY4mEadYJBNH",
        "colab": {
          "base_uri": "https://localhost:8080/"
        },
        "outputId": "bde0ffc2-e75a-4ce3-d463-71aa02c04854"
      },
      "execution_count": null,
      "outputs": [
        {
          "output_type": "stream",
          "name": "stdout",
          "text": [
            "Downloading...\n",
            "From: https://drive.google.com/uc?id=1QBvxnH4Jb_wZ5lMf1ATSssEwo3UTQmQn\n",
            "To: /content/ubiquant/test_500_ids.pkl\n",
            "\r  0% 0.00/1.49k [00:00<?, ?B/s]\r100% 1.49k/1.49k [00:00<00:00, 2.36MB/s]\n"
          ]
        }
      ]
    },
    {
      "cell_type": "code",
      "source": [
        "test_df = df[(df['investment_id'].isin(test_500_ids)) & (df['time_id'] >= 1100)]"
      ],
      "metadata": {
        "id": "tK-0slWKuRwx"
      },
      "execution_count": null,
      "outputs": []
    },
    {
      "cell_type": "code",
      "source": [
        "test_df.investment_id = test_df.investment_id.astype(str)\n",
        "test_df.time_id = test_df.time_id.astype(int)\n",
        "test_df.dtypes"
      ],
      "metadata": {
        "colab": {
          "base_uri": "https://localhost:8080/"
        },
        "id": "pTrHFL5XuaWD",
        "outputId": "0d817da7-7319-4fcf-bbfd-01dceaa0e10f"
      },
      "execution_count": null,
      "outputs": [
        {
          "output_type": "stream",
          "name": "stderr",
          "text": [
            "/usr/local/lib/python3.7/dist-packages/pandas/core/generic.py:5516: SettingWithCopyWarning: \n",
            "A value is trying to be set on a copy of a slice from a DataFrame.\n",
            "Try using .loc[row_indexer,col_indexer] = value instead\n",
            "\n",
            "See the caveats in the documentation: https://pandas.pydata.org/pandas-docs/stable/user_guide/indexing.html#returning-a-view-versus-a-copy\n",
            "  self[name] = value\n"
          ]
        },
        {
          "output_type": "execute_result",
          "data": {
            "text/plain": [
              "row_id            object\n",
              "time_id            int64\n",
              "investment_id     object\n",
              "target           float32\n",
              "f_0              float32\n",
              "                  ...   \n",
              "f_295            float32\n",
              "f_296            float32\n",
              "f_297            float32\n",
              "f_298            float32\n",
              "f_299            float32\n",
              "Length: 304, dtype: object"
            ]
          },
          "metadata": {},
          "execution_count": 10
        }
      ]
    },
    {
      "cell_type": "code",
      "source": [
        "test_df"
      ],
      "metadata": {
        "colab": {
          "base_uri": "https://localhost:8080/",
          "height": 488
        },
        "id": "kcD5_Adeugl9",
        "outputId": "4ad8f3f4-55b8-40d4-dbf7-91c13e045752"
      },
      "execution_count": null,
      "outputs": [
        {
          "output_type": "execute_result",
          "data": {
            "text/plain": [
              "            row_id  time_id investment_id    target       f_0       f_1  \\\n",
              "2743821     1100_4     1100             4  2.001431 -1.856335 -0.534634   \n",
              "2743831    1100_16     1100            16  2.562713 -0.647350  1.246443   \n",
              "2743839    1100_28     1100            28 -0.046583  2.277458 -0.297993   \n",
              "2743840    1100_29     1100            29  0.004562  0.156907 -0.604645   \n",
              "2743844    1100_34     1100            34 -0.141138  1.119750 -2.016626   \n",
              "...            ...      ...           ...       ...       ...       ...   \n",
              "3141351  1219_3711     1219          3711 -1.187621  0.995189  0.190229   \n",
              "3141358  1219_3719     1219          3719 -0.580605 -0.228733  1.751094   \n",
              "3141369  1219_3730     1219          3730  0.365068  0.338434 -0.460131   \n",
              "3141395  1219_3757     1219          3757  1.567879 -1.848767  1.230805   \n",
              "3141409  1219_3773     1219          3773  1.212112 -0.089557  0.190229   \n",
              "\n",
              "              f_2       f_3       f_4       f_5  ...     f_290     f_291  \\\n",
              "2743821  0.812365 -0.181939  0.266184  2.398910  ... -0.558287  0.058620   \n",
              "2743831  0.256431 -0.122367 -0.094262 -1.953241  ...  2.193173 -1.497249   \n",
              "2743839  0.118446 -0.160365 -0.146017  1.389627  ...  0.219786 -1.378826   \n",
              "2743840 -0.037411 -0.079290 -0.127519  1.492638  ...  1.689814 -0.439729   \n",
              "2743844  0.703738 -0.210108  0.028373 -3.569144  ... -1.495973 -3.002694   \n",
              "...           ...       ...       ...       ...  ...       ...       ...   \n",
              "3141351 -0.927608  1.545319 -0.176870  0.420421  ... -0.317095  0.811402   \n",
              "3141358 -2.355600  1.359468  0.119455  0.015525  ... -0.803114  0.811402   \n",
              "3141369  1.522161 -0.456760  0.006015 -0.460537  ...  0.654942  0.811402   \n",
              "3141395  0.181467  1.399093  0.049054  0.616560  ...  0.137736 -1.232434   \n",
              "3141409 -0.548256  0.151205  0.079773  0.447962  ... -0.317095  0.811402   \n",
              "\n",
              "            f_292     f_293     f_294     f_295     f_296     f_297     f_298  \\\n",
              "2743821 -1.681110  0.154686 -1.041528  0.216318  1.526667  0.868935 -0.159243   \n",
              "2743831 -0.106696 -2.601423 -0.522216 -0.296990  1.375808  2.115156  0.036839   \n",
              "2743839 -0.566242  0.131817  1.997294 -0.634687 -1.269228 -1.331287 -0.424596   \n",
              "2743840 -0.273137  1.746683  0.396428 -0.288306  0.700139  2.522879 -1.392536   \n",
              "2743844 -0.198247  1.366903  3.095617  0.251274 -0.100225 -0.476354 -1.576642   \n",
              "...           ...       ...       ...       ...       ...       ...       ...   \n",
              "3141351  2.279778  0.875537  0.421628  0.288127 -0.075548  0.136557 -0.587762   \n",
              "3141358 -1.026077  0.875537 -2.371759  0.125203 -0.075548  2.065139 -0.769788   \n",
              "3141369 -0.909691 -1.142157  0.421628  0.002889 -0.075548 -0.128885  0.863475   \n",
              "3141395 -0.337345  0.875537 -2.371759  0.091494 -0.075548  0.853875 -1.416803   \n",
              "3141409  3.271590  0.875537  0.421628 -0.170709  1.363181 -0.563314  0.669586   \n",
              "\n",
              "            f_299  \n",
              "2743821  0.143675  \n",
              "2743831  0.309283  \n",
              "2743839 -0.588568  \n",
              "2743840 -0.246457  \n",
              "2743844  0.431461  \n",
              "...           ...  \n",
              "3141351 -0.733876  \n",
              "3141358  0.199461  \n",
              "3141369  0.093495  \n",
              "3141395  0.653864  \n",
              "3141409  0.456400  \n",
              "\n",
              "[51588 rows x 304 columns]"
            ],
            "text/html": [
              "\n",
              "  <div id=\"df-ba79bd11-8678-45fa-af12-ccff1a5930b1\">\n",
              "    <div class=\"colab-df-container\">\n",
              "      <div>\n",
              "<style scoped>\n",
              "    .dataframe tbody tr th:only-of-type {\n",
              "        vertical-align: middle;\n",
              "    }\n",
              "\n",
              "    .dataframe tbody tr th {\n",
              "        vertical-align: top;\n",
              "    }\n",
              "\n",
              "    .dataframe thead th {\n",
              "        text-align: right;\n",
              "    }\n",
              "</style>\n",
              "<table border=\"1\" class=\"dataframe\">\n",
              "  <thead>\n",
              "    <tr style=\"text-align: right;\">\n",
              "      <th></th>\n",
              "      <th>row_id</th>\n",
              "      <th>time_id</th>\n",
              "      <th>investment_id</th>\n",
              "      <th>target</th>\n",
              "      <th>f_0</th>\n",
              "      <th>f_1</th>\n",
              "      <th>f_2</th>\n",
              "      <th>f_3</th>\n",
              "      <th>f_4</th>\n",
              "      <th>f_5</th>\n",
              "      <th>...</th>\n",
              "      <th>f_290</th>\n",
              "      <th>f_291</th>\n",
              "      <th>f_292</th>\n",
              "      <th>f_293</th>\n",
              "      <th>f_294</th>\n",
              "      <th>f_295</th>\n",
              "      <th>f_296</th>\n",
              "      <th>f_297</th>\n",
              "      <th>f_298</th>\n",
              "      <th>f_299</th>\n",
              "    </tr>\n",
              "  </thead>\n",
              "  <tbody>\n",
              "    <tr>\n",
              "      <th>2743821</th>\n",
              "      <td>1100_4</td>\n",
              "      <td>1100</td>\n",
              "      <td>4</td>\n",
              "      <td>2.001431</td>\n",
              "      <td>-1.856335</td>\n",
              "      <td>-0.534634</td>\n",
              "      <td>0.812365</td>\n",
              "      <td>-0.181939</td>\n",
              "      <td>0.266184</td>\n",
              "      <td>2.398910</td>\n",
              "      <td>...</td>\n",
              "      <td>-0.558287</td>\n",
              "      <td>0.058620</td>\n",
              "      <td>-1.681110</td>\n",
              "      <td>0.154686</td>\n",
              "      <td>-1.041528</td>\n",
              "      <td>0.216318</td>\n",
              "      <td>1.526667</td>\n",
              "      <td>0.868935</td>\n",
              "      <td>-0.159243</td>\n",
              "      <td>0.143675</td>\n",
              "    </tr>\n",
              "    <tr>\n",
              "      <th>2743831</th>\n",
              "      <td>1100_16</td>\n",
              "      <td>1100</td>\n",
              "      <td>16</td>\n",
              "      <td>2.562713</td>\n",
              "      <td>-0.647350</td>\n",
              "      <td>1.246443</td>\n",
              "      <td>0.256431</td>\n",
              "      <td>-0.122367</td>\n",
              "      <td>-0.094262</td>\n",
              "      <td>-1.953241</td>\n",
              "      <td>...</td>\n",
              "      <td>2.193173</td>\n",
              "      <td>-1.497249</td>\n",
              "      <td>-0.106696</td>\n",
              "      <td>-2.601423</td>\n",
              "      <td>-0.522216</td>\n",
              "      <td>-0.296990</td>\n",
              "      <td>1.375808</td>\n",
              "      <td>2.115156</td>\n",
              "      <td>0.036839</td>\n",
              "      <td>0.309283</td>\n",
              "    </tr>\n",
              "    <tr>\n",
              "      <th>2743839</th>\n",
              "      <td>1100_28</td>\n",
              "      <td>1100</td>\n",
              "      <td>28</td>\n",
              "      <td>-0.046583</td>\n",
              "      <td>2.277458</td>\n",
              "      <td>-0.297993</td>\n",
              "      <td>0.118446</td>\n",
              "      <td>-0.160365</td>\n",
              "      <td>-0.146017</td>\n",
              "      <td>1.389627</td>\n",
              "      <td>...</td>\n",
              "      <td>0.219786</td>\n",
              "      <td>-1.378826</td>\n",
              "      <td>-0.566242</td>\n",
              "      <td>0.131817</td>\n",
              "      <td>1.997294</td>\n",
              "      <td>-0.634687</td>\n",
              "      <td>-1.269228</td>\n",
              "      <td>-1.331287</td>\n",
              "      <td>-0.424596</td>\n",
              "      <td>-0.588568</td>\n",
              "    </tr>\n",
              "    <tr>\n",
              "      <th>2743840</th>\n",
              "      <td>1100_29</td>\n",
              "      <td>1100</td>\n",
              "      <td>29</td>\n",
              "      <td>0.004562</td>\n",
              "      <td>0.156907</td>\n",
              "      <td>-0.604645</td>\n",
              "      <td>-0.037411</td>\n",
              "      <td>-0.079290</td>\n",
              "      <td>-0.127519</td>\n",
              "      <td>1.492638</td>\n",
              "      <td>...</td>\n",
              "      <td>1.689814</td>\n",
              "      <td>-0.439729</td>\n",
              "      <td>-0.273137</td>\n",
              "      <td>1.746683</td>\n",
              "      <td>0.396428</td>\n",
              "      <td>-0.288306</td>\n",
              "      <td>0.700139</td>\n",
              "      <td>2.522879</td>\n",
              "      <td>-1.392536</td>\n",
              "      <td>-0.246457</td>\n",
              "    </tr>\n",
              "    <tr>\n",
              "      <th>2743844</th>\n",
              "      <td>1100_34</td>\n",
              "      <td>1100</td>\n",
              "      <td>34</td>\n",
              "      <td>-0.141138</td>\n",
              "      <td>1.119750</td>\n",
              "      <td>-2.016626</td>\n",
              "      <td>0.703738</td>\n",
              "      <td>-0.210108</td>\n",
              "      <td>0.028373</td>\n",
              "      <td>-3.569144</td>\n",
              "      <td>...</td>\n",
              "      <td>-1.495973</td>\n",
              "      <td>-3.002694</td>\n",
              "      <td>-0.198247</td>\n",
              "      <td>1.366903</td>\n",
              "      <td>3.095617</td>\n",
              "      <td>0.251274</td>\n",
              "      <td>-0.100225</td>\n",
              "      <td>-0.476354</td>\n",
              "      <td>-1.576642</td>\n",
              "      <td>0.431461</td>\n",
              "    </tr>\n",
              "    <tr>\n",
              "      <th>...</th>\n",
              "      <td>...</td>\n",
              "      <td>...</td>\n",
              "      <td>...</td>\n",
              "      <td>...</td>\n",
              "      <td>...</td>\n",
              "      <td>...</td>\n",
              "      <td>...</td>\n",
              "      <td>...</td>\n",
              "      <td>...</td>\n",
              "      <td>...</td>\n",
              "      <td>...</td>\n",
              "      <td>...</td>\n",
              "      <td>...</td>\n",
              "      <td>...</td>\n",
              "      <td>...</td>\n",
              "      <td>...</td>\n",
              "      <td>...</td>\n",
              "      <td>...</td>\n",
              "      <td>...</td>\n",
              "      <td>...</td>\n",
              "      <td>...</td>\n",
              "    </tr>\n",
              "    <tr>\n",
              "      <th>3141351</th>\n",
              "      <td>1219_3711</td>\n",
              "      <td>1219</td>\n",
              "      <td>3711</td>\n",
              "      <td>-1.187621</td>\n",
              "      <td>0.995189</td>\n",
              "      <td>0.190229</td>\n",
              "      <td>-0.927608</td>\n",
              "      <td>1.545319</td>\n",
              "      <td>-0.176870</td>\n",
              "      <td>0.420421</td>\n",
              "      <td>...</td>\n",
              "      <td>-0.317095</td>\n",
              "      <td>0.811402</td>\n",
              "      <td>2.279778</td>\n",
              "      <td>0.875537</td>\n",
              "      <td>0.421628</td>\n",
              "      <td>0.288127</td>\n",
              "      <td>-0.075548</td>\n",
              "      <td>0.136557</td>\n",
              "      <td>-0.587762</td>\n",
              "      <td>-0.733876</td>\n",
              "    </tr>\n",
              "    <tr>\n",
              "      <th>3141358</th>\n",
              "      <td>1219_3719</td>\n",
              "      <td>1219</td>\n",
              "      <td>3719</td>\n",
              "      <td>-0.580605</td>\n",
              "      <td>-0.228733</td>\n",
              "      <td>1.751094</td>\n",
              "      <td>-2.355600</td>\n",
              "      <td>1.359468</td>\n",
              "      <td>0.119455</td>\n",
              "      <td>0.015525</td>\n",
              "      <td>...</td>\n",
              "      <td>-0.803114</td>\n",
              "      <td>0.811402</td>\n",
              "      <td>-1.026077</td>\n",
              "      <td>0.875537</td>\n",
              "      <td>-2.371759</td>\n",
              "      <td>0.125203</td>\n",
              "      <td>-0.075548</td>\n",
              "      <td>2.065139</td>\n",
              "      <td>-0.769788</td>\n",
              "      <td>0.199461</td>\n",
              "    </tr>\n",
              "    <tr>\n",
              "      <th>3141369</th>\n",
              "      <td>1219_3730</td>\n",
              "      <td>1219</td>\n",
              "      <td>3730</td>\n",
              "      <td>0.365068</td>\n",
              "      <td>0.338434</td>\n",
              "      <td>-0.460131</td>\n",
              "      <td>1.522161</td>\n",
              "      <td>-0.456760</td>\n",
              "      <td>0.006015</td>\n",
              "      <td>-0.460537</td>\n",
              "      <td>...</td>\n",
              "      <td>0.654942</td>\n",
              "      <td>0.811402</td>\n",
              "      <td>-0.909691</td>\n",
              "      <td>-1.142157</td>\n",
              "      <td>0.421628</td>\n",
              "      <td>0.002889</td>\n",
              "      <td>-0.075548</td>\n",
              "      <td>-0.128885</td>\n",
              "      <td>0.863475</td>\n",
              "      <td>0.093495</td>\n",
              "    </tr>\n",
              "    <tr>\n",
              "      <th>3141395</th>\n",
              "      <td>1219_3757</td>\n",
              "      <td>1219</td>\n",
              "      <td>3757</td>\n",
              "      <td>1.567879</td>\n",
              "      <td>-1.848767</td>\n",
              "      <td>1.230805</td>\n",
              "      <td>0.181467</td>\n",
              "      <td>1.399093</td>\n",
              "      <td>0.049054</td>\n",
              "      <td>0.616560</td>\n",
              "      <td>...</td>\n",
              "      <td>0.137736</td>\n",
              "      <td>-1.232434</td>\n",
              "      <td>-0.337345</td>\n",
              "      <td>0.875537</td>\n",
              "      <td>-2.371759</td>\n",
              "      <td>0.091494</td>\n",
              "      <td>-0.075548</td>\n",
              "      <td>0.853875</td>\n",
              "      <td>-1.416803</td>\n",
              "      <td>0.653864</td>\n",
              "    </tr>\n",
              "    <tr>\n",
              "      <th>3141409</th>\n",
              "      <td>1219_3773</td>\n",
              "      <td>1219</td>\n",
              "      <td>3773</td>\n",
              "      <td>1.212112</td>\n",
              "      <td>-0.089557</td>\n",
              "      <td>0.190229</td>\n",
              "      <td>-0.548256</td>\n",
              "      <td>0.151205</td>\n",
              "      <td>0.079773</td>\n",
              "      <td>0.447962</td>\n",
              "      <td>...</td>\n",
              "      <td>-0.317095</td>\n",
              "      <td>0.811402</td>\n",
              "      <td>3.271590</td>\n",
              "      <td>0.875537</td>\n",
              "      <td>0.421628</td>\n",
              "      <td>-0.170709</td>\n",
              "      <td>1.363181</td>\n",
              "      <td>-0.563314</td>\n",
              "      <td>0.669586</td>\n",
              "      <td>0.456400</td>\n",
              "    </tr>\n",
              "  </tbody>\n",
              "</table>\n",
              "<p>51588 rows × 304 columns</p>\n",
              "</div>\n",
              "      <button class=\"colab-df-convert\" onclick=\"convertToInteractive('df-ba79bd11-8678-45fa-af12-ccff1a5930b1')\"\n",
              "              title=\"Convert this dataframe to an interactive table.\"\n",
              "              style=\"display:none;\">\n",
              "        \n",
              "  <svg xmlns=\"http://www.w3.org/2000/svg\" height=\"24px\"viewBox=\"0 0 24 24\"\n",
              "       width=\"24px\">\n",
              "    <path d=\"M0 0h24v24H0V0z\" fill=\"none\"/>\n",
              "    <path d=\"M18.56 5.44l.94 2.06.94-2.06 2.06-.94-2.06-.94-.94-2.06-.94 2.06-2.06.94zm-11 1L8.5 8.5l.94-2.06 2.06-.94-2.06-.94L8.5 2.5l-.94 2.06-2.06.94zm10 10l.94 2.06.94-2.06 2.06-.94-2.06-.94-.94-2.06-.94 2.06-2.06.94z\"/><path d=\"M17.41 7.96l-1.37-1.37c-.4-.4-.92-.59-1.43-.59-.52 0-1.04.2-1.43.59L10.3 9.45l-7.72 7.72c-.78.78-.78 2.05 0 2.83L4 21.41c.39.39.9.59 1.41.59.51 0 1.02-.2 1.41-.59l7.78-7.78 2.81-2.81c.8-.78.8-2.07 0-2.86zM5.41 20L4 18.59l7.72-7.72 1.47 1.35L5.41 20z\"/>\n",
              "  </svg>\n",
              "      </button>\n",
              "      \n",
              "  <style>\n",
              "    .colab-df-container {\n",
              "      display:flex;\n",
              "      flex-wrap:wrap;\n",
              "      gap: 12px;\n",
              "    }\n",
              "\n",
              "    .colab-df-convert {\n",
              "      background-color: #E8F0FE;\n",
              "      border: none;\n",
              "      border-radius: 50%;\n",
              "      cursor: pointer;\n",
              "      display: none;\n",
              "      fill: #1967D2;\n",
              "      height: 32px;\n",
              "      padding: 0 0 0 0;\n",
              "      width: 32px;\n",
              "    }\n",
              "\n",
              "    .colab-df-convert:hover {\n",
              "      background-color: #E2EBFA;\n",
              "      box-shadow: 0px 1px 2px rgba(60, 64, 67, 0.3), 0px 1px 3px 1px rgba(60, 64, 67, 0.15);\n",
              "      fill: #174EA6;\n",
              "    }\n",
              "\n",
              "    [theme=dark] .colab-df-convert {\n",
              "      background-color: #3B4455;\n",
              "      fill: #D2E3FC;\n",
              "    }\n",
              "\n",
              "    [theme=dark] .colab-df-convert:hover {\n",
              "      background-color: #434B5C;\n",
              "      box-shadow: 0px 1px 3px 1px rgba(0, 0, 0, 0.15);\n",
              "      filter: drop-shadow(0px 1px 2px rgba(0, 0, 0, 0.3));\n",
              "      fill: #FFFFFF;\n",
              "    }\n",
              "  </style>\n",
              "\n",
              "      <script>\n",
              "        const buttonEl =\n",
              "          document.querySelector('#df-ba79bd11-8678-45fa-af12-ccff1a5930b1 button.colab-df-convert');\n",
              "        buttonEl.style.display =\n",
              "          google.colab.kernel.accessAllowed ? 'block' : 'none';\n",
              "\n",
              "        async function convertToInteractive(key) {\n",
              "          const element = document.querySelector('#df-ba79bd11-8678-45fa-af12-ccff1a5930b1');\n",
              "          const dataTable =\n",
              "            await google.colab.kernel.invokeFunction('convertToInteractive',\n",
              "                                                     [key], {});\n",
              "          if (!dataTable) return;\n",
              "\n",
              "          const docLinkHtml = 'Like what you see? Visit the ' +\n",
              "            '<a target=\"_blank\" href=https://colab.research.google.com/notebooks/data_table.ipynb>data table notebook</a>'\n",
              "            + ' to learn more about interactive tables.';\n",
              "          element.innerHTML = '';\n",
              "          dataTable['output_type'] = 'display_data';\n",
              "          await google.colab.output.renderOutput(dataTable, element);\n",
              "          const docLink = document.createElement('div');\n",
              "          docLink.innerHTML = docLinkHtml;\n",
              "          element.appendChild(docLink);\n",
              "        }\n",
              "      </script>\n",
              "    </div>\n",
              "  </div>\n",
              "  "
            ]
          },
          "metadata": {},
          "execution_count": 11
        }
      ]
    },
    {
      "cell_type": "markdown",
      "source": [
        "# Load Model"
      ],
      "metadata": {
        "id": "BRL6HwbaJBst"
      }
    },
    {
      "cell_type": "code",
      "source": [
        "import warnings\n",
        "warnings.filterwarnings('ignore')\n",
        "\n",
        "import pytorch_lightning as pl\n",
        "from pytorch_lightning.callbacks import EarlyStopping, LearningRateMonitor, ModelCheckpoint\n",
        "from pytorch_forecasting import TimeSeriesDataSet, TemporalFusionTransformer\n",
        "from pytorch_forecasting.data import GroupNormalizer\n",
        "from pytorch_forecasting.metrics import QuantileLoss\n",
        "from pytorch_lightning.loggers import WandbLogger\n"
      ],
      "metadata": {
        "id": "OJnb9b7wvUux"
      },
      "execution_count": null,
      "outputs": []
    },
    {
      "cell_type": "code",
      "source": [
        "# Download Trained Model\n",
        "! gdown 18cTuDxN43rrvlWsMU7BsCc92HMJ812C- -O /content/trained_model/tft_baseline_426.pth"
      ],
      "metadata": {
        "colab": {
          "base_uri": "https://localhost:8080/"
        },
        "id": "JEf4D5AOJBRu",
        "outputId": "1119e81f-b9ce-4a1f-dac9-35863a37b60f"
      },
      "execution_count": null,
      "outputs": [
        {
          "output_type": "stream",
          "name": "stdout",
          "text": [
            "Traceback (most recent call last):\n",
            "  File \"/usr/local/bin/gdown\", line 8, in <module>\n",
            "    sys.exit(main())\n",
            "  File \"/usr/local/lib/python3.7/dist-packages/gdown/cli.py\", line 166, in main\n",
            "    resume=args.continue_,\n",
            "  File \"/usr/local/lib/python3.7/dist-packages/gdown/download.py\", line 202, in download\n",
            "    for file in os.listdir(osp.dirname(output) or \".\"):\n",
            "FileNotFoundError: [Errno 2] No such file or directory: '/content/trained_model'\n"
          ]
        }
      ]
    },
    {
      "cell_type": "code",
      "source": [
        "# Download Dataset used for training\n",
        "! gdown 1SZAQ7_BC3ODEf5l7l1bVYpoEtJC3i4_l -O /content/pf_train_1000_samples.pf"
      ],
      "metadata": {
        "colab": {
          "base_uri": "https://localhost:8080/"
        },
        "id": "OeSOJw6Qu7i6",
        "outputId": "7e44c060-a848-49dd-ea06-08d18239602d"
      },
      "execution_count": null,
      "outputs": [
        {
          "output_type": "stream",
          "name": "stdout",
          "text": [
            "Downloading...\n",
            "From: https://drive.google.com/uc?id=1SZAQ7_BC3ODEf5l7l1bVYpoEtJC3i4_l\n",
            "To: /content/pf_train_1000_samples.pf\n",
            "100% 1.14G/1.14G [00:11<00:00, 102MB/s]\n"
          ]
        }
      ]
    },
    {
      "cell_type": "code",
      "source": [
        "# args taken from Han Li\n",
        "\n",
        "NUM_WORKERS = 4 # Use 4 for AWS\n",
        "\n",
        "\n",
        "# Baseline hyperparameters: \n",
        "# TFT_quantile_loss_tune_10\n",
        "# https://wandb.ai/11785_project/11785_project_tuning\n",
        "args = {\n",
        "    # ------------------------------\n",
        "    # Basic config\n",
        "    'random_seed': 11785,\n",
        "    'n_samples': 1000,\n",
        "    'batch_size': 64,\n",
        "    'n_workers' : NUM_WORKERS,\n",
        "    'criterion': {\n",
        "        'quantile': QuantileLoss(),\n",
        "#        'pearson': Pearson.Pearson(),   # Miao's implementation\n",
        "        'other': None,                  # TODO: check out other loss (e.g., MSE)\n",
        "    },\n",
        "    # ------------------------------\n",
        "    # Hyperparameters\n",
        "    'lr_s': 7e-3,\n",
        "    'hidden_size': 512,\n",
        "    'attention_head_size': 2,        # use multihead for large hidden size\n",
        "    'dropout': 0.1,\n",
        "    'hidden_continuous_size': 4,     # set to <= hidden_size\n",
        "    'output_size': 7,                # 7 quantiles for QuantileLoss by default\n",
        "    'reduce_on_plateau_patience': 4, # reduce learning rate if no improvement in validation loss after x epochs\n",
        "    'gradient_clip_val': 0.1,\n",
        "    # ------------------------------\n",
        "    # Logging\n",
        "    'log_interval': 5,               # log every n batches, set to None when try to find best lr\n",
        "    'wandb_entity': '11785_project',\n",
        "    'wandb_project': '11785_project_tuning',\n",
        "    'wandb_name': 'TFT_baseline_0426',\n",
        "}"
      ],
      "metadata": {
        "id": "wq3aZV5RuyGG"
      },
      "execution_count": null,
      "outputs": []
    },
    {
      "cell_type": "code",
      "source": [
        "n = args['n_samples']\n",
        "\n",
        "train_dataset = TimeSeriesDataSet.load(\"/content/pf_train_1000_samples.pf\")\n",
        "\n",
        "train_dataloader = train_dataset.to_dataloader(train=True, batch_size=args['batch_size'], num_workers=args['n_workers'])\n",
        "\n",
        "print(\"Load existing datasets completed:\")\n",
        "print(f\"Train dataset:  pf_train_{n}_samples.pf\")"
      ],
      "metadata": {
        "colab": {
          "base_uri": "https://localhost:8080/",
          "height": 397
        },
        "id": "rJMJhCxUu0Eq",
        "outputId": "39629890-1bc9-46c6-c55d-a4e4235e74d1"
      },
      "execution_count": null,
      "outputs": [
        {
          "output_type": "error",
          "ename": "AttributeError",
          "evalue": "ignored",
          "traceback": [
            "\u001b[0;31m---------------------------------------------------------------------------\u001b[0m",
            "\u001b[0;31mAttributeError\u001b[0m                            Traceback (most recent call last)",
            "\u001b[0;32m<ipython-input-18-4b095b42f7dd>\u001b[0m in \u001b[0;36m<module>\u001b[0;34m()\u001b[0m\n\u001b[1;32m      1\u001b[0m \u001b[0mn\u001b[0m \u001b[0;34m=\u001b[0m \u001b[0margs\u001b[0m\u001b[0;34m[\u001b[0m\u001b[0;34m'n_samples'\u001b[0m\u001b[0;34m]\u001b[0m\u001b[0;34m\u001b[0m\u001b[0;34m\u001b[0m\u001b[0m\n\u001b[1;32m      2\u001b[0m \u001b[0;34m\u001b[0m\u001b[0m\n\u001b[0;32m----> 3\u001b[0;31m \u001b[0mtrain_dataset\u001b[0m \u001b[0;34m=\u001b[0m \u001b[0mTimeSeriesDataSet\u001b[0m\u001b[0;34m.\u001b[0m\u001b[0mload\u001b[0m\u001b[0;34m(\u001b[0m\u001b[0;34m\"/content/pf_train_1000_samples.pf\"\u001b[0m\u001b[0;34m)\u001b[0m\u001b[0;34m\u001b[0m\u001b[0;34m\u001b[0m\u001b[0m\n\u001b[0m\u001b[1;32m      4\u001b[0m \u001b[0;34m\u001b[0m\u001b[0m\n\u001b[1;32m      5\u001b[0m \u001b[0mtrain_dataloader\u001b[0m \u001b[0;34m=\u001b[0m \u001b[0mtrain_dataset\u001b[0m\u001b[0;34m.\u001b[0m\u001b[0mto_dataloader\u001b[0m\u001b[0;34m(\u001b[0m\u001b[0mtrain\u001b[0m\u001b[0;34m=\u001b[0m\u001b[0;32mTrue\u001b[0m\u001b[0;34m,\u001b[0m \u001b[0mbatch_size\u001b[0m\u001b[0;34m=\u001b[0m\u001b[0margs\u001b[0m\u001b[0;34m[\u001b[0m\u001b[0;34m'batch_size'\u001b[0m\u001b[0;34m]\u001b[0m\u001b[0;34m,\u001b[0m \u001b[0mnum_workers\u001b[0m\u001b[0;34m=\u001b[0m\u001b[0margs\u001b[0m\u001b[0;34m[\u001b[0m\u001b[0;34m'n_workers'\u001b[0m\u001b[0;34m]\u001b[0m\u001b[0;34m)\u001b[0m\u001b[0;34m\u001b[0m\u001b[0;34m\u001b[0m\u001b[0m\n",
            "\u001b[0;32m/usr/local/lib/python3.7/dist-packages/pytorch_forecasting/data/timeseries.py\u001b[0m in \u001b[0;36mload\u001b[0;34m(cls, fname)\u001b[0m\n\u001b[1;32m    624\u001b[0m             \u001b[0mTimeSeriesDataSet\u001b[0m\u001b[0;34m\u001b[0m\u001b[0;34m\u001b[0m\u001b[0m\n\u001b[1;32m    625\u001b[0m         \"\"\"\n\u001b[0;32m--> 626\u001b[0;31m         \u001b[0mobj\u001b[0m \u001b[0;34m=\u001b[0m \u001b[0mtorch\u001b[0m\u001b[0;34m.\u001b[0m\u001b[0mload\u001b[0m\u001b[0;34m(\u001b[0m\u001b[0mfname\u001b[0m\u001b[0;34m)\u001b[0m\u001b[0;34m\u001b[0m\u001b[0;34m\u001b[0m\u001b[0m\n\u001b[0m\u001b[1;32m    627\u001b[0m         \u001b[0;32massert\u001b[0m \u001b[0misinstance\u001b[0m\u001b[0;34m(\u001b[0m\u001b[0mobj\u001b[0m\u001b[0;34m,\u001b[0m \u001b[0mcls\u001b[0m\u001b[0;34m)\u001b[0m\u001b[0;34m,\u001b[0m \u001b[0;34mf\"Loaded file is not of class {cls}\"\u001b[0m\u001b[0;34m\u001b[0m\u001b[0;34m\u001b[0m\u001b[0m\n\u001b[1;32m    628\u001b[0m         \u001b[0;32mreturn\u001b[0m \u001b[0mobj\u001b[0m\u001b[0;34m\u001b[0m\u001b[0;34m\u001b[0m\u001b[0m\n",
            "\u001b[0;32m/usr/local/lib/python3.7/dist-packages/torch/serialization.py\u001b[0m in \u001b[0;36mload\u001b[0;34m(f, map_location, pickle_module, **pickle_load_args)\u001b[0m\n\u001b[1;32m    710\u001b[0m                     \u001b[0mopened_file\u001b[0m\u001b[0;34m.\u001b[0m\u001b[0mseek\u001b[0m\u001b[0;34m(\u001b[0m\u001b[0morig_position\u001b[0m\u001b[0;34m)\u001b[0m\u001b[0;34m\u001b[0m\u001b[0;34m\u001b[0m\u001b[0m\n\u001b[1;32m    711\u001b[0m                     \u001b[0;32mreturn\u001b[0m \u001b[0mtorch\u001b[0m\u001b[0;34m.\u001b[0m\u001b[0mjit\u001b[0m\u001b[0;34m.\u001b[0m\u001b[0mload\u001b[0m\u001b[0;34m(\u001b[0m\u001b[0mopened_file\u001b[0m\u001b[0;34m)\u001b[0m\u001b[0;34m\u001b[0m\u001b[0;34m\u001b[0m\u001b[0m\n\u001b[0;32m--> 712\u001b[0;31m                 \u001b[0;32mreturn\u001b[0m \u001b[0m_load\u001b[0m\u001b[0;34m(\u001b[0m\u001b[0mopened_zipfile\u001b[0m\u001b[0;34m,\u001b[0m \u001b[0mmap_location\u001b[0m\u001b[0;34m,\u001b[0m \u001b[0mpickle_module\u001b[0m\u001b[0;34m,\u001b[0m \u001b[0;34m**\u001b[0m\u001b[0mpickle_load_args\u001b[0m\u001b[0;34m)\u001b[0m\u001b[0;34m\u001b[0m\u001b[0;34m\u001b[0m\u001b[0m\n\u001b[0m\u001b[1;32m    713\u001b[0m         \u001b[0;32mreturn\u001b[0m \u001b[0m_legacy_load\u001b[0m\u001b[0;34m(\u001b[0m\u001b[0mopened_file\u001b[0m\u001b[0;34m,\u001b[0m \u001b[0mmap_location\u001b[0m\u001b[0;34m,\u001b[0m \u001b[0mpickle_module\u001b[0m\u001b[0;34m,\u001b[0m \u001b[0;34m**\u001b[0m\u001b[0mpickle_load_args\u001b[0m\u001b[0;34m)\u001b[0m\u001b[0;34m\u001b[0m\u001b[0;34m\u001b[0m\u001b[0m\n\u001b[1;32m    714\u001b[0m \u001b[0;34m\u001b[0m\u001b[0m\n",
            "\u001b[0;32m/usr/local/lib/python3.7/dist-packages/torch/serialization.py\u001b[0m in \u001b[0;36m_load\u001b[0;34m(zip_file, map_location, pickle_module, pickle_file, **pickle_load_args)\u001b[0m\n\u001b[1;32m   1044\u001b[0m     \u001b[0munpickler\u001b[0m \u001b[0;34m=\u001b[0m \u001b[0mUnpicklerWrapper\u001b[0m\u001b[0;34m(\u001b[0m\u001b[0mdata_file\u001b[0m\u001b[0;34m,\u001b[0m \u001b[0;34m**\u001b[0m\u001b[0mpickle_load_args\u001b[0m\u001b[0;34m)\u001b[0m\u001b[0;34m\u001b[0m\u001b[0;34m\u001b[0m\u001b[0m\n\u001b[1;32m   1045\u001b[0m     \u001b[0munpickler\u001b[0m\u001b[0;34m.\u001b[0m\u001b[0mpersistent_load\u001b[0m \u001b[0;34m=\u001b[0m \u001b[0mpersistent_load\u001b[0m\u001b[0;34m\u001b[0m\u001b[0;34m\u001b[0m\u001b[0m\n\u001b[0;32m-> 1046\u001b[0;31m     \u001b[0mresult\u001b[0m \u001b[0;34m=\u001b[0m \u001b[0munpickler\u001b[0m\u001b[0;34m.\u001b[0m\u001b[0mload\u001b[0m\u001b[0;34m(\u001b[0m\u001b[0;34m)\u001b[0m\u001b[0;34m\u001b[0m\u001b[0;34m\u001b[0m\u001b[0m\n\u001b[0m\u001b[1;32m   1047\u001b[0m \u001b[0;34m\u001b[0m\u001b[0m\n\u001b[1;32m   1048\u001b[0m     \u001b[0mtorch\u001b[0m\u001b[0;34m.\u001b[0m\u001b[0m_utils\u001b[0m\u001b[0;34m.\u001b[0m\u001b[0m_validate_loaded_sparse_tensors\u001b[0m\u001b[0;34m(\u001b[0m\u001b[0;34m)\u001b[0m\u001b[0;34m\u001b[0m\u001b[0;34m\u001b[0m\u001b[0m\n",
            "\u001b[0;32m/usr/local/lib/python3.7/dist-packages/torch/serialization.py\u001b[0m in \u001b[0;36mfind_class\u001b[0;34m(self, mod_name, name)\u001b[0m\n\u001b[1;32m   1037\u001b[0m                     \u001b[0;32mpass\u001b[0m\u001b[0;34m\u001b[0m\u001b[0;34m\u001b[0m\u001b[0m\n\u001b[1;32m   1038\u001b[0m             \u001b[0mmod_name\u001b[0m \u001b[0;34m=\u001b[0m \u001b[0mload_module_mapping\u001b[0m\u001b[0;34m.\u001b[0m\u001b[0mget\u001b[0m\u001b[0;34m(\u001b[0m\u001b[0mmod_name\u001b[0m\u001b[0;34m,\u001b[0m \u001b[0mmod_name\u001b[0m\u001b[0;34m)\u001b[0m\u001b[0;34m\u001b[0m\u001b[0;34m\u001b[0m\u001b[0m\n\u001b[0;32m-> 1039\u001b[0;31m             \u001b[0;32mreturn\u001b[0m \u001b[0msuper\u001b[0m\u001b[0;34m(\u001b[0m\u001b[0;34m)\u001b[0m\u001b[0;34m.\u001b[0m\u001b[0mfind_class\u001b[0m\u001b[0;34m(\u001b[0m\u001b[0mmod_name\u001b[0m\u001b[0;34m,\u001b[0m \u001b[0mname\u001b[0m\u001b[0;34m)\u001b[0m\u001b[0;34m\u001b[0m\u001b[0;34m\u001b[0m\u001b[0m\n\u001b[0m\u001b[1;32m   1040\u001b[0m \u001b[0;34m\u001b[0m\u001b[0m\n\u001b[1;32m   1041\u001b[0m     \u001b[0;31m# Load the data (which may in turn use `persistent_load` to load tensors)\u001b[0m\u001b[0;34m\u001b[0m\u001b[0;34m\u001b[0m\u001b[0;34m\u001b[0m\u001b[0m\n",
            "\u001b[0;31mAttributeError\u001b[0m: Can't get attribute '_unpickle_block' on <module 'pandas._libs.internals' from '/usr/local/lib/python3.7/dist-packages/pandas/_libs/internals.cpython-37m-x86_64-linux-gnu.so'>"
          ]
        }
      ]
    },
    {
      "cell_type": "code",
      "source": [
        "tft_model = TemporalFusionTransformer.from_dataset(\n",
        "    train_dataset,\n",
        "    learning_rate=args['lr_s'],\n",
        "    hidden_size=args['hidden_size'],  # most important hyperparameter apart from learning rate\n",
        "    attention_head_size=args['attention_head_size'], # number of attention heads. Set to up to 4 for large datasets\n",
        "    dropout=args['dropout'],  # between 0.1 and 0.3 are good values\n",
        "    hidden_continuous_size=args['hidden_continuous_size'],\n",
        "    output_size=args['output_size'],\n",
        "    loss=args['criterion']['quantile'],\n",
        "    # loss=args['criterion']['pearson'],\n",
        "    log_interval=args['log_interval'],  # uncomment for learning rate finder and otherwise, e.g. to 10 for logging every 10 batches\n",
        "    reduce_on_plateau_patience=args['reduce_on_plateau_patience'], # reduce learning rate if no improvement in validation loss after x epochs\n",
        ")\n",
        "\n",
        "tft_model.load_state_dict(torch.load('/content/trained_model/tft_baseline_426.pth'))\n",
        "tft_model.eval()"
      ],
      "metadata": {
        "colab": {
          "base_uri": "https://localhost:8080/"
        },
        "id": "-MEYOWUyJBUS",
        "outputId": "01f91954-0d7b-49fb-950c-92c8f1f2cdd6"
      },
      "execution_count": null,
      "outputs": [
        {
          "output_type": "execute_result",
          "data": {
            "text/plain": [
              "row_id            object\n",
              "time_id           uint16\n",
              "investment_id     uint16\n",
              "target           float32\n",
              "f_0              float32\n",
              "                  ...   \n",
              "f_295            float32\n",
              "f_296            float32\n",
              "f_297            float32\n",
              "f_298            float32\n",
              "f_299            float32\n",
              "Length: 304, dtype: object"
            ]
          },
          "metadata": {},
          "execution_count": 25
        }
      ]
    },
    {
      "cell_type": "code",
      "source": [
        ""
      ],
      "metadata": {
        "id": "YR1EcIcNvvuI"
      },
      "execution_count": null,
      "outputs": []
    },
    {
      "cell_type": "code",
      "source": [
        ""
      ],
      "metadata": {
        "id": "1uiVLntZvyAl"
      },
      "execution_count": null,
      "outputs": []
    },
    {
      "cell_type": "markdown",
      "source": [
        "# Test"
      ],
      "metadata": {
        "id": "W69PACpZvyKc"
      }
    },
    {
      "cell_type": "markdown",
      "source": [
        "I use data with time_id >= 1000 for testing. \n",
        "It turns out that there are 120 different time_id's for test data. \n",
        "I divde them into 6 parts: 0-19, 0-39, 0-59, 0-79, 0-99, 0-119.\n",
        "Then run predictions on them.\n",
        "\n",
        "I use encoder length = 14, decoder length = 3. \n",
        "Per my understanding, the model will tune itself on previous data and then make predictions on the last 3 time steps for each investment id. \n",
        "For example, take 0-59. The model will tune itself on 0-42 (not sure about this, it seems that it does make use of these data, but I'm not sure how), encode 43-56, and predict 57-59.  "
      ],
      "metadata": {
        "id": "z8WvXKQvv4dx"
      }
    },
    {
      "cell_type": "markdown",
      "source": [
        "#### Create Test DataFrames"
      ],
      "metadata": {
        "id": "czeJRVLZyHjP"
      }
    },
    {
      "cell_type": "code",
      "source": [
        "test_dfs = dict()\n",
        "for i in range(6):\n",
        "    test_dfs['test_df_' + str(i)] = test_df.head(math.floor(((i+1)/6) *len(test_df. index)))\n",
        "    \n",
        "print(test_dfs)"
      ],
      "metadata": {
        "id": "KBpy5DeXvvwq"
      },
      "execution_count": null,
      "outputs": []
    },
    {
      "cell_type": "markdown",
      "source": [
        "# Test using correlation"
      ],
      "metadata": {
        "id": "6bOimJd6yJvB"
      }
    },
    {
      "cell_type": "code",
      "source": [
        "errors = list()\n",
        "\n",
        "for i in range(6):\n",
        "    # create test_dataset from test_dfs, with parameter from train_dataset\n",
        "    test_dataset = TimeSeriesDataSet.from_dataset(train_dataset, test_dfs['test_df_' + str(i)], predict=True, stop_randomization=True, allow_missing_timesteps=True)\n",
        "    test_dataloader = test_dataset.to_dataloader(train=False, batch_size=64, num_workers=4)\n",
        "\n",
        "    # make predictions\n",
        "    predictions, inputs = tft_model.predict(test_dataloader, mode='prediction', return_x=True)\n",
        "\n",
        "    # calculate correlation \n",
        "    y1 = predictions.reshape(1, -1)\n",
        "    t1 = inputs['decoder_target'].reshape(1, -1)\n",
        "    z = torch.cat((y1, t1), dim=0) # 2, B*T+\n",
        "    error = torch.corrcoef(z)[0][1]\n",
        "\n",
        "    errors.append(error)\n"
      ],
      "metadata": {
        "id": "RTi9hcFdvvzY"
      },
      "execution_count": null,
      "outputs": []
    },
    {
      "cell_type": "code",
      "source": [
        "print(errors)"
      ],
      "metadata": {
        "id": "cWDG4wTdvv1y"
      },
      "execution_count": null,
      "outputs": []
    }
  ],
  "metadata": {
    "interpreter": {
      "hash": "52c4a99fb36d68752ce25c6541fc636e9171dab977cfe863248a143161a3b436"
    },
    "kernelspec": {
      "display_name": "Python 3 (ipykernel)",
      "language": "python",
      "name": "python3"
    },
    "language_info": {
      "codemirror_mode": {
        "name": "ipython",
        "version": 3
      },
      "file_extension": ".py",
      "mimetype": "text/x-python",
      "name": "python",
      "nbconvert_exporter": "python",
      "pygments_lexer": "ipython3",
      "version": "3.9.7"
    },
    "colab": {
      "name": "2_tft_test_yao_colab.ipynb",
      "provenance": [],
      "collapsed_sections": []
    }
  },
  "nbformat": 4,
  "nbformat_minor": 0
}