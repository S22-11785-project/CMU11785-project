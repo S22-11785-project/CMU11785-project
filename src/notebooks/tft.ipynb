{
 "cells": [
  {
   "cell_type": "markdown",
   "metadata": {},
   "source": [
    "### Try TemporalFusionTransformer\n",
    "* Read: https://towardsdatascience.com/temporal-fusion-transformer-a-primer-on-deep-forecasting-in-python-4eb37f3f3594"
   ]
  },
  {
   "cell_type": "code",
   "execution_count": 1,
   "metadata": {},
   "outputs": [
    {
     "name": "stderr",
     "output_type": "stream",
     "text": [
      "/home/user/anaconda3/envs/11785_project/lib/python3.9/site-packages/tqdm/auto.py:22: TqdmWarning: IProgress not found. Please update jupyter and ipywidgets. See https://ipywidgets.readthedocs.io/en/stable/user_install.html\n",
      "  from .autonotebook import tqdm as notebook_tqdm\n"
     ]
    }
   ],
   "source": [
    "import os\n",
    "\n",
    "import pandas as pd\n",
    "import numpy as np\n",
    "\n",
    "from sklearn.model_selection import train_test_split\n",
    "\n",
    "import pytorch_lightning as pl\n",
    "from pytorch_lightning.callbacks import EarlyStopping, LearningRateMonitor\n",
    "from pytorch_forecasting import TimeSeriesDataSet, TemporalFusionTransformer\n",
    "from pytorch_forecasting.data import GroupNormalizer\n",
    "\n",
    "import warnings\n",
    "warnings.filterwarnings('ignore')\n",
    "\n",
    "# Used Yujie's cleaned version\n",
    "DIR_BYID = '/media/user/12TB1/HanLi/GitHub/CMU11785-project/local_data/content/databyid'\n",
    "\n",
    "ls_all_invest_ids = sorted([int(fn.split('.')[0]) for fn in os.listdir(os.path.join(DIR_BYID, 'target'))])"
   ]
  },
  {
   "cell_type": "code",
   "execution_count": 3,
   "metadata": {},
   "outputs": [],
   "source": [
    "f_cols = [f\"f_{i}\" for i in range(300)]\n",
    "# Read a subset for testing\n",
    "n = 3000\n",
    "ls_dfs = []\n",
    "for id in ls_all_invest_ids[:n]:\n",
    "    df_f_id = pd.DataFrame(np.load(os.path.join(DIR_BYID, f'feats/{id}.npy')), columns=f_cols)\n",
    "    df_t_id = pd.DataFrame(np.load(os.path.join(DIR_BYID, f'target/{id}.npy')), columns=['target'])\n",
    "    df_f_id['investment_id'] = id\n",
    "    ls_dfs.append(pd.concat([df_t_id, df_f_id], axis=1))\n",
    "\n",
    "df = pd.concat(ls_dfs).reset_index().rename(columns={'index': 'time_id'})\n",
    "df = df.sort_values(by=['time_id']) # sort by time before splitting\n",
    "df_train, df_test = train_test_split(df, test_size=0.1, shuffle=False)\n",
    "# df_train, df_val = train_test_split(df_train, test_size=2/9, shuffle=False)"
   ]
  },
  {
   "cell_type": "code",
   "execution_count": 4,
   "metadata": {},
   "outputs": [
    {
     "data": {
      "text/html": [
       "<div>\n",
       "<style scoped>\n",
       "    .dataframe tbody tr th:only-of-type {\n",
       "        vertical-align: middle;\n",
       "    }\n",
       "\n",
       "    .dataframe tbody tr th {\n",
       "        vertical-align: top;\n",
       "    }\n",
       "\n",
       "    .dataframe thead th {\n",
       "        text-align: right;\n",
       "    }\n",
       "</style>\n",
       "<table border=\"1\" class=\"dataframe\">\n",
       "  <thead>\n",
       "    <tr style=\"text-align: right;\">\n",
       "      <th></th>\n",
       "      <th>time_id</th>\n",
       "      <th>target</th>\n",
       "      <th>f_0</th>\n",
       "      <th>f_1</th>\n",
       "      <th>f_2</th>\n",
       "      <th>f_3</th>\n",
       "      <th>f_4</th>\n",
       "      <th>f_5</th>\n",
       "      <th>f_6</th>\n",
       "      <th>f_7</th>\n",
       "      <th>...</th>\n",
       "      <th>f_291</th>\n",
       "      <th>f_292</th>\n",
       "      <th>f_293</th>\n",
       "      <th>f_294</th>\n",
       "      <th>f_295</th>\n",
       "      <th>f_296</th>\n",
       "      <th>f_297</th>\n",
       "      <th>f_298</th>\n",
       "      <th>f_299</th>\n",
       "      <th>investment_id</th>\n",
       "    </tr>\n",
       "  </thead>\n",
       "  <tbody>\n",
       "    <tr>\n",
       "      <th>0</th>\n",
       "      <td>0</td>\n",
       "      <td>0.000000</td>\n",
       "      <td>0.000000</td>\n",
       "      <td>0.000000</td>\n",
       "      <td>0.000000</td>\n",
       "      <td>0.000000</td>\n",
       "      <td>0.000000</td>\n",
       "      <td>0.000000</td>\n",
       "      <td>0.000000</td>\n",
       "      <td>0.000000</td>\n",
       "      <td>...</td>\n",
       "      <td>0.000000</td>\n",
       "      <td>0.000000</td>\n",
       "      <td>0.000000</td>\n",
       "      <td>0.000000</td>\n",
       "      <td>0.000000</td>\n",
       "      <td>0.000000</td>\n",
       "      <td>0.000000</td>\n",
       "      <td>0.000000</td>\n",
       "      <td>0.000000</td>\n",
       "      <td>0</td>\n",
       "    </tr>\n",
       "    <tr>\n",
       "      <th>1389580</th>\n",
       "      <td>0</td>\n",
       "      <td>0.000000</td>\n",
       "      <td>-2.483594</td>\n",
       "      <td>-1.016361</td>\n",
       "      <td>0.520959</td>\n",
       "      <td>-0.578885</td>\n",
       "      <td>-0.403828</td>\n",
       "      <td>-0.139673</td>\n",
       "      <td>-0.624265</td>\n",
       "      <td>-0.568195</td>\n",
       "      <td>...</td>\n",
       "      <td>-1.095620</td>\n",
       "      <td>-0.302857</td>\n",
       "      <td>0.819155</td>\n",
       "      <td>-1.060166</td>\n",
       "      <td>-0.516494</td>\n",
       "      <td>0.104928</td>\n",
       "      <td>-0.844595</td>\n",
       "      <td>-0.276643</td>\n",
       "      <td>-0.278406</td>\n",
       "      <td>1139</td>\n",
       "    </tr>\n",
       "    <tr>\n",
       "      <th>2486360</th>\n",
       "      <td>0</td>\n",
       "      <td>0.302411</td>\n",
       "      <td>0.064655</td>\n",
       "      <td>-0.514115</td>\n",
       "      <td>-0.793189</td>\n",
       "      <td>-0.087417</td>\n",
       "      <td>-0.266396</td>\n",
       "      <td>-0.031550</td>\n",
       "      <td>1.298448</td>\n",
       "      <td>0.737355</td>\n",
       "      <td>...</td>\n",
       "      <td>0.912726</td>\n",
       "      <td>-0.599186</td>\n",
       "      <td>0.819155</td>\n",
       "      <td>0.941183</td>\n",
       "      <td>-0.290695</td>\n",
       "      <td>1.296864</td>\n",
       "      <td>1.943773</td>\n",
       "      <td>-1.476265</td>\n",
       "      <td>0.086849</td>\n",
       "      <td>2038</td>\n",
       "    </tr>\n",
       "    <tr>\n",
       "      <th>3170780</th>\n",
       "      <td>0</td>\n",
       "      <td>-1.246223</td>\n",
       "      <td>0.597497</td>\n",
       "      <td>-0.262993</td>\n",
       "      <td>-1.993946</td>\n",
       "      <td>1.178246</td>\n",
       "      <td>5.582512</td>\n",
       "      <td>-0.309565</td>\n",
       "      <td>-1.760986</td>\n",
       "      <td>0.602612</td>\n",
       "      <td>...</td>\n",
       "      <td>0.912726</td>\n",
       "      <td>-1.072976</td>\n",
       "      <td>0.819155</td>\n",
       "      <td>0.941183</td>\n",
       "      <td>4.191910</td>\n",
       "      <td>1.296864</td>\n",
       "      <td>1.128417</td>\n",
       "      <td>1.279420</td>\n",
       "      <td>7.196918</td>\n",
       "      <td>2599</td>\n",
       "    </tr>\n",
       "    <tr>\n",
       "      <th>577060</th>\n",
       "      <td>0</td>\n",
       "      <td>0.276815</td>\n",
       "      <td>0.229707</td>\n",
       "      <td>-0.514115</td>\n",
       "      <td>0.080069</td>\n",
       "      <td>-0.584030</td>\n",
       "      <td>-0.393632</td>\n",
       "      <td>-1.250875</td>\n",
       "      <td>-1.674827</td>\n",
       "      <td>-1.789227</td>\n",
       "      <td>...</td>\n",
       "      <td>0.912726</td>\n",
       "      <td>1.000600</td>\n",
       "      <td>0.819155</td>\n",
       "      <td>-1.060166</td>\n",
       "      <td>-0.231865</td>\n",
       "      <td>-1.087009</td>\n",
       "      <td>-0.122143</td>\n",
       "      <td>0.962353</td>\n",
       "      <td>-0.526551</td>\n",
       "      <td>473</td>\n",
       "    </tr>\n",
       "    <tr>\n",
       "      <th>...</th>\n",
       "      <td>...</td>\n",
       "      <td>...</td>\n",
       "      <td>...</td>\n",
       "      <td>...</td>\n",
       "      <td>...</td>\n",
       "      <td>...</td>\n",
       "      <td>...</td>\n",
       "      <td>...</td>\n",
       "      <td>...</td>\n",
       "      <td>...</td>\n",
       "      <td>...</td>\n",
       "      <td>...</td>\n",
       "      <td>...</td>\n",
       "      <td>...</td>\n",
       "      <td>...</td>\n",
       "      <td>...</td>\n",
       "      <td>...</td>\n",
       "      <td>...</td>\n",
       "      <td>...</td>\n",
       "      <td>...</td>\n",
       "      <td>...</td>\n",
       "    </tr>\n",
       "    <tr>\n",
       "      <th>2631417</th>\n",
       "      <td>1097</td>\n",
       "      <td>1.443494</td>\n",
       "      <td>-1.212057</td>\n",
       "      <td>0.835765</td>\n",
       "      <td>0.390280</td>\n",
       "      <td>0.209423</td>\n",
       "      <td>-0.048850</td>\n",
       "      <td>-2.540634</td>\n",
       "      <td>1.098920</td>\n",
       "      <td>-1.215920</td>\n",
       "      <td>...</td>\n",
       "      <td>-0.757976</td>\n",
       "      <td>-0.069908</td>\n",
       "      <td>1.373311</td>\n",
       "      <td>-0.128573</td>\n",
       "      <td>0.122001</td>\n",
       "      <td>-2.997465</td>\n",
       "      <td>-1.964301</td>\n",
       "      <td>-2.285952</td>\n",
       "      <td>1.102100</td>\n",
       "      <td>2156</td>\n",
       "    </tr>\n",
       "    <tr>\n",
       "      <th>1785957</th>\n",
       "      <td>1097</td>\n",
       "      <td>-2.125934</td>\n",
       "      <td>1.288225</td>\n",
       "      <td>-2.608685</td>\n",
       "      <td>0.425745</td>\n",
       "      <td>-0.019027</td>\n",
       "      <td>-0.193957</td>\n",
       "      <td>-3.200137</td>\n",
       "      <td>-1.094699</td>\n",
       "      <td>0.222616</td>\n",
       "      <td>...</td>\n",
       "      <td>-0.733069</td>\n",
       "      <td>1.528895</td>\n",
       "      <td>-0.081540</td>\n",
       "      <td>0.319557</td>\n",
       "      <td>-0.132813</td>\n",
       "      <td>0.048358</td>\n",
       "      <td>-1.164411</td>\n",
       "      <td>-0.230242</td>\n",
       "      <td>-0.743838</td>\n",
       "      <td>1463</td>\n",
       "    </tr>\n",
       "    <tr>\n",
       "      <th>2286157</th>\n",
       "      <td>1097</td>\n",
       "      <td>-1.074061</td>\n",
       "      <td>-0.267248</td>\n",
       "      <td>1.038550</td>\n",
       "      <td>0.077865</td>\n",
       "      <td>-1.173909</td>\n",
       "      <td>2.789015</td>\n",
       "      <td>2.542614</td>\n",
       "      <td>1.255679</td>\n",
       "      <td>-0.281238</td>\n",
       "      <td>...</td>\n",
       "      <td>0.334841</td>\n",
       "      <td>1.336897</td>\n",
       "      <td>2.625973</td>\n",
       "      <td>-1.133870</td>\n",
       "      <td>7.173344</td>\n",
       "      <td>2.251664</td>\n",
       "      <td>-1.262915</td>\n",
       "      <td>-1.430725</td>\n",
       "      <td>3.151095</td>\n",
       "      <td>1873</td>\n",
       "    </tr>\n",
       "    <tr>\n",
       "      <th>1568797</th>\n",
       "      <td>1097</td>\n",
       "      <td>-0.027056</td>\n",
       "      <td>-0.682674</td>\n",
       "      <td>0.749004</td>\n",
       "      <td>2.251077</td>\n",
       "      <td>-0.185545</td>\n",
       "      <td>0.230120</td>\n",
       "      <td>-0.621255</td>\n",
       "      <td>-2.377464</td>\n",
       "      <td>-0.727309</td>\n",
       "      <td>...</td>\n",
       "      <td>1.516115</td>\n",
       "      <td>0.950391</td>\n",
       "      <td>-0.618045</td>\n",
       "      <td>-0.337303</td>\n",
       "      <td>1.343652</td>\n",
       "      <td>-0.187342</td>\n",
       "      <td>-0.695851</td>\n",
       "      <td>2.314882</td>\n",
       "      <td>0.932714</td>\n",
       "      <td>1285</td>\n",
       "    </tr>\n",
       "    <tr>\n",
       "      <th>381737</th>\n",
       "      <td>1097</td>\n",
       "      <td>-2.245642</td>\n",
       "      <td>0.220751</td>\n",
       "      <td>0.154432</td>\n",
       "      <td>0.519544</td>\n",
       "      <td>-0.331084</td>\n",
       "      <td>-0.188136</td>\n",
       "      <td>-2.377820</td>\n",
       "      <td>0.995809</td>\n",
       "      <td>-0.843047</td>\n",
       "      <td>...</td>\n",
       "      <td>-0.208567</td>\n",
       "      <td>-0.824383</td>\n",
       "      <td>-1.058332</td>\n",
       "      <td>0.703879</td>\n",
       "      <td>-0.636616</td>\n",
       "      <td>0.275666</td>\n",
       "      <td>0.775972</td>\n",
       "      <td>1.475436</td>\n",
       "      <td>-0.436972</td>\n",
       "      <td>312</td>\n",
       "    </tr>\n",
       "  </tbody>\n",
       "</table>\n",
       "<p>3294000 rows × 303 columns</p>\n",
       "</div>"
      ],
      "text/plain": [
       "         time_id    target       f_0       f_1       f_2       f_3       f_4  \\\n",
       "0              0  0.000000  0.000000  0.000000  0.000000  0.000000  0.000000   \n",
       "1389580        0  0.000000 -2.483594 -1.016361  0.520959 -0.578885 -0.403828   \n",
       "2486360        0  0.302411  0.064655 -0.514115 -0.793189 -0.087417 -0.266396   \n",
       "3170780        0 -1.246223  0.597497 -0.262993 -1.993946  1.178246  5.582512   \n",
       "577060         0  0.276815  0.229707 -0.514115  0.080069 -0.584030 -0.393632   \n",
       "...          ...       ...       ...       ...       ...       ...       ...   \n",
       "2631417     1097  1.443494 -1.212057  0.835765  0.390280  0.209423 -0.048850   \n",
       "1785957     1097 -2.125934  1.288225 -2.608685  0.425745 -0.019027 -0.193957   \n",
       "2286157     1097 -1.074061 -0.267248  1.038550  0.077865 -1.173909  2.789015   \n",
       "1568797     1097 -0.027056 -0.682674  0.749004  2.251077 -0.185545  0.230120   \n",
       "381737      1097 -2.245642  0.220751  0.154432  0.519544 -0.331084 -0.188136   \n",
       "\n",
       "              f_5       f_6       f_7  ...     f_291     f_292     f_293  \\\n",
       "0        0.000000  0.000000  0.000000  ...  0.000000  0.000000  0.000000   \n",
       "1389580 -0.139673 -0.624265 -0.568195  ... -1.095620 -0.302857  0.819155   \n",
       "2486360 -0.031550  1.298448  0.737355  ...  0.912726 -0.599186  0.819155   \n",
       "3170780 -0.309565 -1.760986  0.602612  ...  0.912726 -1.072976  0.819155   \n",
       "577060  -1.250875 -1.674827 -1.789227  ...  0.912726  1.000600  0.819155   \n",
       "...           ...       ...       ...  ...       ...       ...       ...   \n",
       "2631417 -2.540634  1.098920 -1.215920  ... -0.757976 -0.069908  1.373311   \n",
       "1785957 -3.200137 -1.094699  0.222616  ... -0.733069  1.528895 -0.081540   \n",
       "2286157  2.542614  1.255679 -0.281238  ...  0.334841  1.336897  2.625973   \n",
       "1568797 -0.621255 -2.377464 -0.727309  ...  1.516115  0.950391 -0.618045   \n",
       "381737  -2.377820  0.995809 -0.843047  ... -0.208567 -0.824383 -1.058332   \n",
       "\n",
       "            f_294     f_295     f_296     f_297     f_298     f_299  \\\n",
       "0        0.000000  0.000000  0.000000  0.000000  0.000000  0.000000   \n",
       "1389580 -1.060166 -0.516494  0.104928 -0.844595 -0.276643 -0.278406   \n",
       "2486360  0.941183 -0.290695  1.296864  1.943773 -1.476265  0.086849   \n",
       "3170780  0.941183  4.191910  1.296864  1.128417  1.279420  7.196918   \n",
       "577060  -1.060166 -0.231865 -1.087009 -0.122143  0.962353 -0.526551   \n",
       "...           ...       ...       ...       ...       ...       ...   \n",
       "2631417 -0.128573  0.122001 -2.997465 -1.964301 -2.285952  1.102100   \n",
       "1785957  0.319557 -0.132813  0.048358 -1.164411 -0.230242 -0.743838   \n",
       "2286157 -1.133870  7.173344  2.251664 -1.262915 -1.430725  3.151095   \n",
       "1568797 -0.337303  1.343652 -0.187342 -0.695851  2.314882  0.932714   \n",
       "381737   0.703879 -0.636616  0.275666  0.775972  1.475436 -0.436972   \n",
       "\n",
       "         investment_id  \n",
       "0                    0  \n",
       "1389580           1139  \n",
       "2486360           2038  \n",
       "3170780           2599  \n",
       "577060             473  \n",
       "...                ...  \n",
       "2631417           2156  \n",
       "1785957           1463  \n",
       "2286157           1873  \n",
       "1568797           1285  \n",
       "381737             312  \n",
       "\n",
       "[3294000 rows x 303 columns]"
      ]
     },
     "execution_count": 4,
     "metadata": {},
     "output_type": "execute_result"
    }
   ],
   "source": [
    "df_train"
   ]
  },
  {
   "cell_type": "markdown",
   "metadata": {},
   "source": [
    "### Create dataset and dataloaders"
   ]
  },
  {
   "cell_type": "code",
   "execution_count": 5,
   "metadata": {},
   "outputs": [],
   "source": [
    "import pytorch_lightning as pl\n",
    "from pytorch_lightning.callbacks import EarlyStopping, LearningRateMonitor\n",
    "from pytorch_lightning.loggers import TensorBoardLogger\n",
    "from pytorch_forecasting import TimeSeriesDataSet, TemporalFusionTransformer\n",
    "from pytorch_forecasting.metrics import QuantileLoss\n",
    "\n",
    "# load data\n",
    "# define dataset\n",
    "max_encoder_length = 6\n",
    "max_prediction_length = 1\n",
    "\n",
    "# create validation and training dataset\n",
    "batch_size = 128\n",
    "max_prediction_length = 3\n",
    "max_encoder_length = 24\n",
    "\n",
    "# create the dataset from the pandas dataframe\n",
    "train_dataset = TimeSeriesDataSet(\n",
    "    df_train,\n",
    "    group_ids=[\"investment_id\"],\n",
    "    target=\"target\",\n",
    "    time_idx=\"time_id\",\n",
    "    min_encoder_length=max_encoder_length // 2,\n",
    "    max_encoder_length=max_encoder_length,\n",
    "    min_prediction_length=1,\n",
    "    max_prediction_length=max_prediction_length,\n",
    "    # static_reals=[],\n",
    "    time_varying_known_reals=[\"investment_id\", \"time_id\"] + [f\"f_{i}\" for i in range(300)],\n",
    "    time_varying_unknown_reals=['target'],\n",
    "    target_normalizer=GroupNormalizer(\n",
    "        groups=[\"investment_id\"], transformation=\"softplus\"\n",
    "    ),  # use softplus and normalize by group\n",
    "    add_relative_time_idx=True,\n",
    "    add_target_scales=True,\n",
    "    add_encoder_length=True,\n",
    ")\n",
    "\n",
    "val_dataset = TimeSeriesDataSet.from_dataset(train_dataset, df_train, predict=True, stop_randomization=True)\n",
    "\n",
    "# create dataloaders for model\n",
    "batch_size = 64  # set this between 32 to 128\n",
    "train_dataloader = train_dataset.to_dataloader(train=True, batch_size=batch_size, num_workers=0)\n",
    "val_dataloader = val_dataset.to_dataloader(train=False, batch_size=batch_size * 10, num_workers=0)\n"
   ]
  },
  {
   "cell_type": "markdown",
   "metadata": {},
   "source": [
    "### Find optimal learning rate"
   ]
  },
  {
   "cell_type": "code",
   "execution_count": 6,
   "metadata": {},
   "outputs": [
    {
     "name": "stderr",
     "output_type": "stream",
     "text": [
      "Global seed set to 42\n",
      "GPU available: True, used: True\n",
      "TPU available: False, using: 0 TPU cores\n",
      "IPU available: False, using: 0 IPUs\n",
      "HPU available: False, using: 0 HPUs\n"
     ]
    },
    {
     "name": "stdout",
     "output_type": "stream",
     "text": [
      "Number of parameters in network: 226.9k\n"
     ]
    },
    {
     "name": "stderr",
     "output_type": "stream",
     "text": [
      "LOCAL_RANK: 0 - CUDA_VISIBLE_DEVICES: [0,1]\n",
      "Finding best initial lr: 100%|██████████| 100/100 [01:24<00:00,  1.27it/s]Restoring states from the checkpoint path at /media/user/12TB1/HanLi/GitHub/CMU11785-project/src/notebooks/.lr_find_ffbdd964-f6c8-4bc1-932b-d1e035eddcfc.ckpt\n",
      "Finding best initial lr: 100%|██████████| 100/100 [01:26<00:00,  1.15it/s]\n"
     ]
    },
    {
     "name": "stdout",
     "output_type": "stream",
     "text": [
      "suggested learning rate: 0.20892961308540398\n"
     ]
    },
    {
     "data": {
      "image/png": "[encoded data removed]",
      "text/plain": [
       "<Figure size 432x288 with 1 Axes>"
      ]
     },
     "metadata": {
      "needs_background": "light"
     },
     "output_type": "display_data"
    }
   ],
   "source": [
    "# configure network and trainer\n",
    "pl.seed_everything(42)\n",
    "trainer = pl.Trainer(\n",
    "    gpus=1,\n",
    "    # clipping gradients is a hyperparameter and important to prevent divergance\n",
    "    # of the gradient for recurrent neural networks\n",
    "    gradient_clip_val=0.1,\n",
    ")\n",
    "\n",
    "tft_model = TemporalFusionTransformer.from_dataset(\n",
    "    train_dataset,\n",
    "    # not meaningful for finding the learning rate but otherwise very important\n",
    "    learning_rate=0.03,\n",
    "    hidden_size=16,  # most important hyperparameter apart from learning rate\n",
    "    # number of attention heads. Set to up to 4 for large datasets\n",
    "    attention_head_size=1,\n",
    "    dropout=0.1,  # between 0.1 and 0.3 are good values\n",
    "    hidden_continuous_size=8,  # set to <= hidden_size\n",
    "    output_size=7,  # 7 quantiles by default\n",
    "    loss=QuantileLoss(),\n",
    "    # reduce learning rate if no improvement in validation loss after x epochs\n",
    "    reduce_on_plateau_patience=4,\n",
    ")\n",
    "print(f\"Number of parameters in network: {tft_model.size()/1e3:.1f}k\")\n",
    "\n",
    "\n",
    "# find optimal learning rate\n",
    "res = trainer.tuner.lr_find(\n",
    "    tft_model,\n",
    "    train_dataloaders=train_dataloader,\n",
    "    val_dataloaders=val_dataloader,\n",
    "    max_lr=10.0,\n",
    "    min_lr=1e-6,\n",
    ")\n",
    "\n",
    "print(f\"suggested learning rate: {res.suggestion()}\")\n",
    "fig = res.plot(show=True, suggest=True)\n",
    "fig.show()"
   ]
  },
  {
   "cell_type": "markdown",
   "metadata": {},
   "source": [
    "### Train Model\n",
    "\n",
    "* Note: use tensorboard to check the logs: run ```tensorboard --logdir=<logging_folder>```\n",
    "* To visualize tensorboard in Jupyter Notebook: \n",
    "    ```\n",
    "    %reload_ext tensorboard\n",
    "    %tensorboard --logdir=<logging_folder>\n",
    "    ```"
   ]
  },
  {
   "cell_type": "code",
   "execution_count": 9,
   "metadata": {},
   "outputs": [
    {
     "name": "stderr",
     "output_type": "stream",
     "text": [
      "Failed to detect the name of this notebook, you can set it manually with the WANDB_NOTEBOOK_NAME environment variable to enable code saving.\n",
      "\u001b[34m\u001b[1mwandb\u001b[0m: Currently logged in as: \u001b[33mtsbyq_wb\u001b[0m (use `wandb login --relogin` to force relogin)\n"
     ]
    },
    {
     "data": {
      "text/html": [
       "wandb version 0.12.15 is available!  To upgrade, please run:\n",
       " $ pip install wandb --upgrade"
      ],
      "text/plain": [
       "<IPython.core.display.HTML object>"
      ]
     },
     "metadata": {},
     "output_type": "display_data"
    },
    {
     "data": {
      "text/html": [
       "Tracking run with wandb version 0.12.11"
      ],
      "text/plain": [
       "<IPython.core.display.HTML object>"
      ]
     },
     "metadata": {},
     "output_type": "display_data"
    },
    {
     "data": {
      "text/html": [
       "Run data is saved locally in <code>/media/user/12TB1/HanLi/GitHub/CMU11785-project/src/notebooks/wandb/run-20220421_214924-2xm2hic1</code>"
      ],
      "text/plain": [
       "<IPython.core.display.HTML object>"
      ]
     },
     "metadata": {},
     "output_type": "display_data"
    },
    {
     "data": {
      "text/html": [
       "Syncing run <strong><a href=\"https://wandb.ai/11785_project/PyTorchForecasting_test/runs/2xm2hic1\" target=\"_blank\">Test_421</a></strong> to <a href=\"https://wandb.ai/11785_project/PyTorchForecasting_test\" target=\"_blank\">Weights & Biases</a> (<a href=\"https://wandb.me/run\" target=\"_blank\">docs</a>)<br/>"
      ],
      "text/plain": [
       "<IPython.core.display.HTML object>"
      ]
     },
     "metadata": {},
     "output_type": "display_data"
    },
    {
     "name": "stderr",
     "output_type": "stream",
     "text": [
      "GPU available: True, used: True\n",
      "TPU available: False, using: 0 TPU cores\n",
      "IPU available: False, using: 0 IPUs\n",
      "HPU available: False, using: 0 HPUs\n",
      "LOCAL_RANK: 0 - CUDA_VISIBLE_DEVICES: [0,1]\n"
     ]
    },
    {
     "name": "stdout",
     "output_type": "stream",
     "text": [
      "Number of parameters in network: 5874.5k\n"
     ]
    },
    {
     "name": "stderr",
     "output_type": "stream",
     "text": [
      "\n",
      "   | Name                               | Type                            | Params\n",
      "----------------------------------------------------------------------------------------\n",
      "0  | loss                               | QuantileLoss                    | 0     \n",
      "1  | logging_metrics                    | ModuleList                      | 0     \n",
      "2  | input_embeddings                   | MultiEmbedding                  | 0     \n",
      "3  | prescalers                         | ModuleDict                      | 4.3 K \n",
      "4  | static_variable_selection          | VariableSelectionNetwork        | 16.6 K\n",
      "5  | encoder_variable_selection         | VariableSelectionNetwork        | 2.5 M \n",
      "6  | decoder_variable_selection         | VariableSelectionNetwork        | 5.5 K \n",
      "7  | static_context_variable_selection  | GatedResidualNetwork            | 263 K \n",
      "8  | static_context_initial_hidden_lstm | GatedResidualNetwork            | 263 K \n",
      "9  | static_context_initial_cell_lstm   | GatedResidualNetwork            | 263 K \n",
      "10 | static_context_enrichment          | GatedResidualNetwork            | 263 K \n",
      "11 | lstm_encoder                       | LSTM                            | 526 K \n",
      "12 | lstm_decoder                       | LSTM                            | 526 K \n",
      "13 | post_lstm_gate_encoder             | GatedLinearUnit                 | 131 K \n",
      "14 | post_lstm_add_norm_encoder         | AddNorm                         | 512   \n",
      "15 | static_enrichment                  | GatedResidualNetwork            | 329 K \n",
      "16 | multihead_attn                     | InterpretableMultiHeadAttention | 262 K \n",
      "17 | post_attn_gate_norm                | GateAddNorm                     | 132 K \n",
      "18 | pos_wise_ff                        | GatedResidualNetwork            | 263 K \n",
      "19 | pre_output_gate_norm               | GateAddNorm                     | 132 K \n",
      "20 | output_layer                       | Linear                          | 1.8 K \n",
      "----------------------------------------------------------------------------------------\n",
      "5.9 M     Trainable params\n",
      "0         Non-trainable params\n",
      "5.9 M     Total params\n",
      "23.498    Total estimated model params size (MB)\n"
     ]
    },
    {
     "name": "stdout",
     "output_type": "stream",
     "text": [
      "Sanity Checking DataLoader 0:   0%|          | 0/2 [00:01<?, ?it/s]"
     ]
    },
    {
     "ename": "AttributeError",
     "evalue": "'Run' object has no attribute 'add_figure'",
     "output_type": "error",
     "traceback": [
      "\u001b[0;31m---------------------------------------------------------------------------\u001b[0m",
      "\u001b[0;31mAttributeError\u001b[0m                            Traceback (most recent call last)",
      "\u001b[1;32m/media/user/12TB1/HanLi/GitHub/CMU11785-project/src/notebooks/tft.ipynb Cell 10'\u001b[0m in \u001b[0;36m<cell line: 44>\u001b[0;34m()\u001b[0m\n\u001b[1;32m     <a href='vscode-notebook-cell://ssh-remote%2Buser@srg-gpu.dhcp.lbl.gov/media/user/12TB1/HanLi/GitHub/CMU11785-project/src/notebooks/tft.ipynb#ch0000010vscode-remote?line=40'>41</a>\u001b[0m \u001b[39mprint\u001b[39m(\u001b[39mf\u001b[39m\u001b[39m\"\u001b[39m\u001b[39mNumber of parameters in network: \u001b[39m\u001b[39m{\u001b[39;00mtft_model\u001b[39m.\u001b[39msize()\u001b[39m/\u001b[39m\u001b[39m1e3\u001b[39m\u001b[39m:\u001b[39;00m\u001b[39m.1f\u001b[39m\u001b[39m}\u001b[39;00m\u001b[39mk\u001b[39m\u001b[39m\"\u001b[39m)\n\u001b[1;32m     <a href='vscode-notebook-cell://ssh-remote%2Buser@srg-gpu.dhcp.lbl.gov/media/user/12TB1/HanLi/GitHub/CMU11785-project/src/notebooks/tft.ipynb#ch0000010vscode-remote?line=42'>43</a>\u001b[0m \u001b[39m# fit network\u001b[39;00m\n\u001b[0;32m---> <a href='vscode-notebook-cell://ssh-remote%2Buser@srg-gpu.dhcp.lbl.gov/media/user/12TB1/HanLi/GitHub/CMU11785-project/src/notebooks/tft.ipynb#ch0000010vscode-remote?line=43'>44</a>\u001b[0m trainer\u001b[39m.\u001b[39;49mfit(\n\u001b[1;32m     <a href='vscode-notebook-cell://ssh-remote%2Buser@srg-gpu.dhcp.lbl.gov/media/user/12TB1/HanLi/GitHub/CMU11785-project/src/notebooks/tft.ipynb#ch0000010vscode-remote?line=44'>45</a>\u001b[0m     tft_model,\n\u001b[1;32m     <a href='vscode-notebook-cell://ssh-remote%2Buser@srg-gpu.dhcp.lbl.gov/media/user/12TB1/HanLi/GitHub/CMU11785-project/src/notebooks/tft.ipynb#ch0000010vscode-remote?line=45'>46</a>\u001b[0m     train_dataloaders\u001b[39m=\u001b[39;49mtrain_dataloader,\n\u001b[1;32m     <a href='vscode-notebook-cell://ssh-remote%2Buser@srg-gpu.dhcp.lbl.gov/media/user/12TB1/HanLi/GitHub/CMU11785-project/src/notebooks/tft.ipynb#ch0000010vscode-remote?line=46'>47</a>\u001b[0m     val_dataloaders\u001b[39m=\u001b[39;49mval_dataloader,\n\u001b[1;32m     <a href='vscode-notebook-cell://ssh-remote%2Buser@srg-gpu.dhcp.lbl.gov/media/user/12TB1/HanLi/GitHub/CMU11785-project/src/notebooks/tft.ipynb#ch0000010vscode-remote?line=47'>48</a>\u001b[0m )\n",
      "File \u001b[0;32m~/anaconda3/envs/11785_project/lib/python3.9/site-packages/pytorch_lightning/trainer/trainer.py:771\u001b[0m, in \u001b[0;36mTrainer.fit\u001b[0;34m(self, model, train_dataloaders, val_dataloaders, datamodule, ckpt_path)\u001b[0m\n\u001b[1;32m    <a href='file:///home/user/anaconda3/envs/11785_project/lib/python3.9/site-packages/pytorch_lightning/trainer/trainer.py?line=751'>752</a>\u001b[0m \u001b[39mr\u001b[39m\u001b[39m\"\"\"\u001b[39;00m\n\u001b[1;32m    <a href='file:///home/user/anaconda3/envs/11785_project/lib/python3.9/site-packages/pytorch_lightning/trainer/trainer.py?line=752'>753</a>\u001b[0m \u001b[39mRuns the full optimization routine.\u001b[39;00m\n\u001b[1;32m    <a href='file:///home/user/anaconda3/envs/11785_project/lib/python3.9/site-packages/pytorch_lightning/trainer/trainer.py?line=753'>754</a>\u001b[0m \n\u001b[0;32m   (...)\u001b[0m\n\u001b[1;32m    <a href='file:///home/user/anaconda3/envs/11785_project/lib/python3.9/site-packages/pytorch_lightning/trainer/trainer.py?line=767'>768</a>\u001b[0m \u001b[39m    datamodule: An instance of :class:`~pytorch_lightning.core.datamodule.LightningDataModule`.\u001b[39;00m\n\u001b[1;32m    <a href='file:///home/user/anaconda3/envs/11785_project/lib/python3.9/site-packages/pytorch_lightning/trainer/trainer.py?line=768'>769</a>\u001b[0m \u001b[39m\"\"\"\u001b[39;00m\n\u001b[1;32m    <a href='file:///home/user/anaconda3/envs/11785_project/lib/python3.9/site-packages/pytorch_lightning/trainer/trainer.py?line=769'>770</a>\u001b[0m \u001b[39mself\u001b[39m\u001b[39m.\u001b[39mstrategy\u001b[39m.\u001b[39mmodel \u001b[39m=\u001b[39m model\n\u001b[0;32m--> <a href='file:///home/user/anaconda3/envs/11785_project/lib/python3.9/site-packages/pytorch_lightning/trainer/trainer.py?line=770'>771</a>\u001b[0m \u001b[39mself\u001b[39;49m\u001b[39m.\u001b[39;49m_call_and_handle_interrupt(\n\u001b[1;32m    <a href='file:///home/user/anaconda3/envs/11785_project/lib/python3.9/site-packages/pytorch_lightning/trainer/trainer.py?line=771'>772</a>\u001b[0m     \u001b[39mself\u001b[39;49m\u001b[39m.\u001b[39;49m_fit_impl, model, train_dataloaders, val_dataloaders, datamodule, ckpt_path\n\u001b[1;32m    <a href='file:///home/user/anaconda3/envs/11785_project/lib/python3.9/site-packages/pytorch_lightning/trainer/trainer.py?line=772'>773</a>\u001b[0m )\n",
      "File \u001b[0;32m~/anaconda3/envs/11785_project/lib/python3.9/site-packages/pytorch_lightning/trainer/trainer.py:724\u001b[0m, in \u001b[0;36mTrainer._call_and_handle_interrupt\u001b[0;34m(self, trainer_fn, *args, **kwargs)\u001b[0m\n\u001b[1;32m    <a href='file:///home/user/anaconda3/envs/11785_project/lib/python3.9/site-packages/pytorch_lightning/trainer/trainer.py?line=721'>722</a>\u001b[0m         \u001b[39mreturn\u001b[39;00m \u001b[39mself\u001b[39m\u001b[39m.\u001b[39mstrategy\u001b[39m.\u001b[39mlauncher\u001b[39m.\u001b[39mlaunch(trainer_fn, \u001b[39m*\u001b[39margs, trainer\u001b[39m=\u001b[39m\u001b[39mself\u001b[39m, \u001b[39m*\u001b[39m\u001b[39m*\u001b[39mkwargs)\n\u001b[1;32m    <a href='file:///home/user/anaconda3/envs/11785_project/lib/python3.9/site-packages/pytorch_lightning/trainer/trainer.py?line=722'>723</a>\u001b[0m     \u001b[39melse\u001b[39;00m:\n\u001b[0;32m--> <a href='file:///home/user/anaconda3/envs/11785_project/lib/python3.9/site-packages/pytorch_lightning/trainer/trainer.py?line=723'>724</a>\u001b[0m         \u001b[39mreturn\u001b[39;00m trainer_fn(\u001b[39m*\u001b[39;49margs, \u001b[39m*\u001b[39;49m\u001b[39m*\u001b[39;49mkwargs)\n\u001b[1;32m    <a href='file:///home/user/anaconda3/envs/11785_project/lib/python3.9/site-packages/pytorch_lightning/trainer/trainer.py?line=724'>725</a>\u001b[0m \u001b[39m# TODO: treat KeyboardInterrupt as BaseException (delete the code below) in v1.7\u001b[39;00m\n\u001b[1;32m    <a href='file:///home/user/anaconda3/envs/11785_project/lib/python3.9/site-packages/pytorch_lightning/trainer/trainer.py?line=725'>726</a>\u001b[0m \u001b[39mexcept\u001b[39;00m \u001b[39mKeyboardInterrupt\u001b[39;00m \u001b[39mas\u001b[39;00m exception:\n",
      "File \u001b[0;32m~/anaconda3/envs/11785_project/lib/python3.9/site-packages/pytorch_lightning/trainer/trainer.py:812\u001b[0m, in \u001b[0;36mTrainer._fit_impl\u001b[0;34m(self, model, train_dataloaders, val_dataloaders, datamodule, ckpt_path)\u001b[0m\n\u001b[1;32m    <a href='file:///home/user/anaconda3/envs/11785_project/lib/python3.9/site-packages/pytorch_lightning/trainer/trainer.py?line=807'>808</a>\u001b[0m ckpt_path \u001b[39m=\u001b[39m ckpt_path \u001b[39mor\u001b[39;00m \u001b[39mself\u001b[39m\u001b[39m.\u001b[39mresume_from_checkpoint\n\u001b[1;32m    <a href='file:///home/user/anaconda3/envs/11785_project/lib/python3.9/site-packages/pytorch_lightning/trainer/trainer.py?line=808'>809</a>\u001b[0m \u001b[39mself\u001b[39m\u001b[39m.\u001b[39m_ckpt_path \u001b[39m=\u001b[39m \u001b[39mself\u001b[39m\u001b[39m.\u001b[39m__set_ckpt_path(\n\u001b[1;32m    <a href='file:///home/user/anaconda3/envs/11785_project/lib/python3.9/site-packages/pytorch_lightning/trainer/trainer.py?line=809'>810</a>\u001b[0m     ckpt_path, model_provided\u001b[39m=\u001b[39m\u001b[39mTrue\u001b[39;00m, model_connected\u001b[39m=\u001b[39m\u001b[39mself\u001b[39m\u001b[39m.\u001b[39mlightning_module \u001b[39mis\u001b[39;00m \u001b[39mnot\u001b[39;00m \u001b[39mNone\u001b[39;00m\n\u001b[1;32m    <a href='file:///home/user/anaconda3/envs/11785_project/lib/python3.9/site-packages/pytorch_lightning/trainer/trainer.py?line=810'>811</a>\u001b[0m )\n\u001b[0;32m--> <a href='file:///home/user/anaconda3/envs/11785_project/lib/python3.9/site-packages/pytorch_lightning/trainer/trainer.py?line=811'>812</a>\u001b[0m results \u001b[39m=\u001b[39m \u001b[39mself\u001b[39;49m\u001b[39m.\u001b[39;49m_run(model, ckpt_path\u001b[39m=\u001b[39;49m\u001b[39mself\u001b[39;49m\u001b[39m.\u001b[39;49mckpt_path)\n\u001b[1;32m    <a href='file:///home/user/anaconda3/envs/11785_project/lib/python3.9/site-packages/pytorch_lightning/trainer/trainer.py?line=813'>814</a>\u001b[0m \u001b[39massert\u001b[39;00m \u001b[39mself\u001b[39m\u001b[39m.\u001b[39mstate\u001b[39m.\u001b[39mstopped\n\u001b[1;32m    <a href='file:///home/user/anaconda3/envs/11785_project/lib/python3.9/site-packages/pytorch_lightning/trainer/trainer.py?line=814'>815</a>\u001b[0m \u001b[39mself\u001b[39m\u001b[39m.\u001b[39mtraining \u001b[39m=\u001b[39m \u001b[39mFalse\u001b[39;00m\n",
      "File \u001b[0;32m~/anaconda3/envs/11785_project/lib/python3.9/site-packages/pytorch_lightning/trainer/trainer.py:1237\u001b[0m, in \u001b[0;36mTrainer._run\u001b[0;34m(self, model, ckpt_path)\u001b[0m\n\u001b[1;32m   <a href='file:///home/user/anaconda3/envs/11785_project/lib/python3.9/site-packages/pytorch_lightning/trainer/trainer.py?line=1232'>1233</a>\u001b[0m \u001b[39mself\u001b[39m\u001b[39m.\u001b[39m_checkpoint_connector\u001b[39m.\u001b[39mrestore_training_state()\n\u001b[1;32m   <a href='file:///home/user/anaconda3/envs/11785_project/lib/python3.9/site-packages/pytorch_lightning/trainer/trainer.py?line=1234'>1235</a>\u001b[0m \u001b[39mself\u001b[39m\u001b[39m.\u001b[39m_checkpoint_connector\u001b[39m.\u001b[39mresume_end()\n\u001b[0;32m-> <a href='file:///home/user/anaconda3/envs/11785_project/lib/python3.9/site-packages/pytorch_lightning/trainer/trainer.py?line=1236'>1237</a>\u001b[0m results \u001b[39m=\u001b[39m \u001b[39mself\u001b[39;49m\u001b[39m.\u001b[39;49m_run_stage()\n\u001b[1;32m   <a href='file:///home/user/anaconda3/envs/11785_project/lib/python3.9/site-packages/pytorch_lightning/trainer/trainer.py?line=1238'>1239</a>\u001b[0m log\u001b[39m.\u001b[39mdetail(\u001b[39mf\u001b[39m\u001b[39m\"\u001b[39m\u001b[39m{\u001b[39;00m\u001b[39mself\u001b[39m\u001b[39m.\u001b[39m\u001b[39m__class__\u001b[39m\u001b[39m.\u001b[39m\u001b[39m__name__\u001b[39m\u001b[39m}\u001b[39;00m\u001b[39m: trainer tearing down\u001b[39m\u001b[39m\"\u001b[39m)\n\u001b[1;32m   <a href='file:///home/user/anaconda3/envs/11785_project/lib/python3.9/site-packages/pytorch_lightning/trainer/trainer.py?line=1239'>1240</a>\u001b[0m \u001b[39mself\u001b[39m\u001b[39m.\u001b[39m_teardown()\n",
      "File \u001b[0;32m~/anaconda3/envs/11785_project/lib/python3.9/site-packages/pytorch_lightning/trainer/trainer.py:1324\u001b[0m, in \u001b[0;36mTrainer._run_stage\u001b[0;34m(self)\u001b[0m\n\u001b[1;32m   <a href='file:///home/user/anaconda3/envs/11785_project/lib/python3.9/site-packages/pytorch_lightning/trainer/trainer.py?line=1321'>1322</a>\u001b[0m \u001b[39mif\u001b[39;00m \u001b[39mself\u001b[39m\u001b[39m.\u001b[39mpredicting:\n\u001b[1;32m   <a href='file:///home/user/anaconda3/envs/11785_project/lib/python3.9/site-packages/pytorch_lightning/trainer/trainer.py?line=1322'>1323</a>\u001b[0m     \u001b[39mreturn\u001b[39;00m \u001b[39mself\u001b[39m\u001b[39m.\u001b[39m_run_predict()\n\u001b[0;32m-> <a href='file:///home/user/anaconda3/envs/11785_project/lib/python3.9/site-packages/pytorch_lightning/trainer/trainer.py?line=1323'>1324</a>\u001b[0m \u001b[39mreturn\u001b[39;00m \u001b[39mself\u001b[39;49m\u001b[39m.\u001b[39;49m_run_train()\n",
      "File \u001b[0;32m~/anaconda3/envs/11785_project/lib/python3.9/site-packages/pytorch_lightning/trainer/trainer.py:1346\u001b[0m, in \u001b[0;36mTrainer._run_train\u001b[0;34m(self)\u001b[0m\n\u001b[1;32m   <a href='file:///home/user/anaconda3/envs/11785_project/lib/python3.9/site-packages/pytorch_lightning/trainer/trainer.py?line=1342'>1343</a>\u001b[0m \u001b[39mself\u001b[39m\u001b[39m.\u001b[39m_pre_training_routine()\n\u001b[1;32m   <a href='file:///home/user/anaconda3/envs/11785_project/lib/python3.9/site-packages/pytorch_lightning/trainer/trainer.py?line=1344'>1345</a>\u001b[0m \u001b[39mwith\u001b[39;00m isolate_rng():\n\u001b[0;32m-> <a href='file:///home/user/anaconda3/envs/11785_project/lib/python3.9/site-packages/pytorch_lightning/trainer/trainer.py?line=1345'>1346</a>\u001b[0m     \u001b[39mself\u001b[39;49m\u001b[39m.\u001b[39;49m_run_sanity_check()\n\u001b[1;32m   <a href='file:///home/user/anaconda3/envs/11785_project/lib/python3.9/site-packages/pytorch_lightning/trainer/trainer.py?line=1347'>1348</a>\u001b[0m \u001b[39m# enable train mode\u001b[39;00m\n\u001b[1;32m   <a href='file:///home/user/anaconda3/envs/11785_project/lib/python3.9/site-packages/pytorch_lightning/trainer/trainer.py?line=1348'>1349</a>\u001b[0m \u001b[39mself\u001b[39m\u001b[39m.\u001b[39mmodel\u001b[39m.\u001b[39mtrain()\n",
      "File \u001b[0;32m~/anaconda3/envs/11785_project/lib/python3.9/site-packages/pytorch_lightning/trainer/trainer.py:1414\u001b[0m, in \u001b[0;36mTrainer._run_sanity_check\u001b[0;34m(self)\u001b[0m\n\u001b[1;32m   <a href='file:///home/user/anaconda3/envs/11785_project/lib/python3.9/site-packages/pytorch_lightning/trainer/trainer.py?line=1411'>1412</a>\u001b[0m \u001b[39m# run eval step\u001b[39;00m\n\u001b[1;32m   <a href='file:///home/user/anaconda3/envs/11785_project/lib/python3.9/site-packages/pytorch_lightning/trainer/trainer.py?line=1412'>1413</a>\u001b[0m \u001b[39mwith\u001b[39;00m torch\u001b[39m.\u001b[39mno_grad():\n\u001b[0;32m-> <a href='file:///home/user/anaconda3/envs/11785_project/lib/python3.9/site-packages/pytorch_lightning/trainer/trainer.py?line=1413'>1414</a>\u001b[0m     val_loop\u001b[39m.\u001b[39;49mrun()\n\u001b[1;32m   <a href='file:///home/user/anaconda3/envs/11785_project/lib/python3.9/site-packages/pytorch_lightning/trainer/trainer.py?line=1415'>1416</a>\u001b[0m \u001b[39mself\u001b[39m\u001b[39m.\u001b[39m_call_callback_hooks(\u001b[39m\"\u001b[39m\u001b[39mon_sanity_check_end\u001b[39m\u001b[39m\"\u001b[39m)\n\u001b[1;32m   <a href='file:///home/user/anaconda3/envs/11785_project/lib/python3.9/site-packages/pytorch_lightning/trainer/trainer.py?line=1417'>1418</a>\u001b[0m \u001b[39m# reset logger connector\u001b[39;00m\n",
      "File \u001b[0;32m~/anaconda3/envs/11785_project/lib/python3.9/site-packages/pytorch_lightning/loops/base.py:204\u001b[0m, in \u001b[0;36mLoop.run\u001b[0;34m(self, *args, **kwargs)\u001b[0m\n\u001b[1;32m    <a href='file:///home/user/anaconda3/envs/11785_project/lib/python3.9/site-packages/pytorch_lightning/loops/base.py?line=201'>202</a>\u001b[0m \u001b[39mtry\u001b[39;00m:\n\u001b[1;32m    <a href='file:///home/user/anaconda3/envs/11785_project/lib/python3.9/site-packages/pytorch_lightning/loops/base.py?line=202'>203</a>\u001b[0m     \u001b[39mself\u001b[39m\u001b[39m.\u001b[39mon_advance_start(\u001b[39m*\u001b[39margs, \u001b[39m*\u001b[39m\u001b[39m*\u001b[39mkwargs)\n\u001b[0;32m--> <a href='file:///home/user/anaconda3/envs/11785_project/lib/python3.9/site-packages/pytorch_lightning/loops/base.py?line=203'>204</a>\u001b[0m     \u001b[39mself\u001b[39;49m\u001b[39m.\u001b[39;49madvance(\u001b[39m*\u001b[39;49margs, \u001b[39m*\u001b[39;49m\u001b[39m*\u001b[39;49mkwargs)\n\u001b[1;32m    <a href='file:///home/user/anaconda3/envs/11785_project/lib/python3.9/site-packages/pytorch_lightning/loops/base.py?line=204'>205</a>\u001b[0m     \u001b[39mself\u001b[39m\u001b[39m.\u001b[39mon_advance_end()\n\u001b[1;32m    <a href='file:///home/user/anaconda3/envs/11785_project/lib/python3.9/site-packages/pytorch_lightning/loops/base.py?line=205'>206</a>\u001b[0m     \u001b[39mself\u001b[39m\u001b[39m.\u001b[39m_restarting \u001b[39m=\u001b[39m \u001b[39mFalse\u001b[39;00m\n",
      "File \u001b[0;32m~/anaconda3/envs/11785_project/lib/python3.9/site-packages/pytorch_lightning/loops/dataloader/evaluation_loop.py:153\u001b[0m, in \u001b[0;36mEvaluationLoop.advance\u001b[0;34m(self, *args, **kwargs)\u001b[0m\n\u001b[1;32m    <a href='file:///home/user/anaconda3/envs/11785_project/lib/python3.9/site-packages/pytorch_lightning/loops/dataloader/evaluation_loop.py?line=150'>151</a>\u001b[0m \u001b[39mif\u001b[39;00m \u001b[39mself\u001b[39m\u001b[39m.\u001b[39mnum_dataloaders \u001b[39m>\u001b[39m \u001b[39m1\u001b[39m:\n\u001b[1;32m    <a href='file:///home/user/anaconda3/envs/11785_project/lib/python3.9/site-packages/pytorch_lightning/loops/dataloader/evaluation_loop.py?line=151'>152</a>\u001b[0m     kwargs[\u001b[39m\"\u001b[39m\u001b[39mdataloader_idx\u001b[39m\u001b[39m\"\u001b[39m] \u001b[39m=\u001b[39m dataloader_idx\n\u001b[0;32m--> <a href='file:///home/user/anaconda3/envs/11785_project/lib/python3.9/site-packages/pytorch_lightning/loops/dataloader/evaluation_loop.py?line=152'>153</a>\u001b[0m dl_outputs \u001b[39m=\u001b[39m \u001b[39mself\u001b[39;49m\u001b[39m.\u001b[39;49mepoch_loop\u001b[39m.\u001b[39;49mrun(\u001b[39mself\u001b[39;49m\u001b[39m.\u001b[39;49m_data_fetcher, dl_max_batches, kwargs)\n\u001b[1;32m    <a href='file:///home/user/anaconda3/envs/11785_project/lib/python3.9/site-packages/pytorch_lightning/loops/dataloader/evaluation_loop.py?line=154'>155</a>\u001b[0m \u001b[39m# store batch level output per dataloader\u001b[39;00m\n\u001b[1;32m    <a href='file:///home/user/anaconda3/envs/11785_project/lib/python3.9/site-packages/pytorch_lightning/loops/dataloader/evaluation_loop.py?line=155'>156</a>\u001b[0m \u001b[39mself\u001b[39m\u001b[39m.\u001b[39m_outputs\u001b[39m.\u001b[39mappend(dl_outputs)\n",
      "File \u001b[0;32m~/anaconda3/envs/11785_project/lib/python3.9/site-packages/pytorch_lightning/loops/base.py:204\u001b[0m, in \u001b[0;36mLoop.run\u001b[0;34m(self, *args, **kwargs)\u001b[0m\n\u001b[1;32m    <a href='file:///home/user/anaconda3/envs/11785_project/lib/python3.9/site-packages/pytorch_lightning/loops/base.py?line=201'>202</a>\u001b[0m \u001b[39mtry\u001b[39;00m:\n\u001b[1;32m    <a href='file:///home/user/anaconda3/envs/11785_project/lib/python3.9/site-packages/pytorch_lightning/loops/base.py?line=202'>203</a>\u001b[0m     \u001b[39mself\u001b[39m\u001b[39m.\u001b[39mon_advance_start(\u001b[39m*\u001b[39margs, \u001b[39m*\u001b[39m\u001b[39m*\u001b[39mkwargs)\n\u001b[0;32m--> <a href='file:///home/user/anaconda3/envs/11785_project/lib/python3.9/site-packages/pytorch_lightning/loops/base.py?line=203'>204</a>\u001b[0m     \u001b[39mself\u001b[39;49m\u001b[39m.\u001b[39;49madvance(\u001b[39m*\u001b[39;49margs, \u001b[39m*\u001b[39;49m\u001b[39m*\u001b[39;49mkwargs)\n\u001b[1;32m    <a href='file:///home/user/anaconda3/envs/11785_project/lib/python3.9/site-packages/pytorch_lightning/loops/base.py?line=204'>205</a>\u001b[0m     \u001b[39mself\u001b[39m\u001b[39m.\u001b[39mon_advance_end()\n\u001b[1;32m    <a href='file:///home/user/anaconda3/envs/11785_project/lib/python3.9/site-packages/pytorch_lightning/loops/base.py?line=205'>206</a>\u001b[0m     \u001b[39mself\u001b[39m\u001b[39m.\u001b[39m_restarting \u001b[39m=\u001b[39m \u001b[39mFalse\u001b[39;00m\n",
      "File \u001b[0;32m~/anaconda3/envs/11785_project/lib/python3.9/site-packages/pytorch_lightning/loops/epoch/evaluation_epoch_loop.py:127\u001b[0m, in \u001b[0;36mEvaluationEpochLoop.advance\u001b[0;34m(self, data_fetcher, dl_max_batches, kwargs)\u001b[0m\n\u001b[1;32m    <a href='file:///home/user/anaconda3/envs/11785_project/lib/python3.9/site-packages/pytorch_lightning/loops/epoch/evaluation_epoch_loop.py?line=123'>124</a>\u001b[0m \u001b[39mself\u001b[39m\u001b[39m.\u001b[39mbatch_progress\u001b[39m.\u001b[39mincrement_started()\n\u001b[1;32m    <a href='file:///home/user/anaconda3/envs/11785_project/lib/python3.9/site-packages/pytorch_lightning/loops/epoch/evaluation_epoch_loop.py?line=125'>126</a>\u001b[0m \u001b[39m# lightning module methods\u001b[39;00m\n\u001b[0;32m--> <a href='file:///home/user/anaconda3/envs/11785_project/lib/python3.9/site-packages/pytorch_lightning/loops/epoch/evaluation_epoch_loop.py?line=126'>127</a>\u001b[0m output \u001b[39m=\u001b[39m \u001b[39mself\u001b[39;49m\u001b[39m.\u001b[39;49m_evaluation_step(\u001b[39m*\u001b[39;49m\u001b[39m*\u001b[39;49mkwargs)\n\u001b[1;32m    <a href='file:///home/user/anaconda3/envs/11785_project/lib/python3.9/site-packages/pytorch_lightning/loops/epoch/evaluation_epoch_loop.py?line=127'>128</a>\u001b[0m output \u001b[39m=\u001b[39m \u001b[39mself\u001b[39m\u001b[39m.\u001b[39m_evaluation_step_end(output)\n\u001b[1;32m    <a href='file:///home/user/anaconda3/envs/11785_project/lib/python3.9/site-packages/pytorch_lightning/loops/epoch/evaluation_epoch_loop.py?line=129'>130</a>\u001b[0m \u001b[39mself\u001b[39m\u001b[39m.\u001b[39mbatch_progress\u001b[39m.\u001b[39mincrement_processed()\n",
      "File \u001b[0;32m~/anaconda3/envs/11785_project/lib/python3.9/site-packages/pytorch_lightning/loops/epoch/evaluation_epoch_loop.py:222\u001b[0m, in \u001b[0;36mEvaluationEpochLoop._evaluation_step\u001b[0;34m(self, **kwargs)\u001b[0m\n\u001b[1;32m    <a href='file:///home/user/anaconda3/envs/11785_project/lib/python3.9/site-packages/pytorch_lightning/loops/epoch/evaluation_epoch_loop.py?line=219'>220</a>\u001b[0m     output \u001b[39m=\u001b[39m \u001b[39mself\u001b[39m\u001b[39m.\u001b[39mtrainer\u001b[39m.\u001b[39m_call_strategy_hook(\u001b[39m\"\u001b[39m\u001b[39mtest_step\u001b[39m\u001b[39m\"\u001b[39m, \u001b[39m*\u001b[39mkwargs\u001b[39m.\u001b[39mvalues())\n\u001b[1;32m    <a href='file:///home/user/anaconda3/envs/11785_project/lib/python3.9/site-packages/pytorch_lightning/loops/epoch/evaluation_epoch_loop.py?line=220'>221</a>\u001b[0m \u001b[39melse\u001b[39;00m:\n\u001b[0;32m--> <a href='file:///home/user/anaconda3/envs/11785_project/lib/python3.9/site-packages/pytorch_lightning/loops/epoch/evaluation_epoch_loop.py?line=221'>222</a>\u001b[0m     output \u001b[39m=\u001b[39m \u001b[39mself\u001b[39;49m\u001b[39m.\u001b[39;49mtrainer\u001b[39m.\u001b[39;49m_call_strategy_hook(\u001b[39m\"\u001b[39;49m\u001b[39mvalidation_step\u001b[39;49m\u001b[39m\"\u001b[39;49m, \u001b[39m*\u001b[39;49mkwargs\u001b[39m.\u001b[39;49mvalues())\n\u001b[1;32m    <a href='file:///home/user/anaconda3/envs/11785_project/lib/python3.9/site-packages/pytorch_lightning/loops/epoch/evaluation_epoch_loop.py?line=223'>224</a>\u001b[0m \u001b[39mreturn\u001b[39;00m output\n",
      "File \u001b[0;32m~/anaconda3/envs/11785_project/lib/python3.9/site-packages/pytorch_lightning/trainer/trainer.py:1766\u001b[0m, in \u001b[0;36mTrainer._call_strategy_hook\u001b[0;34m(self, hook_name, *args, **kwargs)\u001b[0m\n\u001b[1;32m   <a href='file:///home/user/anaconda3/envs/11785_project/lib/python3.9/site-packages/pytorch_lightning/trainer/trainer.py?line=1762'>1763</a>\u001b[0m     \u001b[39mreturn\u001b[39;00m\n\u001b[1;32m   <a href='file:///home/user/anaconda3/envs/11785_project/lib/python3.9/site-packages/pytorch_lightning/trainer/trainer.py?line=1764'>1765</a>\u001b[0m \u001b[39mwith\u001b[39;00m \u001b[39mself\u001b[39m\u001b[39m.\u001b[39mprofiler\u001b[39m.\u001b[39mprofile(\u001b[39mf\u001b[39m\u001b[39m\"\u001b[39m\u001b[39m[Strategy]\u001b[39m\u001b[39m{\u001b[39;00m\u001b[39mself\u001b[39m\u001b[39m.\u001b[39mstrategy\u001b[39m.\u001b[39m\u001b[39m__class__\u001b[39m\u001b[39m.\u001b[39m\u001b[39m__name__\u001b[39m\u001b[39m}\u001b[39;00m\u001b[39m.\u001b[39m\u001b[39m{\u001b[39;00mhook_name\u001b[39m}\u001b[39;00m\u001b[39m\"\u001b[39m):\n\u001b[0;32m-> <a href='file:///home/user/anaconda3/envs/11785_project/lib/python3.9/site-packages/pytorch_lightning/trainer/trainer.py?line=1765'>1766</a>\u001b[0m     output \u001b[39m=\u001b[39m fn(\u001b[39m*\u001b[39;49margs, \u001b[39m*\u001b[39;49m\u001b[39m*\u001b[39;49mkwargs)\n\u001b[1;32m   <a href='file:///home/user/anaconda3/envs/11785_project/lib/python3.9/site-packages/pytorch_lightning/trainer/trainer.py?line=1767'>1768</a>\u001b[0m \u001b[39m# restore current_fx when nested context\u001b[39;00m\n\u001b[1;32m   <a href='file:///home/user/anaconda3/envs/11785_project/lib/python3.9/site-packages/pytorch_lightning/trainer/trainer.py?line=1768'>1769</a>\u001b[0m pl_module\u001b[39m.\u001b[39m_current_fx_name \u001b[39m=\u001b[39m prev_fx_name\n",
      "File \u001b[0;32m~/anaconda3/envs/11785_project/lib/python3.9/site-packages/pytorch_lightning/strategies/strategy.py:344\u001b[0m, in \u001b[0;36mStrategy.validation_step\u001b[0;34m(self, *args, **kwargs)\u001b[0m\n\u001b[1;32m    <a href='file:///home/user/anaconda3/envs/11785_project/lib/python3.9/site-packages/pytorch_lightning/strategies/strategy.py?line=338'>339</a>\u001b[0m \u001b[39m\"\"\"The actual validation step.\u001b[39;00m\n\u001b[1;32m    <a href='file:///home/user/anaconda3/envs/11785_project/lib/python3.9/site-packages/pytorch_lightning/strategies/strategy.py?line=339'>340</a>\u001b[0m \n\u001b[1;32m    <a href='file:///home/user/anaconda3/envs/11785_project/lib/python3.9/site-packages/pytorch_lightning/strategies/strategy.py?line=340'>341</a>\u001b[0m \u001b[39mSee :meth:`~pytorch_lightning.core.lightning.LightningModule.validation_step` for more details\u001b[39;00m\n\u001b[1;32m    <a href='file:///home/user/anaconda3/envs/11785_project/lib/python3.9/site-packages/pytorch_lightning/strategies/strategy.py?line=341'>342</a>\u001b[0m \u001b[39m\"\"\"\u001b[39;00m\n\u001b[1;32m    <a href='file:///home/user/anaconda3/envs/11785_project/lib/python3.9/site-packages/pytorch_lightning/strategies/strategy.py?line=342'>343</a>\u001b[0m \u001b[39mwith\u001b[39;00m \u001b[39mself\u001b[39m\u001b[39m.\u001b[39mprecision_plugin\u001b[39m.\u001b[39mval_step_context():\n\u001b[0;32m--> <a href='file:///home/user/anaconda3/envs/11785_project/lib/python3.9/site-packages/pytorch_lightning/strategies/strategy.py?line=343'>344</a>\u001b[0m     \u001b[39mreturn\u001b[39;00m \u001b[39mself\u001b[39;49m\u001b[39m.\u001b[39;49mmodel\u001b[39m.\u001b[39;49mvalidation_step(\u001b[39m*\u001b[39;49margs, \u001b[39m*\u001b[39;49m\u001b[39m*\u001b[39;49mkwargs)\n",
      "File \u001b[0;32m~/anaconda3/envs/11785_project/lib/python3.9/site-packages/pytorch_forecasting/models/base_model.py:414\u001b[0m, in \u001b[0;36mBaseModel.validation_step\u001b[0;34m(self, batch, batch_idx)\u001b[0m\n\u001b[1;32m    <a href='file:///home/user/anaconda3/envs/11785_project/lib/python3.9/site-packages/pytorch_forecasting/models/base_model.py?line=411'>412</a>\u001b[0m x, y \u001b[39m=\u001b[39m batch\n\u001b[1;32m    <a href='file:///home/user/anaconda3/envs/11785_project/lib/python3.9/site-packages/pytorch_forecasting/models/base_model.py?line=412'>413</a>\u001b[0m log, out \u001b[39m=\u001b[39m \u001b[39mself\u001b[39m\u001b[39m.\u001b[39mstep(x, y, batch_idx)\n\u001b[0;32m--> <a href='file:///home/user/anaconda3/envs/11785_project/lib/python3.9/site-packages/pytorch_forecasting/models/base_model.py?line=413'>414</a>\u001b[0m log\u001b[39m.\u001b[39mupdate(\u001b[39mself\u001b[39;49m\u001b[39m.\u001b[39;49mcreate_log(x, y, out, batch_idx))\n\u001b[1;32m    <a href='file:///home/user/anaconda3/envs/11785_project/lib/python3.9/site-packages/pytorch_forecasting/models/base_model.py?line=414'>415</a>\u001b[0m \u001b[39mreturn\u001b[39;00m log\n",
      "File \u001b[0;32m~/anaconda3/envs/11785_project/lib/python3.9/site-packages/pytorch_forecasting/models/temporal_fusion_transformer/__init__.py:518\u001b[0m, in \u001b[0;36mTemporalFusionTransformer.create_log\u001b[0;34m(self, x, y, out, batch_idx, **kwargs)\u001b[0m\n\u001b[1;32m    <a href='file:///home/user/anaconda3/envs/11785_project/lib/python3.9/site-packages/pytorch_forecasting/models/temporal_fusion_transformer/__init__.py?line=516'>517</a>\u001b[0m \u001b[39mdef\u001b[39;00m \u001b[39mcreate_log\u001b[39m(\u001b[39mself\u001b[39m, x, y, out, batch_idx, \u001b[39m*\u001b[39m\u001b[39m*\u001b[39mkwargs):\n\u001b[0;32m--> <a href='file:///home/user/anaconda3/envs/11785_project/lib/python3.9/site-packages/pytorch_forecasting/models/temporal_fusion_transformer/__init__.py?line=517'>518</a>\u001b[0m     log \u001b[39m=\u001b[39m \u001b[39msuper\u001b[39;49m()\u001b[39m.\u001b[39;49mcreate_log(x, y, out, batch_idx, \u001b[39m*\u001b[39;49m\u001b[39m*\u001b[39;49mkwargs)\n\u001b[1;32m    <a href='file:///home/user/anaconda3/envs/11785_project/lib/python3.9/site-packages/pytorch_forecasting/models/temporal_fusion_transformer/__init__.py?line=518'>519</a>\u001b[0m     \u001b[39mif\u001b[39;00m \u001b[39mself\u001b[39m\u001b[39m.\u001b[39mlog_interval \u001b[39m>\u001b[39m \u001b[39m0\u001b[39m:\n\u001b[1;32m    <a href='file:///home/user/anaconda3/envs/11785_project/lib/python3.9/site-packages/pytorch_forecasting/models/temporal_fusion_transformer/__init__.py?line=519'>520</a>\u001b[0m         log[\u001b[39m\"\u001b[39m\u001b[39minterpretation\u001b[39m\u001b[39m\"\u001b[39m] \u001b[39m=\u001b[39m \u001b[39mself\u001b[39m\u001b[39m.\u001b[39m_log_interpretation(out)\n",
      "File \u001b[0;32m~/anaconda3/envs/11785_project/lib/python3.9/site-packages/pytorch_forecasting/models/base_model.py:457\u001b[0m, in \u001b[0;36mBaseModel.create_log\u001b[0;34m(self, x, y, out, batch_idx, prediction_kwargs, quantiles_kwargs)\u001b[0m\n\u001b[1;32m    <a href='file:///home/user/anaconda3/envs/11785_project/lib/python3.9/site-packages/pytorch_forecasting/models/base_model.py?line=454'>455</a>\u001b[0m \u001b[39mself\u001b[39m\u001b[39m.\u001b[39mlog_metrics(x, y, out, prediction_kwargs\u001b[39m=\u001b[39mprediction_kwargs)\n\u001b[1;32m    <a href='file:///home/user/anaconda3/envs/11785_project/lib/python3.9/site-packages/pytorch_forecasting/models/base_model.py?line=455'>456</a>\u001b[0m \u001b[39mif\u001b[39;00m \u001b[39mself\u001b[39m\u001b[39m.\u001b[39mlog_interval \u001b[39m>\u001b[39m \u001b[39m0\u001b[39m:\n\u001b[0;32m--> <a href='file:///home/user/anaconda3/envs/11785_project/lib/python3.9/site-packages/pytorch_forecasting/models/base_model.py?line=456'>457</a>\u001b[0m     \u001b[39mself\u001b[39;49m\u001b[39m.\u001b[39;49mlog_prediction(\n\u001b[1;32m    <a href='file:///home/user/anaconda3/envs/11785_project/lib/python3.9/site-packages/pytorch_forecasting/models/base_model.py?line=457'>458</a>\u001b[0m         x, out, batch_idx, prediction_kwargs\u001b[39m=\u001b[39;49mprediction_kwargs, quantiles_kwargs\u001b[39m=\u001b[39;49mquantiles_kwargs\n\u001b[1;32m    <a href='file:///home/user/anaconda3/envs/11785_project/lib/python3.9/site-packages/pytorch_forecasting/models/base_model.py?line=458'>459</a>\u001b[0m     )\n\u001b[1;32m    <a href='file:///home/user/anaconda3/envs/11785_project/lib/python3.9/site-packages/pytorch_forecasting/models/base_model.py?line=459'>460</a>\u001b[0m \u001b[39mreturn\u001b[39;00m {}\n",
      "File \u001b[0;32m~/anaconda3/envs/11785_project/lib/python3.9/site-packages/pytorch_forecasting/models/base_model.py:719\u001b[0m, in \u001b[0;36mBaseModel.log_prediction\u001b[0;34m(self, x, out, batch_idx, **kwargs)\u001b[0m\n\u001b[1;32m    <a href='file:///home/user/anaconda3/envs/11785_project/lib/python3.9/site-packages/pytorch_forecasting/models/base_model.py?line=712'>713</a>\u001b[0m         \u001b[39mself\u001b[39m\u001b[39m.\u001b[39mlogger\u001b[39m.\u001b[39mexperiment\u001b[39m.\u001b[39madd_figure(\n\u001b[1;32m    <a href='file:///home/user/anaconda3/envs/11785_project/lib/python3.9/site-packages/pytorch_forecasting/models/base_model.py?line=713'>714</a>\u001b[0m             \u001b[39mf\u001b[39m\u001b[39m\"\u001b[39m\u001b[39m{\u001b[39;00m\u001b[39mself\u001b[39m\u001b[39m.\u001b[39mtarget_names[idx]\u001b[39m}\u001b[39;00m\u001b[39m \u001b[39m\u001b[39m{\u001b[39;00mtag\u001b[39m}\u001b[39;00m\u001b[39m\"\u001b[39m,\n\u001b[1;32m    <a href='file:///home/user/anaconda3/envs/11785_project/lib/python3.9/site-packages/pytorch_forecasting/models/base_model.py?line=714'>715</a>\u001b[0m             f,\n\u001b[1;32m    <a href='file:///home/user/anaconda3/envs/11785_project/lib/python3.9/site-packages/pytorch_forecasting/models/base_model.py?line=715'>716</a>\u001b[0m             global_step\u001b[39m=\u001b[39m\u001b[39mself\u001b[39m\u001b[39m.\u001b[39mglobal_step,\n\u001b[1;32m    <a href='file:///home/user/anaconda3/envs/11785_project/lib/python3.9/site-packages/pytorch_forecasting/models/base_model.py?line=716'>717</a>\u001b[0m         )\n\u001b[1;32m    <a href='file:///home/user/anaconda3/envs/11785_project/lib/python3.9/site-packages/pytorch_forecasting/models/base_model.py?line=717'>718</a>\u001b[0m \u001b[39melse\u001b[39;00m:\n\u001b[0;32m--> <a href='file:///home/user/anaconda3/envs/11785_project/lib/python3.9/site-packages/pytorch_forecasting/models/base_model.py?line=718'>719</a>\u001b[0m     \u001b[39mself\u001b[39;49m\u001b[39m.\u001b[39;49mlogger\u001b[39m.\u001b[39;49mexperiment\u001b[39m.\u001b[39;49madd_figure(\n\u001b[1;32m    <a href='file:///home/user/anaconda3/envs/11785_project/lib/python3.9/site-packages/pytorch_forecasting/models/base_model.py?line=719'>720</a>\u001b[0m         tag,\n\u001b[1;32m    <a href='file:///home/user/anaconda3/envs/11785_project/lib/python3.9/site-packages/pytorch_forecasting/models/base_model.py?line=720'>721</a>\u001b[0m         fig,\n\u001b[1;32m    <a href='file:///home/user/anaconda3/envs/11785_project/lib/python3.9/site-packages/pytorch_forecasting/models/base_model.py?line=721'>722</a>\u001b[0m         global_step\u001b[39m=\u001b[39m\u001b[39mself\u001b[39m\u001b[39m.\u001b[39mglobal_step,\n\u001b[1;32m    <a href='file:///home/user/anaconda3/envs/11785_project/lib/python3.9/site-packages/pytorch_forecasting/models/base_model.py?line=722'>723</a>\u001b[0m     )\n",
      "\u001b[0;31mAttributeError\u001b[0m: 'Run' object has no attribute 'add_figure'"
     ]
    },
    {
     "data": {
      "image/png": "[encoded data removed]",
      "text/plain": [
       "<Figure size 432x288 with 2 Axes>"
      ]
     },
     "metadata": {
      "needs_background": "light"
     },
     "output_type": "display_data"
    }
   ],
   "source": [
    "from pytorch_lightning.loggers import WandbLogger\n",
    "DIR_LOGS = '/media/user/12TB1/HanLi/GitHub/CMU11785-project/logs' # Change this!\n",
    "# configure network and trainer\n",
    "early_stop_callback = EarlyStopping(monitor=\"val_loss\", min_delta=1e-4, patience=10, verbose=False, mode=\"min\")\n",
    "lr_logger = LearningRateMonitor()  # log the learning rate\n",
    "# logger = TensorBoardLogger(\n",
    "#     save_dir=os.path.join(DIR_LOGS, \"tft_test\"),\n",
    "#     name=\"lightning_logs\"\n",
    "# )\n",
    "\n",
    "logger = WandbLogger(\n",
    "    entity=\"11785_project\",\n",
    "    project=\"PyTorchForecasting_test\",\n",
    "    name='Test_421',\n",
    "    log_model=True\n",
    ")\n",
    "\n",
    "trainer = pl.Trainer(\n",
    "    max_epochs=20,\n",
    "    gpus=1,\n",
    "    weights_summary=\"top\",\n",
    "    gradient_clip_val=0.1,\n",
    "    limit_train_batches=30,  # coment in for training, running valiation every 30 batches\n",
    "    # fast_dev_run=True,  # comment in to check that networkor dataset has no serious bugs\n",
    "    callbacks=[lr_logger, early_stop_callback],\n",
    "    logger=logger,\n",
    ")\n",
    "\n",
    "tft_model = TemporalFusionTransformer.from_dataset(\n",
    "    train_dataset,\n",
    "    learning_rate=0.03,\n",
    "    hidden_size=256,\n",
    "    attention_head_size=1,\n",
    "    dropout=0.1,\n",
    "    hidden_continuous_size=7,\n",
    "    output_size=7,  # 7 quantiles by default\n",
    "    loss=QuantileLoss(),\n",
    "    log_interval=10,  # uncomment for learning rate finder and otherwise, e.g. to 10 for logging every 10 batches\n",
    "    reduce_on_plateau_patience=4,\n",
    ")\n",
    "print(f\"Number of parameters in network: {tft_model.size()/1e3:.1f}k\")\n",
    "\n",
    "# fit network\n",
    "trainer.fit(\n",
    "    tft_model,\n",
    "    train_dataloaders=train_dataloader,\n",
    "    val_dataloaders=val_dataloader,\n",
    ")"
   ]
  },
  {
   "cell_type": "code",
   "execution_count": 22,
   "metadata": {},
   "outputs": [
    {
     "data": {
      "text/plain": [
       "Reusing TensorBoard on port 6007 (pid 6863), started 0:03:16 ago. (Use '!kill 6863' to kill it.)"
      ]
     },
     "metadata": {},
     "output_type": "display_data"
    },
    {
     "data": {
      "text/html": [
       "\n",
       "      <iframe id=\"tensorboard-frame-bd9c66b3ad3c2d6d\" width=\"100%\" height=\"800\" frameborder=\"0\">\n",
       "      </iframe>\n",
       "      <script>\n",
       "        (function() {\n",
       "          const frame = document.getElementById(\"tensorboard-frame-bd9c66b3ad3c2d6d\");\n",
       "          const url = new URL(\"http://localhost\");\n",
       "          const port = 6007;\n",
       "          if (port) {\n",
       "            url.port = port;\n",
       "          }\n",
       "          frame.src = url;\n",
       "        })();\n",
       "      </script>\n",
       "    "
      ],
      "text/plain": [
       "<IPython.core.display.HTML object>"
      ]
     },
     "metadata": {},
     "output_type": "display_data"
    }
   ],
   "source": [
    "%reload_ext tensorboard\n",
    "# %tensorboard --logdir=os.path.join(DIR_LOGS, 'tft_test/lightning_logs/version_0/events.out.tfevents.1650348368.srg-gpu.48045.1')\n",
    "%tensorboard --logdir=/media/user/12TB1/HanLi/GitHub/CMU11785-project/logs/tft_test/lightning_logs/version_0/events.out.tfevents.1650348368.srg-gpu.48045.1"
   ]
  }
 ],
 "metadata": {
  "interpreter": {
   "hash": "52c4a99fb36d68752ce25c6541fc636e9171dab977cfe863248a143161a3b436"
  },
  "kernelspec": {
   "display_name": "Python 3.9.7 ('11785_project')",
   "language": "python",
   "name": "python3"
  },
  "language_info": {
   "codemirror_mode": {
    "name": "ipython",
    "version": 3
   },
   "file_extension": ".py",
   "mimetype": "text/x-python",
   "name": "python",
   "nbconvert_exporter": "python",
   "pygments_lexer": "ipython3",
   "version": "3.9.7"
  },
  "orig_nbformat": 4
 },
 "nbformat": 4,
 "nbformat_minor": 2
}
