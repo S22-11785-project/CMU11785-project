{
 "cells": [
  {
   "cell_type": "code",
   "execution_count": null,
   "id": "7064261d",
   "metadata": {},
   "outputs": [],
   "source": [
    "import pandas as pd\n",
    "import numpy as np\n",
    "from statsmodels.tsa.ar_model import AutoReg, ar_select_order\n",
    "from statsmodels.tsa.api import VAR\n",
    "\n",
    "class AR():\n",
    "    '''\n",
    "     Autoregressions (AR)\n",
    "     y_t = \\sum{\\alpha_i*y_i} + res\n",
    "     y: T * 1\n",
    "     T: number of time steps\n",
    "\n",
    "    '''\n",
    "    def __init__(self, data, p=50):\n",
    "        '''\n",
    "        arg data: targets\n",
    "            p   : max lag order\n",
    "\n",
    "        '''\n",
    "        super().__init__()\n",
    "        self.data = data\n",
    "        mod = ar_select_order(data, maxlag=p)\n",
    "        self.results = AutoReg(data, lags = mod.ar_lags).fit()\n",
    "        \n",
    "    \n",
    "    def residual(self):\n",
    "        '''\n",
    "        transform targets to its AR residuals\n",
    "        return: AR residuals\n",
    "\n",
    "        '''\n",
    "        fit = self.results.fittedvalues\n",
    "        return self.data - fit\n",
    "    \n",
    "    def predict(self, res):\n",
    "        '''\n",
    "        transform predicted residuals to predicted targets\n",
    "        arg res: predicted residuals, len=predict period\n",
    "        return: predicted targets\n",
    "        '''\n",
    "        n = len(res)\n",
    "        pred = self.results.forecast(n)\n",
    "        return pred + res.values\n",
    "    \n",
    "class V_AR():\n",
    "    '''\n",
    "    Vector Autoregressions (VAR)\n",
    "    Y_t = \\sum{A_i*Y_i} + Res\n",
    "    Y: T * K\n",
    "    T: number of time steps\n",
    "    K: number of features\n",
    "\n",
    "    '''\n",
    "    def __init__(self, data):\n",
    "        '''\n",
    "        arg data: features\n",
    "            p: max lag order\n",
    "\n",
    "        '''\n",
    "        self.data = data\n",
    "        model = VAR(data)\n",
    "        self.results = model.fit()\n",
    "    \n",
    "    def residual(self):\n",
    "        '''\n",
    "        transform features to its VAR residuals\n",
    "        return: VAR residuals\n",
    "\n",
    "        '''\n",
    "        fit = self.results.fittedvalues\n",
    "        return self.data - fit"
   ]
  },
  {
   "cell_type": "code",
   "execution_count": null,
   "id": "b202f3ca",
   "metadata": {},
   "outputs": [],
   "source": [
    "df = pd.read_pickle('C:/Users/miaoy/Desktop/11785/HwData/project/train.pkl')\n",
    "df = df.set_index(['investment_id', 'time_id'])\n",
    "df = df.drop('row_id', 1)"
   ]
  },
  {
   "cell_type": "code",
   "execution_count": null,
   "id": "2089d7e6",
   "metadata": {},
   "outputs": [],
   "source": [
    "iterables = [range(3774), range(1220)]\n",
    "index = pd.MultiIndex.from_product(iterables, names=['investment_id', 'time_id',])\n",
    "adf = pd.DataFrame(np.empty(4604280), index=index)\n",
    "adf = adf.join(df)\n",
    "adf = adf.drop(0, 1)\n",
    "adf.head()"
   ]
  },
  {
   "cell_type": "code",
   "execution_count": null,
   "id": "bae8c9b3",
   "metadata": {},
   "outputs": [],
   "source": [
    "target = adf['target']\n",
    "feature = adf.drop('target', 1)"
   ]
  },
  {
   "cell_type": "code",
   "execution_count": null,
   "id": "f4bd0de8",
   "metadata": {
    "scrolled": false
   },
   "outputs": [],
   "source": [
    "import warnings\n",
    "warnings.filterwarnings('ignore')\n",
    "m = []\n",
    "name = []\n",
    "for x in range(3774):\n",
    "    if x % 50 ==0: print(x)\n",
    "    f = feature.loc[x].dropna()\n",
    "    if f.size == 0: continue\n",
    "    V = V_AR(f)\n",
    "    m.append(V.residual())\n",
    "    name.append(x)\n",
    "df_ar = pd.concat(m, keys=name, names=['investment_id'])"
   ]
  },
  {
   "cell_type": "code",
   "execution_count": null,
   "id": "13f44a61",
   "metadata": {},
   "outputs": [],
   "source": [
    "df_ar = df_ar.join(target)"
   ]
  }
 ],
 "metadata": {
  "kernelspec": {
   "display_name": "Python 3 (ipykernel)",
   "language": "python",
   "name": "python3"
  },
  "language_info": {
   "codemirror_mode": {
    "name": "ipython",
    "version": 3
   },
   "file_extension": ".py",
   "mimetype": "text/x-python",
   "name": "python",
   "nbconvert_exporter": "python",
   "pygments_lexer": "ipython3",
   "version": "3.9.7"
  }
 },
 "nbformat": 4,
 "nbformat_minor": 5
}
