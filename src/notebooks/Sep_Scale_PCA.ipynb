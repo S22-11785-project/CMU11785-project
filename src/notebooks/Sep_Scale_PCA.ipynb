{
 "cells": [
  {
   "cell_type": "code",
   "execution_count": 1,
   "id": "1684169e",
   "metadata": {},
   "outputs": [],
   "source": [
    "import pandas as pd\n",
    "import numpy as np\n",
    "from sklearn.decomposition import PCA\n",
    "from sklearn.preprocessing import MinMaxScaler"
   ]
  },
  {
   "cell_type": "code",
   "execution_count": null,
   "id": "b5e4b147",
   "metadata": {},
   "outputs": [],
   "source": [
    "df = pd.read_pickle('C:/Users/miaoy/Desktop/11785/HwData/project/train.pkl')\n",
    "dff = df.set_index(['investment_id', 'time_id'])\n",
    "dff = dff.drop('row_id', 1)"
   ]
  },
  {
   "cell_type": "code",
   "execution_count": null,
   "id": "f67ea316",
   "metadata": {},
   "outputs": [],
   "source": [
    "iterables = [range(3774), range(1220)]\n",
    "index = pd.MultiIndex.from_product(iterables, names=['investment_id', 'time_id',])\n",
    "adf = pd.DataFrame(np.empty(4604280), index=index)\n",
    "adf = adf.join(dff)\n",
    "adf = adf.drop(0, 1)\n",
    "adf.head()"
   ]
  },
  {
   "cell_type": "code",
   "execution_count": null,
   "id": "05d73da0",
   "metadata": {},
   "outputs": [],
   "source": [
    "target = adf['target']\n",
    "feature = adf.drop('target', 1)"
   ]
  },
  {
   "cell_type": "code",
   "execution_count": 18,
   "id": "16a406bf",
   "metadata": {},
   "outputs": [],
   "source": [
    "s = df_scale.index.tolist()\n",
    "n=[]\n",
    "for i in range(len(s)):\n",
    "    if s[i][0] in n:\n",
    "        continue\n",
    "    else:\n",
    "        n.append(s[i][0])"
   ]
  },
  {
   "cell_type": "code",
   "execution_count": null,
   "id": "c6fc3b64",
   "metadata": {},
   "outputs": [],
   "source": [
    "scaler = MinMaxScaler()\n",
    "m = []\n",
    "name = []\n",
    "for x in n:\n",
    "    f = feature.loc[x].dropna()\n",
    "    columns = ['f_{}'.format(i) for i in range(300)]\n",
    "    f_scale = pd.DataFrame(scaler.fit_transform(f), index=f.index, columns=columns)\n",
    "    m.append(f_scale)\n",
    "    name.append(x)\n",
    "df_scale = pd.concat(m, keys=name, names=['investment_id'])"
   ]
  },
  {
   "cell_type": "code",
   "execution_count": 21,
   "id": "8b245ec9",
   "metadata": {
    "scrolled": false
   },
   "outputs": [],
   "source": [
    "m = []\n",
    "name = []\n",
    "for x in n:\n",
    "    f = df_scale.loc[x]\n",
    "    n = min(150, f.shape[0])\n",
    "    pca = PCA(n_components=n)\n",
    "    pca.fit(f)\n",
    "    evr = pca.explained_variance_ratio_\n",
    "    num = np.cumsum(evr)\n",
    "    n_comp = np.where(num>0.9)[0][0]\n",
    "    pca = PCA(n_components=n_comp)\n",
    "    columns = ['fpca_{}'.format(i) for i in range(n_comp)]\n",
    "    f_pca = pca.fit_transform(f)\n",
    "    f_pca = pd.DataFrame(f_pca, index=f.index, columns=columns)\n",
    "    m.append(f_pca)\n",
    "    name.append(x)\n",
    "df_pca = pd.concat(m, keys=name, names=['investment_id'])"
   ]
  },
  {
   "cell_type": "code",
   "execution_count": 24,
   "id": "84dcd636",
   "metadata": {},
   "outputs": [],
   "source": [
    "df_scale = df_scale.join(target)\n",
    "df_pca = df_pca.join(target)"
   ]
  }
 ],
 "metadata": {
  "kernelspec": {
   "display_name": "Python 3 (ipykernel)",
   "language": "python",
   "name": "python3"
  },
  "language_info": {
   "codemirror_mode": {
    "name": "ipython",
    "version": 3
   },
   "file_extension": ".py",
   "mimetype": "text/x-python",
   "name": "python",
   "nbconvert_exporter": "python",
   "pygments_lexer": "ipython3",
   "version": "3.9.7"
  }
 },
 "nbformat": 4,
 "nbformat_minor": 5
}
