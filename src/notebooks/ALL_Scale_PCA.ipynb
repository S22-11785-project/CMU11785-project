{
 "cells": [
  {
   "cell_type": "code",
   "execution_count": null,
   "id": "67bb6f57",
   "metadata": {},
   "outputs": [],
   "source": [
    "import os\n",
    "\n",
    "import pandas as pd\n",
    "import numpy as np\n",
    "import matplotlib.pyplot as plt\n",
    "from sklearn.preprocessing import MinMaxScaler\n",
    "\n",
    "import warnings\n",
    "warnings.filterwarnings('ignore')"
   ]
  },
  {
   "cell_type": "code",
   "execution_count": null,
   "id": "e274f1d9",
   "metadata": {},
   "outputs": [],
   "source": [
    "df = pd.read_pickle('C:/Users/miaoy/Desktop/11785/HwData/project/train.pkl')\n",
    "df.head()"
   ]
  },
  {
   "cell_type": "code",
   "execution_count": null,
   "id": "4a677058",
   "metadata": {},
   "outputs": [],
   "source": [
    "dff = df.set_index(['investment_id', 'time_id'])\n",
    "dff = dff.drop('row_id', 1)\n",
    "dff.head()"
   ]
  },
  {
   "cell_type": "code",
   "execution_count": null,
   "id": "156eba51",
   "metadata": {},
   "outputs": [],
   "source": [
    "target = dff['target']\n",
    "target.head()"
   ]
  },
  {
   "cell_type": "code",
   "execution_count": null,
   "id": "51dd1918",
   "metadata": {},
   "outputs": [],
   "source": [
    "feature = dff.drop('target', 1)\n",
    "feature.head()"
   ]
  },
  {
   "cell_type": "code",
   "execution_count": null,
   "id": "41f5546a",
   "metadata": {},
   "outputs": [],
   "source": [
    "scaler = MinMaxScaler()\n",
    "for i in range(30):\n",
    "    if i % 10 == 0: print(i)\n",
    "    scaler.fit(feature.iloc[:,10 * i:10 * (i + 1)])\n",
    "    feature.iloc[:,10 * i:10 * (i + 1)] = scaler.transform(feature.iloc[:,10 * i:10 * (i + 1)])\n",
    "feature.head()"
   ]
  },
  {
   "cell_type": "code",
   "execution_count": null,
   "id": "4391de13",
   "metadata": {},
   "outputs": [],
   "source": [
    "iterables = [range(3774), range(1220)]\n",
    "index = pd.MultiIndex.from_product(iterables, names=['investment_id', 'time_id',])\n",
    "adf = pd.DataFrame(np.empty(4604280), index=index)\n",
    "adf.head()"
   ]
  },
  {
   "cell_type": "code",
   "execution_count": null,
   "id": "8d7d3c21",
   "metadata": {
    "scrolled": true
   },
   "outputs": [],
   "source": [
    "adf = adf.join(target)\n",
    "adf = adf.join(feature)\n",
    "adf = adf.drop(0, 1)\n",
    "adf.head()"
   ]
  },
  {
   "cell_type": "code",
   "execution_count": null,
   "id": "81e31174",
   "metadata": {},
   "outputs": [],
   "source": [
    "X = adf.iloc[:,1:].dropna()"
   ]
  },
  {
   "cell_type": "code",
   "execution_count": null,
   "id": "102ede67",
   "metadata": {},
   "outputs": [],
   "source": [
    "from sklearn.decomposition import PCA\n",
    "pca = PCA(n_components=52)\n",
    "X_pca08 = pca.fit_transform(X)\n",
    "pca = PCA(n_components=93)\n",
    "X_pca09 = pca.fit_transform(X)"
   ]
  },
  {
   "cell_type": "code",
   "execution_count": null,
   "id": "b8e49ab8",
   "metadata": {},
   "outputs": [],
   "source": [
    "columns08 = ['pca08_{}'.format(i) for i in range(52)]\n",
    "columns09 = ['pca09_{}'.format(i) for i in range(93)]"
   ]
  },
  {
   "cell_type": "code",
   "execution_count": null,
   "id": "130473f4",
   "metadata": {},
   "outputs": [],
   "source": [
    "pca08 = pd.DataFrame(X_pca08, index=X.index, columns=columns08)\n",
    "pca09 = pd.DataFrame(X_pca09, index=X.index, columns=columns09)"
   ]
  },
  {
   "cell_type": "code",
   "execution_count": null,
   "id": "9f9a76da",
   "metadata": {},
   "outputs": [],
   "source": [
    "df_pca8 = df_pca08.join(df.iloc[:, 0])\n",
    "df_pca9 = df_pca09.join(df.iloc[:, 0])"
   ]
  }
 ],
 "metadata": {
  "kernelspec": {
   "display_name": "Python 3 (ipykernel)",
   "language": "python",
   "name": "python3"
  },
  "language_info": {
   "codemirror_mode": {
    "name": "ipython",
    "version": 3
   },
   "file_extension": ".py",
   "mimetype": "text/x-python",
   "name": "python",
   "nbconvert_exporter": "python",
   "pygments_lexer": "ipython3",
   "version": "3.9.7"
  }
 },
 "nbformat": 4,
 "nbformat_minor": 5
}
