{
 "cells": [
  {
   "cell_type": "code",
   "execution_count": 1,
   "id": "8a3fe198-8be1-4866-b2a2-6122ff6e9caf",
   "metadata": {},
   "outputs": [],
   "source": [
    "import pandas as pd\n",
    "import numpy as np\n",
    "import gc\n",
    "import sys\n",
    "import os\n",
    "import torch\n",
    "from tqdm import tqdm"
   ]
  },
  {
   "cell_type": "code",
   "execution_count": 19,
   "id": "440d4e90-e690-4902-b592-257e9f6725ec",
   "metadata": {},
   "outputs": [],
   "source": [
    "import pytorch_lightning as pl\n",
    "from pytorch_lightning.loggers import TensorBoardLogger\n",
    "from pytorch_lightning.callbacks import EarlyStopping, LearningRateMonitor, ModelCheckpoint\n",
    "# import dataset, network to train and metric to optimize\n",
    "from pytorch_forecasting import TimeSeriesDataSet, TemporalFusionTransformer, QuantileLoss, DeepAR\n",
    "from pytorch_forecasting.data.encoders import NaNLabelEncoder "
   ]
  },
  {
   "cell_type": "markdown",
   "id": "925548d7-54dd-4b1a-8a11-764f00b74371",
   "metadata": {},
   "source": [
    "# Data"
   ]
  },
  {
   "cell_type": "markdown",
   "id": "bb4951e2-f594-48c0-bf43-aa25c3f5591e",
   "metadata": {},
   "source": [
    "## Download Data by DYJ"
   ]
  },
  {
   "cell_type": "code",
   "execution_count": 2,
   "id": "dcb74dc1-21ea-4bcc-9b55-b221b7e46edc",
   "metadata": {},
   "outputs": [],
   "source": [
    "if True:\n",
    "#    !gdown 1yhCV0v-GgYAfhKnJptvqSZdivvnAa27M -O /home/ubuntu/data/databyid.zip\n",
    "    !unzip -q /home/ubuntu/data/databyid.zip -d /home/ubuntu/data"
   ]
  },
  {
   "cell_type": "code",
   "execution_count": 4,
   "id": "3145d759-207c-411a-a8f5-29a0984ad23c",
   "metadata": {},
   "outputs": [],
   "source": [
    "DIR_BYID = '/home/ubuntu/data/content/databyid'\n",
    "ls_all_invest_ids = sorted([int(fn.split('.')[0]) for fn in os.listdir(os.path.join(DIR_BYID, 'target'))])\n",
    "\n",
    "f_cols = [f\"f_{i}\" for i in range(300)]\n",
    "\n",
    "n = 100\n",
    "ls_dfs = []\n",
    "for id in ls_all_invest_ids[:n]:\n",
    "    df_f_id = pd.DataFrame(np.load(os.path.join(DIR_BYID, f'feats/{id}.npy')), columns=f_cols)\n",
    "    df_t_id = pd.DataFrame(np.load(os.path.join(DIR_BYID, f'target/{id}.npy')), columns=['target'])\n",
    "    df_f_id['investment_id'] = id\n",
    "    ls_dfs.append(pd.concat([df_t_id, df_f_id], axis=1))\n",
    "\n",
    "df = pd.concat(ls_dfs).reset_index().rename(columns={'index': 'time_id'})\n",
    "df = df.sort_values(by=['time_id', 'investment_id']) # sort by time before splitting\n"
   ]
  },
  {
   "cell_type": "code",
   "execution_count": 7,
   "id": "9bcec439-b9c3-4d68-914c-9116c56b1576",
   "metadata": {},
   "outputs": [
    {
     "data": {
      "text/plain": [
       "time_id            int64\n",
       "target           float64\n",
       "f_0              float64\n",
       "f_1              float64\n",
       "f_2              float64\n",
       "                  ...   \n",
       "f_296            float64\n",
       "f_297            float64\n",
       "f_298            float64\n",
       "f_299            float64\n",
       "investment_id     object\n",
       "Length: 303, dtype: object"
      ]
     },
     "execution_count": 7,
     "metadata": {},
     "output_type": "execute_result"
    }
   ],
   "source": [
    "df.reset_index(drop=True, inplace=True)\n",
    "\n",
    "df.investment_id = df.investment_id.astype(str)\n",
    "df.time_id = df.time_id.astype(int)\n",
    "df.dtypes"
   ]
  },
  {
   "cell_type": "code",
   "execution_count": 8,
   "id": "6a3cdc34-1c1c-4187-911f-e8f9ecbb5d55",
   "metadata": {},
   "outputs": [
    {
     "data": {
      "text/html": [
       "<div>\n",
       "<style scoped>\n",
       "    .dataframe tbody tr th:only-of-type {\n",
       "        vertical-align: middle;\n",
       "    }\n",
       "\n",
       "    .dataframe tbody tr th {\n",
       "        vertical-align: top;\n",
       "    }\n",
       "\n",
       "    .dataframe thead th {\n",
       "        text-align: right;\n",
       "    }\n",
       "</style>\n",
       "<table border=\"1\" class=\"dataframe\">\n",
       "  <thead>\n",
       "    <tr style=\"text-align: right;\">\n",
       "      <th></th>\n",
       "      <th>time_id</th>\n",
       "      <th>target</th>\n",
       "      <th>f_0</th>\n",
       "      <th>f_1</th>\n",
       "      <th>f_2</th>\n",
       "      <th>f_3</th>\n",
       "      <th>f_4</th>\n",
       "      <th>f_5</th>\n",
       "      <th>f_6</th>\n",
       "      <th>f_7</th>\n",
       "      <th>...</th>\n",
       "      <th>f_291</th>\n",
       "      <th>f_292</th>\n",
       "      <th>f_293</th>\n",
       "      <th>f_294</th>\n",
       "      <th>f_295</th>\n",
       "      <th>f_296</th>\n",
       "      <th>f_297</th>\n",
       "      <th>f_298</th>\n",
       "      <th>f_299</th>\n",
       "      <th>investment_id</th>\n",
       "    </tr>\n",
       "  </thead>\n",
       "  <tbody>\n",
       "    <tr>\n",
       "      <th>0</th>\n",
       "      <td>0</td>\n",
       "      <td>0.000000</td>\n",
       "      <td>0.000000</td>\n",
       "      <td>0.000000</td>\n",
       "      <td>0.000000</td>\n",
       "      <td>0.000000</td>\n",
       "      <td>0.000000</td>\n",
       "      <td>0.000000</td>\n",
       "      <td>0.000000</td>\n",
       "      <td>0.000000</td>\n",
       "      <td>...</td>\n",
       "      <td>0.000000</td>\n",
       "      <td>0.000000</td>\n",
       "      <td>0.000000</td>\n",
       "      <td>0.000000</td>\n",
       "      <td>0.000000</td>\n",
       "      <td>0.000000</td>\n",
       "      <td>0.000000</td>\n",
       "      <td>0.000000</td>\n",
       "      <td>0.000000</td>\n",
       "      <td>0</td>\n",
       "    </tr>\n",
       "    <tr>\n",
       "      <th>1</th>\n",
       "      <td>0</td>\n",
       "      <td>-0.300875</td>\n",
       "      <td>0.932573</td>\n",
       "      <td>0.113691</td>\n",
       "      <td>-0.402206</td>\n",
       "      <td>0.378386</td>\n",
       "      <td>-0.203938</td>\n",
       "      <td>-0.413469</td>\n",
       "      <td>0.965623</td>\n",
       "      <td>1.230508</td>\n",
       "      <td>...</td>\n",
       "      <td>-1.095620</td>\n",
       "      <td>0.200075</td>\n",
       "      <td>0.819155</td>\n",
       "      <td>0.941183</td>\n",
       "      <td>-0.086764</td>\n",
       "      <td>-1.087009</td>\n",
       "      <td>-1.044826</td>\n",
       "      <td>-0.287605</td>\n",
       "      <td>0.321566</td>\n",
       "      <td>1</td>\n",
       "    </tr>\n",
       "    <tr>\n",
       "      <th>2</th>\n",
       "      <td>0</td>\n",
       "      <td>-0.231040</td>\n",
       "      <td>0.810802</td>\n",
       "      <td>-0.514115</td>\n",
       "      <td>0.742368</td>\n",
       "      <td>-0.616673</td>\n",
       "      <td>-0.194255</td>\n",
       "      <td>1.771210</td>\n",
       "      <td>1.428127</td>\n",
       "      <td>1.134144</td>\n",
       "      <td>...</td>\n",
       "      <td>0.912726</td>\n",
       "      <td>-0.734579</td>\n",
       "      <td>0.819155</td>\n",
       "      <td>0.941183</td>\n",
       "      <td>-0.387617</td>\n",
       "      <td>-1.087009</td>\n",
       "      <td>-0.929529</td>\n",
       "      <td>-0.974060</td>\n",
       "      <td>-0.343624</td>\n",
       "      <td>2</td>\n",
       "    </tr>\n",
       "    <tr>\n",
       "      <th>3</th>\n",
       "      <td>0</td>\n",
       "      <td>0.000000</td>\n",
       "      <td>0.810802</td>\n",
       "      <td>-0.514115</td>\n",
       "      <td>0.742368</td>\n",
       "      <td>-0.616673</td>\n",
       "      <td>-0.194255</td>\n",
       "      <td>1.771210</td>\n",
       "      <td>1.428127</td>\n",
       "      <td>1.134144</td>\n",
       "      <td>...</td>\n",
       "      <td>0.912726</td>\n",
       "      <td>-0.734579</td>\n",
       "      <td>0.819155</td>\n",
       "      <td>0.941183</td>\n",
       "      <td>-0.387617</td>\n",
       "      <td>-1.087009</td>\n",
       "      <td>-0.929529</td>\n",
       "      <td>-0.974060</td>\n",
       "      <td>-0.343624</td>\n",
       "      <td>3</td>\n",
       "    </tr>\n",
       "    <tr>\n",
       "      <th>4</th>\n",
       "      <td>0</td>\n",
       "      <td>0.000000</td>\n",
       "      <td>0.810802</td>\n",
       "      <td>-0.514115</td>\n",
       "      <td>0.742368</td>\n",
       "      <td>-0.616673</td>\n",
       "      <td>-0.194255</td>\n",
       "      <td>1.771210</td>\n",
       "      <td>1.428127</td>\n",
       "      <td>1.134144</td>\n",
       "      <td>...</td>\n",
       "      <td>0.912726</td>\n",
       "      <td>-0.734579</td>\n",
       "      <td>0.819155</td>\n",
       "      <td>0.941183</td>\n",
       "      <td>-0.387617</td>\n",
       "      <td>-1.087009</td>\n",
       "      <td>-0.929529</td>\n",
       "      <td>-0.974060</td>\n",
       "      <td>-0.343624</td>\n",
       "      <td>4</td>\n",
       "    </tr>\n",
       "    <tr>\n",
       "      <th>...</th>\n",
       "      <td>...</td>\n",
       "      <td>...</td>\n",
       "      <td>...</td>\n",
       "      <td>...</td>\n",
       "      <td>...</td>\n",
       "      <td>...</td>\n",
       "      <td>...</td>\n",
       "      <td>...</td>\n",
       "      <td>...</td>\n",
       "      <td>...</td>\n",
       "      <td>...</td>\n",
       "      <td>...</td>\n",
       "      <td>...</td>\n",
       "      <td>...</td>\n",
       "      <td>...</td>\n",
       "      <td>...</td>\n",
       "      <td>...</td>\n",
       "      <td>...</td>\n",
       "      <td>...</td>\n",
       "      <td>...</td>\n",
       "      <td>...</td>\n",
       "    </tr>\n",
       "    <tr>\n",
       "      <th>121995</th>\n",
       "      <td>1219</td>\n",
       "      <td>0.750813</td>\n",
       "      <td>0.846688</td>\n",
       "      <td>1.360877</td>\n",
       "      <td>0.156357</td>\n",
       "      <td>-0.356526</td>\n",
       "      <td>-0.040334</td>\n",
       "      <td>0.599086</td>\n",
       "      <td>0.608412</td>\n",
       "      <td>-0.025173</td>\n",
       "      <td>...</td>\n",
       "      <td>-1.232434</td>\n",
       "      <td>0.220425</td>\n",
       "      <td>0.875537</td>\n",
       "      <td>0.421628</td>\n",
       "      <td>0.090933</td>\n",
       "      <td>1.363181</td>\n",
       "      <td>-0.450669</td>\n",
       "      <td>0.512252</td>\n",
       "      <td>-0.020869</td>\n",
       "      <td>95</td>\n",
       "    </tr>\n",
       "    <tr>\n",
       "      <th>121996</th>\n",
       "      <td>1219</td>\n",
       "      <td>0.000000</td>\n",
       "      <td>0.846688</td>\n",
       "      <td>1.360877</td>\n",
       "      <td>0.156357</td>\n",
       "      <td>-0.356526</td>\n",
       "      <td>-0.040334</td>\n",
       "      <td>0.599086</td>\n",
       "      <td>0.608412</td>\n",
       "      <td>-0.025173</td>\n",
       "      <td>...</td>\n",
       "      <td>-1.232434</td>\n",
       "      <td>0.220425</td>\n",
       "      <td>0.875537</td>\n",
       "      <td>0.421628</td>\n",
       "      <td>0.090933</td>\n",
       "      <td>1.363181</td>\n",
       "      <td>-0.450669</td>\n",
       "      <td>0.512252</td>\n",
       "      <td>-0.020869</td>\n",
       "      <td>96</td>\n",
       "    </tr>\n",
       "    <tr>\n",
       "      <th>121997</th>\n",
       "      <td>1219</td>\n",
       "      <td>-0.056170</td>\n",
       "      <td>-1.329298</td>\n",
       "      <td>-0.199987</td>\n",
       "      <td>0.224396</td>\n",
       "      <td>-0.348399</td>\n",
       "      <td>-0.001236</td>\n",
       "      <td>0.311249</td>\n",
       "      <td>1.461442</td>\n",
       "      <td>-0.181319</td>\n",
       "      <td>...</td>\n",
       "      <td>0.811402</td>\n",
       "      <td>0.555405</td>\n",
       "      <td>-1.142157</td>\n",
       "      <td>0.421628</td>\n",
       "      <td>0.197676</td>\n",
       "      <td>1.363181</td>\n",
       "      <td>-0.494201</td>\n",
       "      <td>0.738257</td>\n",
       "      <td>-0.176401</td>\n",
       "      <td>97</td>\n",
       "    </tr>\n",
       "    <tr>\n",
       "      <th>121998</th>\n",
       "      <td>1219</td>\n",
       "      <td>1.479842</td>\n",
       "      <td>-1.585265</td>\n",
       "      <td>-0.330059</td>\n",
       "      <td>-0.714110</td>\n",
       "      <td>-0.373768</td>\n",
       "      <td>-0.191473</td>\n",
       "      <td>-0.705750</td>\n",
       "      <td>-0.092682</td>\n",
       "      <td>-0.433726</td>\n",
       "      <td>...</td>\n",
       "      <td>-1.232434</td>\n",
       "      <td>-0.240344</td>\n",
       "      <td>-1.142157</td>\n",
       "      <td>-2.371759</td>\n",
       "      <td>-0.454904</td>\n",
       "      <td>1.363181</td>\n",
       "      <td>-0.645094</td>\n",
       "      <td>0.320476</td>\n",
       "      <td>-0.541444</td>\n",
       "      <td>98</td>\n",
       "    </tr>\n",
       "    <tr>\n",
       "      <th>121999</th>\n",
       "      <td>1219</td>\n",
       "      <td>-0.038376</td>\n",
       "      <td>0.616793</td>\n",
       "      <td>-0.590203</td>\n",
       "      <td>0.568227</td>\n",
       "      <td>-0.542572</td>\n",
       "      <td>-0.175309</td>\n",
       "      <td>0.662148</td>\n",
       "      <td>0.259017</td>\n",
       "      <td>-1.324759</td>\n",
       "      <td>...</td>\n",
       "      <td>-1.232434</td>\n",
       "      <td>1.213473</td>\n",
       "      <td>0.875537</td>\n",
       "      <td>0.421628</td>\n",
       "      <td>-0.356266</td>\n",
       "      <td>1.363181</td>\n",
       "      <td>-0.268212</td>\n",
       "      <td>-1.044602</td>\n",
       "      <td>-0.405508</td>\n",
       "      <td>99</td>\n",
       "    </tr>\n",
       "  </tbody>\n",
       "</table>\n",
       "<p>122000 rows × 303 columns</p>\n",
       "</div>"
      ],
      "text/plain": [
       "        time_id    target       f_0       f_1       f_2       f_3       f_4  \\\n",
       "0             0  0.000000  0.000000  0.000000  0.000000  0.000000  0.000000   \n",
       "1             0 -0.300875  0.932573  0.113691 -0.402206  0.378386 -0.203938   \n",
       "2             0 -0.231040  0.810802 -0.514115  0.742368 -0.616673 -0.194255   \n",
       "3             0  0.000000  0.810802 -0.514115  0.742368 -0.616673 -0.194255   \n",
       "4             0  0.000000  0.810802 -0.514115  0.742368 -0.616673 -0.194255   \n",
       "...         ...       ...       ...       ...       ...       ...       ...   \n",
       "121995     1219  0.750813  0.846688  1.360877  0.156357 -0.356526 -0.040334   \n",
       "121996     1219  0.000000  0.846688  1.360877  0.156357 -0.356526 -0.040334   \n",
       "121997     1219 -0.056170 -1.329298 -0.199987  0.224396 -0.348399 -0.001236   \n",
       "121998     1219  1.479842 -1.585265 -0.330059 -0.714110 -0.373768 -0.191473   \n",
       "121999     1219 -0.038376  0.616793 -0.590203  0.568227 -0.542572 -0.175309   \n",
       "\n",
       "             f_5       f_6       f_7  ...     f_291     f_292     f_293  \\\n",
       "0       0.000000  0.000000  0.000000  ...  0.000000  0.000000  0.000000   \n",
       "1      -0.413469  0.965623  1.230508  ... -1.095620  0.200075  0.819155   \n",
       "2       1.771210  1.428127  1.134144  ...  0.912726 -0.734579  0.819155   \n",
       "3       1.771210  1.428127  1.134144  ...  0.912726 -0.734579  0.819155   \n",
       "4       1.771210  1.428127  1.134144  ...  0.912726 -0.734579  0.819155   \n",
       "...          ...       ...       ...  ...       ...       ...       ...   \n",
       "121995  0.599086  0.608412 -0.025173  ... -1.232434  0.220425  0.875537   \n",
       "121996  0.599086  0.608412 -0.025173  ... -1.232434  0.220425  0.875537   \n",
       "121997  0.311249  1.461442 -0.181319  ...  0.811402  0.555405 -1.142157   \n",
       "121998 -0.705750 -0.092682 -0.433726  ... -1.232434 -0.240344 -1.142157   \n",
       "121999  0.662148  0.259017 -1.324759  ... -1.232434  1.213473  0.875537   \n",
       "\n",
       "           f_294     f_295     f_296     f_297     f_298     f_299  \\\n",
       "0       0.000000  0.000000  0.000000  0.000000  0.000000  0.000000   \n",
       "1       0.941183 -0.086764 -1.087009 -1.044826 -0.287605  0.321566   \n",
       "2       0.941183 -0.387617 -1.087009 -0.929529 -0.974060 -0.343624   \n",
       "3       0.941183 -0.387617 -1.087009 -0.929529 -0.974060 -0.343624   \n",
       "4       0.941183 -0.387617 -1.087009 -0.929529 -0.974060 -0.343624   \n",
       "...          ...       ...       ...       ...       ...       ...   \n",
       "121995  0.421628  0.090933  1.363181 -0.450669  0.512252 -0.020869   \n",
       "121996  0.421628  0.090933  1.363181 -0.450669  0.512252 -0.020869   \n",
       "121997  0.421628  0.197676  1.363181 -0.494201  0.738257 -0.176401   \n",
       "121998 -2.371759 -0.454904  1.363181 -0.645094  0.320476 -0.541444   \n",
       "121999  0.421628 -0.356266  1.363181 -0.268212 -1.044602 -0.405508   \n",
       "\n",
       "        investment_id  \n",
       "0                   0  \n",
       "1                   1  \n",
       "2                   2  \n",
       "3                   3  \n",
       "4                   4  \n",
       "...               ...  \n",
       "121995             95  \n",
       "121996             96  \n",
       "121997             97  \n",
       "121998             98  \n",
       "121999             99  \n",
       "\n",
       "[122000 rows x 303 columns]"
      ]
     },
     "execution_count": 8,
     "metadata": {},
     "output_type": "execute_result"
    }
   ],
   "source": [
    "df"
   ]
  },
  {
   "cell_type": "code",
   "execution_count": 9,
   "id": "d49a6666-e1bb-4760-8a2a-d66a6fdef2c4",
   "metadata": {},
   "outputs": [],
   "source": [
    "max_encoder_length = 12\n",
    "max_prediction_length = 1\n",
    "training_cutoff = 1000"
   ]
  },
  {
   "cell_type": "code",
   "execution_count": 10,
   "id": "d0ce314a-40c8-49f5-90f9-14d0097d6cd8",
   "metadata": {},
   "outputs": [],
   "source": [
    "training = TimeSeriesDataSet(\n",
    "    df[lambda x: x.time_id <= training_cutoff],\n",
    "    time_idx='time_id',  # column name of time of observation\n",
    "    target='target',  # column name of target to predict\n",
    "    group_ids=['investment_id'],  # column name(s) for timeseries IDs\n",
    "    max_encoder_length=max_encoder_length,  # how much history to use\n",
    "    max_prediction_length=max_prediction_length,  # how far to predict into future\n",
    "    # covariates static for a timeseries ID\n",
    "    static_categoricals=[],\n",
    "    static_reals=[],\n",
    "    # investment_id as categorical covariates that are known in the future for preddiction\n",
    "    time_varying_known_categoricals=['investment_id'],\n",
    "    # put in f_cols and time_id as real covariates that are known in the future for prediction\n",
    "    time_varying_known_reals = f_cols + ['time_id'],\n",
    "    time_varying_unknown_categoricals=[],\n",
    "    time_varying_unknown_reals=[],\n",
    "    allow_missing_timesteps=False,\n",
    "    # having add_nan=True in Encoder allows us to predict unseen investments\n",
    "    categorical_encoders = {'__group_id__investment_id': NaNLabelEncoder(add_nan=True), 'investment_id': NaNLabelEncoder(add_nan=True)}\n",
    ")"
   ]
  },
  {
   "cell_type": "code",
   "execution_count": 11,
   "id": "52d2432d-2998-44f2-a263-cc71f2f0f1cd",
   "metadata": {},
   "outputs": [],
   "source": [
    "train_dataloader = training.to_dataloader(train=True, batch_size=128, num_workers=4)"
   ]
  },
  {
   "cell_type": "code",
   "execution_count": 12,
   "id": "55ba102f-10aa-4289-aed4-dab56ee4fd78",
   "metadata": {},
   "outputs": [],
   "source": [
    "#training.get_parameters()"
   ]
  },
  {
   "cell_type": "code",
   "execution_count": 13,
   "id": "eea17cbe-ef90-4aef-8243-0fd7b404acf4",
   "metadata": {},
   "outputs": [],
   "source": [
    "validation = TimeSeriesDataSet.from_dataset(training, df, predict=True, stop_randomization=True,\n",
    "    categorical_encoders = {'__group_id__investment_id': NaNLabelEncoder(add_nan=True), 'investment_id': NaNLabelEncoder(add_nan=True)})"
   ]
  },
  {
   "cell_type": "code",
   "execution_count": 14,
   "id": "d07a83e1-8414-49c9-83d6-cb5022f9b877",
   "metadata": {},
   "outputs": [],
   "source": [
    "val_dataloader = validation.to_dataloader(train=False, batch_size=32 * 10, num_workers=4)"
   ]
  },
  {
   "cell_type": "code",
   "execution_count": 15,
   "id": "f552fabd-b916-4dce-ae70-27d35f57bc08",
   "metadata": {},
   "outputs": [],
   "source": [
    "training.save(\"training.pkl\")\n",
    "validation.save(\"validation.pkl\")\n"
   ]
  },
  {
   "cell_type": "code",
   "execution_count": 16,
   "id": "e9e70186-af53-476c-95a6-f80f77a898c2",
   "metadata": {},
   "outputs": [
    {
     "name": "stderr",
     "output_type": "stream",
     "text": [
      "Global seed set to 42\n",
      "/home/ubuntu/miniconda3/lib/python3.9/site-packages/pytorch_lightning/loops/utilities.py:91: PossibleUserWarning: `max_epochs` was not set. Setting it to 1000 epochs. To train without an epoch limit, set `max_epochs=-1`.\n",
      "  rank_zero_warn(\n",
      "GPU available: True, used: True\n",
      "TPU available: False, using: 0 TPU cores\n",
      "IPU available: False, using: 0 IPUs\n",
      "HPU available: False, using: 0 HPUs\n",
      "/home/ubuntu/miniconda3/lib/python3.9/site-packages/pytorch_lightning/utilities/parsing.py:261: UserWarning: Attribute 'loss' is an instance of `nn.Module` and is already saved during checkpointing. It is recommended to ignore them using `self.save_hyperparameters(ignore=['loss'])`.\n",
      "  rank_zero_warn(\n",
      "/home/ubuntu/miniconda3/lib/python3.9/site-packages/pytorch_lightning/utilities/parsing.py:261: UserWarning: Attribute 'logging_metrics' is an instance of `nn.Module` and is already saved during checkpointing. It is recommended to ignore them using `self.save_hyperparameters(ignore=['logging_metrics'])`.\n",
      "  rank_zero_warn(\n"
     ]
    },
    {
     "name": "stdout",
     "output_type": "stream",
     "text": [
      "Number of parameters in network: 431.2k\n"
     ]
    },
    {
     "name": "stderr",
     "output_type": "stream",
     "text": [
      "LOCAL_RANK: 0 - CUDA_VISIBLE_DEVICES: [0]\n"
     ]
    },
    {
     "data": {
      "application/vnd.jupyter.widget-view+json": {
       "model_id": "0d0a5b3dbd084039963b473d81b933ce",
       "version_major": 2,
       "version_minor": 0
      },
      "text/plain": [
       "Finding best initial lr:   0%|          | 0/100 [00:00<?, ?it/s]"
      ]
     },
     "metadata": {},
     "output_type": "display_data"
    },
    {
     "name": "stderr",
     "output_type": "stream",
     "text": [
      "Restoring states from the checkpoint path at /home/ubuntu/efs/HW4P2/.lr_find_95aef77f-6037-4c2e-9f19-3be01abb2738.ckpt\n",
      "/home/ubuntu/miniconda3/lib/python3.9/site-packages/pytorch_lightning/trainer/trainer.py:1718: UserWarning: Be aware that when using `ckpt_path`, callbacks used to create the checkpoint need to be provided during `Trainer` instantiation. Please add the following callbacks: [\"ModelCheckpoint{'monitor': None, 'mode': 'min', 'every_n_train_steps': 0, 'every_n_epochs': 1, 'train_time_interval': None, 'save_on_train_epoch_end': None}\"].\n",
      "  rank_zero_warn(\n"
     ]
    },
    {
     "name": "stdout",
     "output_type": "stream",
     "text": [
      "suggested learning rate: 0.01862087136662867\n"
     ]
    },
    {
     "data": {
      "image/png": "[encoded data removed]",
      "text/plain": [
       "<Figure size 432x288 with 1 Axes>"
      ]
     },
     "metadata": {
      "needs_background": "light"
     },
     "output_type": "display_data"
    },
    {
     "name": "stderr",
     "output_type": "stream",
     "text": [
      "/tmp/ipykernel_5240/1133555851.py:37: UserWarning: Matplotlib is currently using module://matplotlib_inline.backend_inline, which is a non-GUI backend, so cannot show the figure.\n",
      "  fig.show()\n"
     ]
    }
   ],
   "source": [
    "pl.seed_everything(42)\n",
    "trainer = pl.Trainer(\n",
    "    gpus=1,\n",
    "    # clipping gradients is a hyperparameter and important to prevent divergance\n",
    "    # of the gradient for recurrent neural networks\n",
    "    gradient_clip_val=0.1,\n",
    ")\n",
    "\n",
    "tft_model = TemporalFusionTransformer.from_dataset(\n",
    "    training,\n",
    "    # not meaningful for finding the learning rate but otherwise very important\n",
    "    learning_rate=0.03,\n",
    "    hidden_size=16,  # most important hyperparameter apart from learning rate\n",
    "    # number of attention heads. Set to up to 4 for large datasets\n",
    "    attention_head_size=1,\n",
    "    dropout=0.1,  # between 0.1 and 0.3 are good values\n",
    "    hidden_continuous_size=8,  # set to <= hidden_size\n",
    "    output_size=7,  # 7 quantiles by default\n",
    "    loss=QuantileLoss(),\n",
    "    # reduce learning rate if no improvement in validation loss after x epochs\n",
    "    reduce_on_plateau_patience=4,\n",
    ")\n",
    "print(f\"Number of parameters in network: {tft_model.size()/1e3:.1f}k\")\n",
    "\n",
    "\n",
    "# find optimal learning rate\n",
    "res = trainer.tuner.lr_find(\n",
    "    tft_model,\n",
    "    train_dataloaders=train_dataloader,\n",
    "    val_dataloaders=val_dataloader,\n",
    "    max_lr=10.0,\n",
    "    min_lr=1e-6,\n",
    ")\n",
    "\n",
    "print(f\"suggested learning rate: {res.suggestion()}\")\n",
    "fig = res.plot(show=True, suggest=True)\n",
    "fig.show()\n"
   ]
  },
  {
   "cell_type": "code",
   "execution_count": 20,
   "id": "8dec111d-fd08-4ed8-8244-4d290135eb83",
   "metadata": {},
   "outputs": [
    {
     "name": "stderr",
     "output_type": "stream",
     "text": [
      "/home/ubuntu/miniconda3/lib/python3.9/site-packages/pytorch_lightning/loggers/wandb.py:347: UserWarning: There is a wandb run already in progress and newly created instances of `WandbLogger` will reuse this run. If this is not desired, call `wandb.finish()` before instantiating `WandbLogger`.\n",
      "  rank_zero_warn(\n",
      "GPU available: True, used: True\n",
      "TPU available: False, using: 0 TPU cores\n",
      "IPU available: False, using: 0 IPUs\n",
      "HPU available: False, using: 0 HPUs\n",
      "LOCAL_RANK: 0 - CUDA_VISIBLE_DEVICES: [0]\n",
      "\n",
      "   | Name                               | Type                            | Params\n",
      "----------------------------------------------------------------------------------------\n",
      "0  | loss                               | QuantileLoss                    | 0     \n",
      "1  | logging_metrics                    | ModuleList                      | 0     \n",
      "2  | input_embeddings                   | MultiEmbedding                  | 1.6 K \n",
      "3  | prescalers                         | ModuleDict                      | 4.8 K \n",
      "4  | static_variable_selection          | VariableSelectionNetwork        | 0     \n",
      "5  | encoder_variable_selection         | VariableSelectionNetwork        | 210 K \n",
      "6  | decoder_variable_selection         | VariableSelectionNetwork        | 210 K \n",
      "7  | static_context_variable_selection  | GatedResidualNetwork            | 1.1 K \n",
      "8  | static_context_initial_hidden_lstm | GatedResidualNetwork            | 1.1 K \n",
      "9  | static_context_initial_cell_lstm   | GatedResidualNetwork            | 1.1 K \n",
      "10 | static_context_enrichment          | GatedResidualNetwork            | 1.1 K \n",
      "11 | lstm_encoder                       | LSTM                            | 2.2 K \n",
      "12 | lstm_decoder                       | LSTM                            | 2.2 K \n",
      "13 | post_lstm_gate_encoder             | GatedLinearUnit                 | 544   \n",
      "14 | post_lstm_add_norm_encoder         | AddNorm                         | 32    \n",
      "15 | static_enrichment                  | GatedResidualNetwork            | 1.4 K \n",
      "16 | multihead_attn                     | InterpretableMultiHeadAttention | 1.1 K \n",
      "17 | post_attn_gate_norm                | GateAddNorm                     | 576   \n",
      "18 | pos_wise_ff                        | GatedResidualNetwork            | 1.1 K \n",
      "19 | pre_output_gate_norm               | GateAddNorm                     | 576   \n",
      "20 | output_layer                       | Linear                          | 119   \n",
      "----------------------------------------------------------------------------------------\n",
      "431 K     Trainable params\n",
      "0         Non-trainable params\n",
      "431 K     Total params\n",
      "1.725     Total estimated model params size (MB)\n"
     ]
    },
    {
     "data": {
      "application/vnd.jupyter.widget-view+json": {
       "model_id": "",
       "version_major": 2,
       "version_minor": 0
      },
      "text/plain": [
       "Sanity Checking: 0it [00:00, ?it/s]"
      ]
     },
     "metadata": {},
     "output_type": "display_data"
    },
    {
     "data": {
      "application/vnd.jupyter.widget-view+json": {
       "model_id": "012eb9222485431888848d943908e885",
       "version_major": 2,
       "version_minor": 0
      },
      "text/plain": [
       "Training: 0it [00:00, ?it/s]"
      ]
     },
     "metadata": {},
     "output_type": "display_data"
    },
    {
     "name": "stderr",
     "output_type": "stream",
     "text": [
      "Traceback (most recent call last):\n",
      "  File \"/home/ubuntu/miniconda3/lib/python3.9/multiprocessing/queues.py\", line 241, in _feed\n",
      "    close()\n",
      "  File \"/home/ubuntu/miniconda3/lib/python3.9/multiprocessing/connection.py\", line 182, in close\n",
      "    self._close()\n",
      "  File \"/home/ubuntu/miniconda3/lib/python3.9/multiprocessing/connection.py\", line 366, in _close\n",
      "    _close(self._handle)\n",
      "OSError: [Errno 9] Bad file descriptor\n"
     ]
    },
    {
     "data": {
      "application/vnd.jupyter.widget-view+json": {
       "model_id": "",
       "version_major": 2,
       "version_minor": 0
      },
      "text/plain": [
       "Validation: 0it [00:00, ?it/s]"
      ]
     },
     "metadata": {},
     "output_type": "display_data"
    },
    {
     "data": {
      "application/vnd.jupyter.widget-view+json": {
       "model_id": "",
       "version_major": 2,
       "version_minor": 0
      },
      "text/plain": [
       "Validation: 0it [00:00, ?it/s]"
      ]
     },
     "metadata": {},
     "output_type": "display_data"
    },
    {
     "data": {
      "application/vnd.jupyter.widget-view+json": {
       "model_id": "",
       "version_major": 2,
       "version_minor": 0
      },
      "text/plain": [
       "Validation: 0it [00:00, ?it/s]"
      ]
     },
     "metadata": {},
     "output_type": "display_data"
    },
    {
     "data": {
      "application/vnd.jupyter.widget-view+json": {
       "model_id": "",
       "version_major": 2,
       "version_minor": 0
      },
      "text/plain": [
       "Validation: 0it [00:00, ?it/s]"
      ]
     },
     "metadata": {},
     "output_type": "display_data"
    },
    {
     "data": {
      "application/vnd.jupyter.widget-view+json": {
       "model_id": "",
       "version_major": 2,
       "version_minor": 0
      },
      "text/plain": [
       "Validation: 0it [00:00, ?it/s]"
      ]
     },
     "metadata": {},
     "output_type": "display_data"
    },
    {
     "data": {
      "application/vnd.jupyter.widget-view+json": {
       "model_id": "",
       "version_major": 2,
       "version_minor": 0
      },
      "text/plain": [
       "Validation: 0it [00:00, ?it/s]"
      ]
     },
     "metadata": {},
     "output_type": "display_data"
    },
    {
     "data": {
      "application/vnd.jupyter.widget-view+json": {
       "model_id": "",
       "version_major": 2,
       "version_minor": 0
      },
      "text/plain": [
       "Validation: 0it [00:00, ?it/s]"
      ]
     },
     "metadata": {},
     "output_type": "display_data"
    },
    {
     "name": "stderr",
     "output_type": "stream",
     "text": [
      "Exception ignored in: <module 'threading' from '/home/ubuntu/miniconda3/lib/python3.9/threading.py'>\n",
      "Traceback (most recent call last):\n",
      "  File \"/home/ubuntu/miniconda3/lib/python3.9/threading.py\", line 1448, in _shutdown\n",
      "    lock.acquire()\n",
      "KeyboardInterrupt: \n",
      "Exception in thread SockSrvIntRdThr:\n",
      "Traceback (most recent call last):\n",
      "  File \"/home/ubuntu/miniconda3/lib/python3.9/threading.py\", line 973, in _bootstrap_inner\n",
      "    self.run()\n",
      "  File \"/home/ubuntu/miniconda3/lib/python3.9/site-packages/wandb/sdk/service/server_sock.py\", line 61, in run\n",
      "    result = self._iface.relay_q.get(timeout=1)\n",
      "  File \"/home/ubuntu/miniconda3/lib/python3.9/multiprocessing/queues.py\", line 117, in get\n",
      "    res = self._recv_bytes()\n",
      "  File \"/home/ubuntu/miniconda3/lib/python3.9/multiprocessing/connection.py\", line 221, in recv_bytes\n",
      "    buf = self._recv_bytes(maxlength)\n",
      "  File \"/home/ubuntu/miniconda3/lib/python3.9/multiprocessing/connection.py\", line 419, in _recv_bytes\n",
      "    buf = self._recv(4)\n",
      "  File \"/home/ubuntu/miniconda3/lib/python3.9/multiprocessing/connection.py\", line 388, in _recv\n",
      "    raise EOFError\n",
      "EOFError\n",
      "Error in atexit._run_exitfuncs:\n",
      "Traceback (most recent call last):\n",
      "  File \"/home/ubuntu/miniconda3/lib/python3.9/site-packages/wandb/sdk/wandb_manager.py\", line 126, in <lambda>\n",
      "    self._atexit_lambda = lambda: self._atexit_teardown()\n",
      "  File \"/home/ubuntu/miniconda3/lib/python3.9/site-packages/wandb/sdk/wandb_manager.py\", line 134, in _atexit_teardown\n",
      "    self._teardown(exit_code)\n",
      "  File \"/home/ubuntu/miniconda3/lib/python3.9/site-packages/wandb/sdk/wandb_manager.py\", line 140, in _teardown\n",
      "    self._inform_teardown(exit_code)\n",
      "  File \"/home/ubuntu/miniconda3/lib/python3.9/site-packages/wandb/sdk/wandb_manager.py\", line 174, in _inform_teardown\n",
      "    svc_iface._svc_inform_teardown(exit_code)\n",
      "  File \"/home/ubuntu/miniconda3/lib/python3.9/site-packages/wandb/sdk/service/service_sock.py\", line 69, in _svc_inform_teardown\n",
      "    self._sock_client.send(inform_teardown=inform_teardown)\n",
      "  File \"/home/ubuntu/miniconda3/lib/python3.9/site-packages/wandb/sdk/lib/sock_client.py\", line 113, in send\n",
      "    self.send_server_request(server_req)\n",
      "  File \"/home/ubuntu/miniconda3/lib/python3.9/site-packages/wandb/sdk/lib/sock_client.py\", line 57, in send_server_request\n",
      "    self._send_message(msg)\n",
      "  File \"/home/ubuntu/miniconda3/lib/python3.9/site-packages/wandb/sdk/lib/sock_client.py\", line 54, in _send_message\n",
      "    self._sock.send(header + data)\n",
      "BrokenPipeError: [Errno 32] Broken pipe\n"
     ]
    }
   ],
   "source": [
    "from pytorch_lightning.loggers import WandbLogger\n",
    "#DIR_LOGS = '/content/logs' \n",
    "# configure network and trainer\n",
    "early_stop_callback = EarlyStopping(monitor=\"val_loss\", min_delta=1e-4, patience=10, verbose=False, mode=\"min\")\n",
    "lr_logger = LearningRateMonitor()  # log the learning rate\n",
    "\n",
    "checkpoint_callback = ModelCheckpoint(monitor='val_SMAPE', dirpath='/home/ubuntu/efs/project/', save_top_k=2, filename='500-default-{epoch:02d}-{val_SMAPE:.2f}')\n",
    "\n",
    "wandb_logger = WandbLogger(project=\"ubiquant\", log_model=True)\n",
    "\n",
    "trainer = pl.Trainer(\n",
    "    max_epochs=50,\n",
    "    gpus=1,\n",
    "    weights_summary=\"top\",\n",
    "    gradient_clip_val=0.1,\n",
    "#    limit_train_batches=30,  # coment in for training, running valiation every 30 batches\n",
    "    # fast_dev_run=True,  # comment in to check that networkor dataset has no serious bugs\n",
    "    callbacks=[lr_logger, early_stop_callback, checkpoint_callback],\n",
    "    logger=wandb_logger,\n",
    ")\n",
    "# fit network\n",
    "trainer.fit(\n",
    "    tft_model,\n",
    "    train_dataloaders=train_dataloader,\n",
    "    val_dataloaders=val_dataloader,\n",
    ")"
   ]
  },
  {
   "cell_type": "code",
   "execution_count": null,
   "id": "84b5b2e5-0938-4315-a7d7-6a73e720e47a",
   "metadata": {},
   "outputs": [],
   "source": []
  }
 ],
 "metadata": {
  "kernelspec": {
   "display_name": "Python 3 (ipykernel)",
   "language": "python",
   "name": "python3"
  },
  "language_info": {
   "codemirror_mode": {
    "name": "ipython",
    "version": 3
   },
   "file_extension": ".py",
   "mimetype": "text/x-python",
   "name": "python",
   "nbconvert_exporter": "python",
   "pygments_lexer": "ipython3",
   "version": "3.9.7"
  }
 },
 "nbformat": 4,
 "nbformat_minor": 5
}
