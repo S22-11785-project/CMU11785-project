{
 "cells": [
  {
   "cell_type": "code",
   "execution_count": 1,
   "id": "8a3fe198-8be1-4866-b2a2-6122ff6e9caf",
   "metadata": {},
   "outputs": [
    {
     "name": "stderr",
     "output_type": "stream",
     "text": [
      "/home/user/anaconda3/envs/11785_project/lib/python3.9/site-packages/tqdm/auto.py:22: TqdmWarning: IProgress not found. Please update jupyter and ipywidgets. See https://ipywidgets.readthedocs.io/en/stable/user_install.html\n",
      "  from .autonotebook import tqdm as notebook_tqdm\n"
     ]
    }
   ],
   "source": [
    "import pandas as pd\n",
    "import numpy as np\n",
    "import gc\n",
    "import sys\n",
    "import os\n",
    "import torch\n",
    "from tqdm import tqdm"
   ]
  },
  {
   "cell_type": "code",
   "execution_count": 2,
   "id": "440d4e90-e690-4902-b592-257e9f6725ec",
   "metadata": {},
   "outputs": [],
   "source": [
    "import pytorch_lightning as pl\n",
    "from pytorch_lightning.loggers import TensorBoardLogger\n",
    "from pytorch_lightning.callbacks import EarlyStopping, LearningRateMonitor, ModelCheckpoint\n",
    "# import dataset, network to train and metric to optimize\n",
    "from pytorch_forecasting import TimeSeriesDataSet, TemporalFusionTransformer, QuantileLoss, DeepAR\n",
    "from pytorch_forecasting.data.encoders import NaNLabelEncoder "
   ]
  },
  {
   "cell_type": "markdown",
   "id": "925548d7-54dd-4b1a-8a11-764f00b74371",
   "metadata": {},
   "source": [
    "# Data"
   ]
  },
  {
   "cell_type": "markdown",
   "id": "bb4951e2-f594-48c0-bf43-aa25c3f5591e",
   "metadata": {},
   "source": [
    "## Download Data by DYJ"
   ]
  },
  {
   "cell_type": "code",
   "execution_count": 3,
   "id": "dcb74dc1-21ea-4bcc-9b55-b221b7e46edc",
   "metadata": {},
   "outputs": [],
   "source": [
    "if False:\n",
    "    !gdown 1yhCV0v-GgYAfhKnJptvqSZdivvnAa27M -O /home/ubuntu/data/databyid.zip\n",
    "    !unzip -q /home/ubuntu/data/databyid.zip -d /home/ubuntu/data"
   ]
  },
  {
   "cell_type": "code",
   "execution_count": 3,
   "id": "3145d759-207c-411a-a8f5-29a0984ad23c",
   "metadata": {},
   "outputs": [],
   "source": [
    "DIR_BYID = '/home/ubuntu/data/content/databyid'\n",
    "DIR_BYID = '/media/user/12TB1/HanLi/GitHub/CMU11785-project/local_data/content/databyid'\n",
    "ls_all_invest_ids = sorted([int(fn.split('.')[0]) for fn in os.listdir(os.path.join(DIR_BYID, 'target'))])\n",
    "\n",
    "f_cols = [f\"f_{i}\" for i in range(300)]\n",
    "\n",
    "n = 10\n",
    "ls_dfs = []\n",
    "for id in ls_all_invest_ids[:n]:\n",
    "    df_f_id = pd.DataFrame(np.load(os.path.join(DIR_BYID, f'feats/{id}.npy')), columns=f_cols)\n",
    "    df_t_id = pd.DataFrame(np.load(os.path.join(DIR_BYID, f'target/{id}.npy')), columns=['target'])\n",
    "    df_f_id['investment_id'] = id\n",
    "    ls_dfs.append(pd.concat([df_t_id, df_f_id], axis=1))\n",
    "\n",
    "df = pd.concat(ls_dfs).reset_index().rename(columns={'index': 'time_id'})\n",
    "df = df.sort_values(by=['time_id', 'investment_id']) # sort by time before splitting\n"
   ]
  },
  {
   "cell_type": "code",
   "execution_count": 4,
   "id": "9bcec439-b9c3-4d68-914c-9116c56b1576",
   "metadata": {},
   "outputs": [
    {
     "data": {
      "text/plain": [
       "time_id            int64\n",
       "target           float64\n",
       "f_0              float64\n",
       "f_1              float64\n",
       "f_2              float64\n",
       "                  ...   \n",
       "f_296            float64\n",
       "f_297            float64\n",
       "f_298            float64\n",
       "f_299            float64\n",
       "investment_id     object\n",
       "Length: 303, dtype: object"
      ]
     },
     "execution_count": 4,
     "metadata": {},
     "output_type": "execute_result"
    }
   ],
   "source": [
    "df.reset_index(drop=True, inplace=True)\n",
    "\n",
    "df.investment_id = df.investment_id.astype(str)\n",
    "df.time_id = df.time_id.astype(int)\n",
    "df.dtypes"
   ]
  },
  {
   "cell_type": "code",
   "execution_count": 5,
   "id": "6a3cdc34-1c1c-4187-911f-e8f9ecbb5d55",
   "metadata": {},
   "outputs": [
    {
     "data": {
      "text/html": [
       "<div>\n",
       "<style scoped>\n",
       "    .dataframe tbody tr th:only-of-type {\n",
       "        vertical-align: middle;\n",
       "    }\n",
       "\n",
       "    .dataframe tbody tr th {\n",
       "        vertical-align: top;\n",
       "    }\n",
       "\n",
       "    .dataframe thead th {\n",
       "        text-align: right;\n",
       "    }\n",
       "</style>\n",
       "<table border=\"1\" class=\"dataframe\">\n",
       "  <thead>\n",
       "    <tr style=\"text-align: right;\">\n",
       "      <th></th>\n",
       "      <th>time_id</th>\n",
       "      <th>target</th>\n",
       "      <th>f_0</th>\n",
       "      <th>f_1</th>\n",
       "      <th>f_2</th>\n",
       "      <th>f_3</th>\n",
       "      <th>f_4</th>\n",
       "      <th>f_5</th>\n",
       "      <th>f_6</th>\n",
       "      <th>f_7</th>\n",
       "      <th>...</th>\n",
       "      <th>f_291</th>\n",
       "      <th>f_292</th>\n",
       "      <th>f_293</th>\n",
       "      <th>f_294</th>\n",
       "      <th>f_295</th>\n",
       "      <th>f_296</th>\n",
       "      <th>f_297</th>\n",
       "      <th>f_298</th>\n",
       "      <th>f_299</th>\n",
       "      <th>investment_id</th>\n",
       "    </tr>\n",
       "  </thead>\n",
       "  <tbody>\n",
       "    <tr>\n",
       "      <th>0</th>\n",
       "      <td>0</td>\n",
       "      <td>0.000000</td>\n",
       "      <td>0.000000</td>\n",
       "      <td>0.000000</td>\n",
       "      <td>0.000000</td>\n",
       "      <td>0.000000</td>\n",
       "      <td>0.000000</td>\n",
       "      <td>0.000000</td>\n",
       "      <td>0.000000</td>\n",
       "      <td>0.000000</td>\n",
       "      <td>...</td>\n",
       "      <td>0.000000</td>\n",
       "      <td>0.000000</td>\n",
       "      <td>0.000000</td>\n",
       "      <td>0.000000</td>\n",
       "      <td>0.000000</td>\n",
       "      <td>0.000000</td>\n",
       "      <td>0.000000</td>\n",
       "      <td>0.000000</td>\n",
       "      <td>0.000000</td>\n",
       "      <td>0</td>\n",
       "    </tr>\n",
       "    <tr>\n",
       "      <th>1</th>\n",
       "      <td>0</td>\n",
       "      <td>-0.300875</td>\n",
       "      <td>0.932573</td>\n",
       "      <td>0.113691</td>\n",
       "      <td>-0.402206</td>\n",
       "      <td>0.378386</td>\n",
       "      <td>-0.203938</td>\n",
       "      <td>-0.413469</td>\n",
       "      <td>0.965623</td>\n",
       "      <td>1.230508</td>\n",
       "      <td>...</td>\n",
       "      <td>-1.095620</td>\n",
       "      <td>0.200075</td>\n",
       "      <td>0.819155</td>\n",
       "      <td>0.941183</td>\n",
       "      <td>-0.086764</td>\n",
       "      <td>-1.087009</td>\n",
       "      <td>-1.044826</td>\n",
       "      <td>-0.287605</td>\n",
       "      <td>0.321566</td>\n",
       "      <td>1</td>\n",
       "    </tr>\n",
       "    <tr>\n",
       "      <th>2</th>\n",
       "      <td>0</td>\n",
       "      <td>-0.231040</td>\n",
       "      <td>0.810802</td>\n",
       "      <td>-0.514115</td>\n",
       "      <td>0.742368</td>\n",
       "      <td>-0.616673</td>\n",
       "      <td>-0.194255</td>\n",
       "      <td>1.771210</td>\n",
       "      <td>1.428127</td>\n",
       "      <td>1.134144</td>\n",
       "      <td>...</td>\n",
       "      <td>0.912726</td>\n",
       "      <td>-0.734579</td>\n",
       "      <td>0.819155</td>\n",
       "      <td>0.941183</td>\n",
       "      <td>-0.387617</td>\n",
       "      <td>-1.087009</td>\n",
       "      <td>-0.929529</td>\n",
       "      <td>-0.974060</td>\n",
       "      <td>-0.343624</td>\n",
       "      <td>2</td>\n",
       "    </tr>\n",
       "    <tr>\n",
       "      <th>3</th>\n",
       "      <td>0</td>\n",
       "      <td>0.000000</td>\n",
       "      <td>0.810802</td>\n",
       "      <td>-0.514115</td>\n",
       "      <td>0.742368</td>\n",
       "      <td>-0.616673</td>\n",
       "      <td>-0.194255</td>\n",
       "      <td>1.771210</td>\n",
       "      <td>1.428127</td>\n",
       "      <td>1.134144</td>\n",
       "      <td>...</td>\n",
       "      <td>0.912726</td>\n",
       "      <td>-0.734579</td>\n",
       "      <td>0.819155</td>\n",
       "      <td>0.941183</td>\n",
       "      <td>-0.387617</td>\n",
       "      <td>-1.087009</td>\n",
       "      <td>-0.929529</td>\n",
       "      <td>-0.974060</td>\n",
       "      <td>-0.343624</td>\n",
       "      <td>3</td>\n",
       "    </tr>\n",
       "    <tr>\n",
       "      <th>4</th>\n",
       "      <td>0</td>\n",
       "      <td>0.000000</td>\n",
       "      <td>0.810802</td>\n",
       "      <td>-0.514115</td>\n",
       "      <td>0.742368</td>\n",
       "      <td>-0.616673</td>\n",
       "      <td>-0.194255</td>\n",
       "      <td>1.771210</td>\n",
       "      <td>1.428127</td>\n",
       "      <td>1.134144</td>\n",
       "      <td>...</td>\n",
       "      <td>0.912726</td>\n",
       "      <td>-0.734579</td>\n",
       "      <td>0.819155</td>\n",
       "      <td>0.941183</td>\n",
       "      <td>-0.387617</td>\n",
       "      <td>-1.087009</td>\n",
       "      <td>-0.929529</td>\n",
       "      <td>-0.974060</td>\n",
       "      <td>-0.343624</td>\n",
       "      <td>4</td>\n",
       "    </tr>\n",
       "    <tr>\n",
       "      <th>...</th>\n",
       "      <td>...</td>\n",
       "      <td>...</td>\n",
       "      <td>...</td>\n",
       "      <td>...</td>\n",
       "      <td>...</td>\n",
       "      <td>...</td>\n",
       "      <td>...</td>\n",
       "      <td>...</td>\n",
       "      <td>...</td>\n",
       "      <td>...</td>\n",
       "      <td>...</td>\n",
       "      <td>...</td>\n",
       "      <td>...</td>\n",
       "      <td>...</td>\n",
       "      <td>...</td>\n",
       "      <td>...</td>\n",
       "      <td>...</td>\n",
       "      <td>...</td>\n",
       "      <td>...</td>\n",
       "      <td>...</td>\n",
       "      <td>...</td>\n",
       "    </tr>\n",
       "    <tr>\n",
       "      <th>12195</th>\n",
       "      <td>1219</td>\n",
       "      <td>0.000000</td>\n",
       "      <td>-2.249727</td>\n",
       "      <td>0.580445</td>\n",
       "      <td>-0.497117</td>\n",
       "      <td>1.009598</td>\n",
       "      <td>0.234179</td>\n",
       "      <td>-2.126438</td>\n",
       "      <td>-0.039451</td>\n",
       "      <td>-0.181319</td>\n",
       "      <td>...</td>\n",
       "      <td>0.811402</td>\n",
       "      <td>-1.168044</td>\n",
       "      <td>0.875537</td>\n",
       "      <td>0.421628</td>\n",
       "      <td>0.132988</td>\n",
       "      <td>-0.075548</td>\n",
       "      <td>-1.190996</td>\n",
       "      <td>1.102322</td>\n",
       "      <td>0.403788</td>\n",
       "      <td>5</td>\n",
       "    </tr>\n",
       "    <tr>\n",
       "      <th>12196</th>\n",
       "      <td>1219</td>\n",
       "      <td>0.026752</td>\n",
       "      <td>-0.594910</td>\n",
       "      <td>0.580445</td>\n",
       "      <td>0.611330</td>\n",
       "      <td>-0.459240</td>\n",
       "      <td>-0.132116</td>\n",
       "      <td>0.518428</td>\n",
       "      <td>-0.466611</td>\n",
       "      <td>-0.959206</td>\n",
       "      <td>...</td>\n",
       "      <td>-1.232434</td>\n",
       "      <td>-0.089092</td>\n",
       "      <td>0.875537</td>\n",
       "      <td>0.421628</td>\n",
       "      <td>-0.498323</td>\n",
       "      <td>-0.075548</td>\n",
       "      <td>-0.105665</td>\n",
       "      <td>-1.321038</td>\n",
       "      <td>-0.132180</td>\n",
       "      <td>6</td>\n",
       "    </tr>\n",
       "    <tr>\n",
       "      <th>12197</th>\n",
       "      <td>1219</td>\n",
       "      <td>0.000000</td>\n",
       "      <td>-0.594910</td>\n",
       "      <td>0.580445</td>\n",
       "      <td>0.611330</td>\n",
       "      <td>-0.459240</td>\n",
       "      <td>-0.132116</td>\n",
       "      <td>0.518428</td>\n",
       "      <td>-0.466611</td>\n",
       "      <td>-0.959206</td>\n",
       "      <td>...</td>\n",
       "      <td>-1.232434</td>\n",
       "      <td>-0.089092</td>\n",
       "      <td>0.875537</td>\n",
       "      <td>0.421628</td>\n",
       "      <td>-0.498323</td>\n",
       "      <td>-0.075548</td>\n",
       "      <td>-0.105665</td>\n",
       "      <td>-1.321038</td>\n",
       "      <td>-0.132180</td>\n",
       "      <td>7</td>\n",
       "    </tr>\n",
       "    <tr>\n",
       "      <th>12198</th>\n",
       "      <td>1219</td>\n",
       "      <td>-0.727649</td>\n",
       "      <td>0.514724</td>\n",
       "      <td>1.621022</td>\n",
       "      <td>-0.747425</td>\n",
       "      <td>-0.430440</td>\n",
       "      <td>-0.181709</td>\n",
       "      <td>-0.954293</td>\n",
       "      <td>-1.774378</td>\n",
       "      <td>2.272305</td>\n",
       "      <td>...</td>\n",
       "      <td>-1.232434</td>\n",
       "      <td>-0.419952</td>\n",
       "      <td>0.875537</td>\n",
       "      <td>-2.371759</td>\n",
       "      <td>-0.332430</td>\n",
       "      <td>1.363181</td>\n",
       "      <td>-0.299573</td>\n",
       "      <td>0.881399</td>\n",
       "      <td>-0.540605</td>\n",
       "      <td>8</td>\n",
       "    </tr>\n",
       "    <tr>\n",
       "      <th>12199</th>\n",
       "      <td>1219</td>\n",
       "      <td>-0.731196</td>\n",
       "      <td>0.558162</td>\n",
       "      <td>-1.760851</td>\n",
       "      <td>0.553427</td>\n",
       "      <td>-0.443278</td>\n",
       "      <td>-0.154926</td>\n",
       "      <td>-0.569990</td>\n",
       "      <td>1.246713</td>\n",
       "      <td>-0.653565</td>\n",
       "      <td>...</td>\n",
       "      <td>0.811402</td>\n",
       "      <td>0.664566</td>\n",
       "      <td>-1.142157</td>\n",
       "      <td>0.421628</td>\n",
       "      <td>-0.100885</td>\n",
       "      <td>-1.514277</td>\n",
       "      <td>-0.125214</td>\n",
       "      <td>0.655368</td>\n",
       "      <td>-0.292823</td>\n",
       "      <td>9</td>\n",
       "    </tr>\n",
       "  </tbody>\n",
       "</table>\n",
       "<p>12200 rows × 303 columns</p>\n",
       "</div>"
      ],
      "text/plain": [
       "       time_id    target       f_0       f_1       f_2       f_3       f_4  \\\n",
       "0            0  0.000000  0.000000  0.000000  0.000000  0.000000  0.000000   \n",
       "1            0 -0.300875  0.932573  0.113691 -0.402206  0.378386 -0.203938   \n",
       "2            0 -0.231040  0.810802 -0.514115  0.742368 -0.616673 -0.194255   \n",
       "3            0  0.000000  0.810802 -0.514115  0.742368 -0.616673 -0.194255   \n",
       "4            0  0.000000  0.810802 -0.514115  0.742368 -0.616673 -0.194255   \n",
       "...        ...       ...       ...       ...       ...       ...       ...   \n",
       "12195     1219  0.000000 -2.249727  0.580445 -0.497117  1.009598  0.234179   \n",
       "12196     1219  0.026752 -0.594910  0.580445  0.611330 -0.459240 -0.132116   \n",
       "12197     1219  0.000000 -0.594910  0.580445  0.611330 -0.459240 -0.132116   \n",
       "12198     1219 -0.727649  0.514724  1.621022 -0.747425 -0.430440 -0.181709   \n",
       "12199     1219 -0.731196  0.558162 -1.760851  0.553427 -0.443278 -0.154926   \n",
       "\n",
       "            f_5       f_6       f_7  ...     f_291     f_292     f_293  \\\n",
       "0      0.000000  0.000000  0.000000  ...  0.000000  0.000000  0.000000   \n",
       "1     -0.413469  0.965623  1.230508  ... -1.095620  0.200075  0.819155   \n",
       "2      1.771210  1.428127  1.134144  ...  0.912726 -0.734579  0.819155   \n",
       "3      1.771210  1.428127  1.134144  ...  0.912726 -0.734579  0.819155   \n",
       "4      1.771210  1.428127  1.134144  ...  0.912726 -0.734579  0.819155   \n",
       "...         ...       ...       ...  ...       ...       ...       ...   \n",
       "12195 -2.126438 -0.039451 -0.181319  ...  0.811402 -1.168044  0.875537   \n",
       "12196  0.518428 -0.466611 -0.959206  ... -1.232434 -0.089092  0.875537   \n",
       "12197  0.518428 -0.466611 -0.959206  ... -1.232434 -0.089092  0.875537   \n",
       "12198 -0.954293 -1.774378  2.272305  ... -1.232434 -0.419952  0.875537   \n",
       "12199 -0.569990  1.246713 -0.653565  ...  0.811402  0.664566 -1.142157   \n",
       "\n",
       "          f_294     f_295     f_296     f_297     f_298     f_299  \\\n",
       "0      0.000000  0.000000  0.000000  0.000000  0.000000  0.000000   \n",
       "1      0.941183 -0.086764 -1.087009 -1.044826 -0.287605  0.321566   \n",
       "2      0.941183 -0.387617 -1.087009 -0.929529 -0.974060 -0.343624   \n",
       "3      0.941183 -0.387617 -1.087009 -0.929529 -0.974060 -0.343624   \n",
       "4      0.941183 -0.387617 -1.087009 -0.929529 -0.974060 -0.343624   \n",
       "...         ...       ...       ...       ...       ...       ...   \n",
       "12195  0.421628  0.132988 -0.075548 -1.190996  1.102322  0.403788   \n",
       "12196  0.421628 -0.498323 -0.075548 -0.105665 -1.321038 -0.132180   \n",
       "12197  0.421628 -0.498323 -0.075548 -0.105665 -1.321038 -0.132180   \n",
       "12198 -2.371759 -0.332430  1.363181 -0.299573  0.881399 -0.540605   \n",
       "12199  0.421628 -0.100885 -1.514277 -0.125214  0.655368 -0.292823   \n",
       "\n",
       "       investment_id  \n",
       "0                  0  \n",
       "1                  1  \n",
       "2                  2  \n",
       "3                  3  \n",
       "4                  4  \n",
       "...              ...  \n",
       "12195              5  \n",
       "12196              6  \n",
       "12197              7  \n",
       "12198              8  \n",
       "12199              9  \n",
       "\n",
       "[12200 rows x 303 columns]"
      ]
     },
     "execution_count": 5,
     "metadata": {},
     "output_type": "execute_result"
    }
   ],
   "source": [
    "df"
   ]
  },
  {
   "cell_type": "code",
   "execution_count": 6,
   "id": "d49a6666-e1bb-4760-8a2a-d66a6fdef2c4",
   "metadata": {},
   "outputs": [],
   "source": [
    "max_encoder_length = 12\n",
    "max_prediction_length = 1\n",
    "training_cutoff = 1000"
   ]
  },
  {
   "cell_type": "code",
   "execution_count": 7,
   "id": "d0ce314a-40c8-49f5-90f9-14d0097d6cd8",
   "metadata": {},
   "outputs": [],
   "source": [
    "training = TimeSeriesDataSet(\n",
    "    df[lambda x: x.time_id <= training_cutoff],\n",
    "    time_idx='time_id',  # column name of time of observation\n",
    "    target='target',  # column name of target to predict\n",
    "    group_ids=['investment_id'],  # column name(s) for timeseries IDs\n",
    "    max_encoder_length=max_encoder_length,  # how much history to use\n",
    "    max_prediction_length=max_prediction_length,  # how far to predict into future\n",
    "    # covariates static for a timeseries ID\n",
    "    static_categoricals=[],\n",
    "    static_reals=[],\n",
    "    # investment_id as categorical covariates that are known in the future for preddiction\n",
    "    time_varying_known_categoricals=['investment_id'],\n",
    "    # put in f_cols and time_id as real covariates that are known in the future for prediction\n",
    "    time_varying_known_reals = f_cols + ['time_id'],\n",
    "    time_varying_unknown_categoricals=[],\n",
    "    time_varying_unknown_reals=[],\n",
    "    allow_missing_timesteps=False,\n",
    "    # having add_nan=True in Encoder allows us to predict unseen investments\n",
    "    categorical_encoders = {'__group_id__investment_id': NaNLabelEncoder(add_nan=True), 'investment_id': NaNLabelEncoder(add_nan=True)}\n",
    ")"
   ]
  },
  {
   "cell_type": "code",
   "execution_count": 8,
   "id": "52d2432d-2998-44f2-a263-cc71f2f0f1cd",
   "metadata": {},
   "outputs": [],
   "source": [
    "train_dataloader = training.to_dataloader(train=True, batch_size=128, num_workers=4)"
   ]
  },
  {
   "cell_type": "code",
   "execution_count": 12,
   "id": "55ba102f-10aa-4289-aed4-dab56ee4fd78",
   "metadata": {},
   "outputs": [],
   "source": [
    "#training.get_parameters()"
   ]
  },
  {
   "cell_type": "code",
   "execution_count": 9,
   "id": "eea17cbe-ef90-4aef-8243-0fd7b404acf4",
   "metadata": {},
   "outputs": [],
   "source": [
    "validation = TimeSeriesDataSet.from_dataset(training, df, predict=True, stop_randomization=True,\n",
    "    categorical_encoders = {'__group_id__investment_id': NaNLabelEncoder(add_nan=True), 'investment_id': NaNLabelEncoder(add_nan=True)})"
   ]
  },
  {
   "cell_type": "code",
   "execution_count": 10,
   "id": "d07a83e1-8414-49c9-83d6-cb5022f9b877",
   "metadata": {},
   "outputs": [],
   "source": [
    "val_dataloader = validation.to_dataloader(train=False, batch_size=32 * 10, num_workers=4)"
   ]
  },
  {
   "cell_type": "code",
   "execution_count": 15,
   "id": "f552fabd-b916-4dce-ae70-27d35f57bc08",
   "metadata": {},
   "outputs": [],
   "source": [
    "training.save(\"training.pkl\")\n",
    "validation.save(\"validation.pkl\")\n"
   ]
  },
  {
   "cell_type": "code",
   "execution_count": 11,
   "id": "e9e70186-af53-476c-95a6-f80f77a898c2",
   "metadata": {},
   "outputs": [
    {
     "name": "stderr",
     "output_type": "stream",
     "text": [
      "Global seed set to 42\n",
      "/home/user/anaconda3/envs/11785_project/lib/python3.9/site-packages/pytorch_lightning/loops/utilities.py:91: PossibleUserWarning: `max_epochs` was not set. Setting it to 1000 epochs. To train without an epoch limit, set `max_epochs=-1`.\n",
      "  rank_zero_warn(\n",
      "GPU available: True, used: True\n",
      "TPU available: False, using: 0 TPU cores\n",
      "IPU available: False, using: 0 IPUs\n",
      "HPU available: False, using: 0 HPUs\n",
      "/home/user/anaconda3/envs/11785_project/lib/python3.9/site-packages/pytorch_lightning/utilities/parsing.py:244: UserWarning: Attribute 'loss' is an instance of `nn.Module` and is already saved during checkpointing. It is recommended to ignore them using `self.save_hyperparameters(ignore=['loss'])`.\n",
      "  rank_zero_warn(\n",
      "/home/user/anaconda3/envs/11785_project/lib/python3.9/site-packages/pytorch_lightning/utilities/parsing.py:244: UserWarning: Attribute 'logging_metrics' is an instance of `nn.Module` and is already saved during checkpointing. It is recommended to ignore them using `self.save_hyperparameters(ignore=['logging_metrics'])`.\n",
      "  rank_zero_warn(\n"
     ]
    },
    {
     "name": "stdout",
     "output_type": "stream",
     "text": [
      "Number of parameters in network: 429.3k\n"
     ]
    },
    {
     "name": "stderr",
     "output_type": "stream",
     "text": [
      "LOCAL_RANK: 0 - CUDA_VISIBLE_DEVICES: [0,1]\n",
      "Finding best initial lr: 100%|██████████| 100/100 [02:05<00:00,  1.20s/it]Restoring states from the checkpoint path at /media/user/12TB1/HanLi/GitHub/CMU11785-project/src/notebooks/.lr_find_adaf3cc0-dcea-4399-9c94-54c9944e0c10.ckpt\n",
      "/home/user/anaconda3/envs/11785_project/lib/python3.9/site-packages/pytorch_lightning/trainer/trainer.py:1721: UserWarning: Be aware that when using `ckpt_path`, callbacks used to create the checkpoint need to be provided during `Trainer` instantiation. Please add the following callbacks: [\"ModelCheckpoint{'monitor': None, 'mode': 'min', 'every_n_train_steps': 0, 'every_n_epochs': 1, 'train_time_interval': None, 'save_on_train_epoch_end': None}\"].\n",
      "  rank_zero_warn(\n",
      "Finding best initial lr: 100%|██████████| 100/100 [02:14<00:00,  1.35s/it]\n"
     ]
    },
    {
     "name": "stdout",
     "output_type": "stream",
     "text": [
      "suggested learning rate: 1.3182567385564071e-05\n"
     ]
    },
    {
     "data": {
      "image/png": "[encoded data removed]",
      "text/plain": [
       "<Figure size 432x288 with 1 Axes>"
      ]
     },
     "metadata": {
      "needs_background": "light"
     },
     "output_type": "display_data"
    }
   ],
   "source": [
    "pl.seed_everything(42)\n",
    "trainer = pl.Trainer(\n",
    "    gpus=1,\n",
    "    # clipping gradients is a hyperparameter and important to prevent divergance\n",
    "    # of the gradient for recurrent neural networks\n",
    "    gradient_clip_val=0.1,\n",
    ")\n",
    "\n",
    "tft_model = TemporalFusionTransformer.from_dataset(\n",
    "    training,\n",
    "    # not meaningful for finding the learning rate but otherwise very important\n",
    "    learning_rate=0.03,\n",
    "    hidden_size=16,  # most important hyperparameter apart from learning rate\n",
    "    # number of attention heads. Set to up to 4 for large datasets\n",
    "    attention_head_size=1,\n",
    "    dropout=0.1,  # between 0.1 and 0.3 are good values\n",
    "    hidden_continuous_size=8,  # set to <= hidden_size\n",
    "    output_size=7,  # 7 quantiles by default\n",
    "    loss=QuantileLoss(),\n",
    "    # reduce learning rate if no improvement in validation loss after x epochs\n",
    "    reduce_on_plateau_patience=4,\n",
    ")\n",
    "print(f\"Number of parameters in network: {tft_model.size()/1e3:.1f}k\")\n",
    "\n",
    "\n",
    "# find optimal learning rate\n",
    "res = trainer.tuner.lr_find(\n",
    "    tft_model,\n",
    "    train_dataloaders=train_dataloader,\n",
    "    val_dataloaders=val_dataloader,\n",
    "    max_lr=10.0,\n",
    "    min_lr=1e-6,\n",
    ")\n",
    "\n",
    "print(f\"suggested learning rate: {res.suggestion()}\")\n",
    "fig = res.plot(show=True, suggest=True)\n",
    "fig.show()\n"
   ]
  },
  {
   "cell_type": "code",
   "execution_count": 12,
   "id": "8dec111d-fd08-4ed8-8244-4d290135eb83",
   "metadata": {},
   "outputs": [
    {
     "name": "stderr",
     "output_type": "stream",
     "text": [
      "Failed to detect the name of this notebook, you can set it manually with the WANDB_NOTEBOOK_NAME environment variable to enable code saving.\n",
      "\u001b[34m\u001b[1mwandb\u001b[0m: Currently logged in as: \u001b[33mtsbyq_wb\u001b[0m (use `wandb login --relogin` to force relogin)\n"
     ]
    },
    {
     "data": {
      "text/html": [
       "wandb version 0.12.15 is available!  To upgrade, please run:\n",
       " $ pip install wandb --upgrade"
      ],
      "text/plain": [
       "<IPython.core.display.HTML object>"
      ]
     },
     "metadata": {},
     "output_type": "display_data"
    },
    {
     "data": {
      "text/html": [
       "Tracking run with wandb version 0.12.11"
      ],
      "text/plain": [
       "<IPython.core.display.HTML object>"
      ]
     },
     "metadata": {},
     "output_type": "display_data"
    },
    {
     "data": {
      "text/html": [
       "Run data is saved locally in <code>/media/user/12TB1/HanLi/GitHub/CMU11785-project/src/notebooks/wandb/run-20220421_222246-hvakg6ai</code>"
      ],
      "text/plain": [
       "<IPython.core.display.HTML object>"
      ]
     },
     "metadata": {},
     "output_type": "display_data"
    },
    {
     "data": {
      "text/html": [
       "Syncing run <strong><a href=\"https://wandb.ai/11785_project/PyTorchForecasting_test/runs/hvakg6ai\" target=\"_blank\">Test_421</a></strong> to <a href=\"https://wandb.ai/11785_project/PyTorchForecasting_test\" target=\"_blank\">Weights & Biases</a> (<a href=\"https://wandb.me/run\" target=\"_blank\">docs</a>)<br/>"
      ],
      "text/plain": [
       "<IPython.core.display.HTML object>"
      ]
     },
     "metadata": {},
     "output_type": "display_data"
    },
    {
     "name": "stderr",
     "output_type": "stream",
     "text": [
      "GPU available: True, used: True\n",
      "TPU available: False, using: 0 TPU cores\n",
      "IPU available: False, using: 0 IPUs\n",
      "HPU available: False, using: 0 HPUs\n",
      "/home/user/anaconda3/envs/11785_project/lib/python3.9/site-packages/pytorch_lightning/callbacks/model_checkpoint.py:608: UserWarning: Checkpoint directory /media/user/12TB1/HanLi/GitHub/CMU11785-project exists and is not empty.\n",
      "  rank_zero_warn(f\"Checkpoint directory {dirpath} exists and is not empty.\")\n",
      "LOCAL_RANK: 0 - CUDA_VISIBLE_DEVICES: [0,1]\n",
      "\n",
      "   | Name                               | Type                            | Params\n",
      "----------------------------------------------------------------------------------------\n",
      "0  | loss                               | QuantileLoss                    | 0     \n",
      "1  | logging_metrics                    | ModuleList                      | 0     \n",
      "2  | input_embeddings                   | MultiEmbedding                  | 66    \n",
      "3  | prescalers                         | ModuleDict                      | 4.8 K \n",
      "4  | static_variable_selection          | VariableSelectionNetwork        | 0     \n",
      "5  | encoder_variable_selection         | VariableSelectionNetwork        | 209 K \n",
      "6  | decoder_variable_selection         | VariableSelectionNetwork        | 209 K \n",
      "7  | static_context_variable_selection  | GatedResidualNetwork            | 1.1 K \n",
      "8  | static_context_initial_hidden_lstm | GatedResidualNetwork            | 1.1 K \n",
      "9  | static_context_initial_cell_lstm   | GatedResidualNetwork            | 1.1 K \n",
      "10 | static_context_enrichment          | GatedResidualNetwork            | 1.1 K \n",
      "11 | lstm_encoder                       | LSTM                            | 2.2 K \n",
      "12 | lstm_decoder                       | LSTM                            | 2.2 K \n",
      "13 | post_lstm_gate_encoder             | GatedLinearUnit                 | 544   \n",
      "14 | post_lstm_add_norm_encoder         | AddNorm                         | 32    \n",
      "15 | static_enrichment                  | GatedResidualNetwork            | 1.4 K \n",
      "16 | multihead_attn                     | InterpretableMultiHeadAttention | 1.1 K \n",
      "17 | post_attn_gate_norm                | GateAddNorm                     | 576   \n",
      "18 | pos_wise_ff                        | GatedResidualNetwork            | 1.1 K \n",
      "19 | pre_output_gate_norm               | GateAddNorm                     | 576   \n",
      "20 | output_layer                       | Linear                          | 119   \n",
      "----------------------------------------------------------------------------------------\n",
      "429 K     Trainable params\n",
      "0         Non-trainable params\n",
      "429 K     Total params\n",
      "1.717     Total estimated model params size (MB)\n"
     ]
    },
    {
     "name": "stdout",
     "output_type": "stream",
     "text": [
      "Epoch 4: 100%|██████████| 78/78 [08:29<00:00,  6.53s/it, loss=0.129, v_num=g6ai, train_loss_step=0.146, val_loss=0.167, train_loss_epoch=0.128]  \n"
     ]
    }
   ],
   "source": [
    "from pytorch_lightning.loggers import WandbLogger\n",
    "#DIR_LOGS = '/content/logs' \n",
    "# configure network and trainer\n",
    "early_stop_callback = EarlyStopping(monitor=\"val_loss\", min_delta=1e-4, patience=10, verbose=False, mode=\"min\")\n",
    "lr_logger = LearningRateMonitor()  # log the learning rate\n",
    "\n",
    "# checkpoint_callback = ModelCheckpoint(monitor='val_SMAPE', dirpath='/home/ubuntu/efs/project/', save_top_k=2, filename='500-default-{epoch:02d}-{val_SMAPE:.2f}')\n",
    "checkpoint_callback = ModelCheckpoint(monitor='val_SMAPE', dirpath='/media/user/12TB1/HanLi/GitHub/CMU11785-project/', save_top_k=2, filename='500-default-{epoch:02d}-{val_SMAPE:.2f}')\n",
    "\n",
    "# wandb_logger = WandbLogger(project=\"ubiquant\", log_model=True)\n",
    "\n",
    "wb_logger = WandbLogger(\n",
    "    entity=\"11785_project\",\n",
    "    project=\"PyTorchForecasting_test\",\n",
    "    name='Test_421',\n",
    "    log_model=True\n",
    ")\n",
    "\n",
    "trainer = pl.Trainer(\n",
    "    max_epochs=5,\n",
    "    gpus=1,\n",
    "    weights_summary=\"top\",\n",
    "    gradient_clip_val=0.1,\n",
    "#    limit_train_batches=30,  # coment in for training, running valiation every 30 batches\n",
    "    # fast_dev_run=True,  # comment in to check that networkor dataset has no serious bugs\n",
    "    callbacks=[lr_logger, early_stop_callback, checkpoint_callback],\n",
    "    logger=wb_logger,\n",
    ")\n",
    "# fit network\n",
    "trainer.fit(\n",
    "    tft_model,\n",
    "    train_dataloaders=train_dataloader,\n",
    "    val_dataloaders=val_dataloader,\n",
    ")"
   ]
  },
  {
   "cell_type": "code",
   "execution_count": null,
   "id": "84b5b2e5-0938-4315-a7d7-6a73e720e47a",
   "metadata": {},
   "outputs": [],
   "source": []
  }
 ],
 "metadata": {
  "kernelspec": {
   "display_name": "Python 3 (ipykernel)",
   "language": "python",
   "name": "python3"
  },
  "language_info": {
   "codemirror_mode": {
    "name": "ipython",
    "version": 3
   },
   "file_extension": ".py",
   "mimetype": "text/x-python",
   "name": "python",
   "nbconvert_exporter": "python",
   "pygments_lexer": "ipython3",
   "version": "3.9.7"
  }
 },
 "nbformat": 4,
 "nbformat_minor": 5
}
